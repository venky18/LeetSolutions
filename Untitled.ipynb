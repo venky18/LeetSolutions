{
 "cells": [
  {
   "cell_type": "code",
   "execution_count": 2,
   "metadata": {},
   "outputs": [
    {
     "ename": "JSONDecodeError",
     "evalue": "Expecting value: line 1 column 1 (char 0)",
     "output_type": "error",
     "traceback": [
      "\u001b[1;31m---------------------------------------------------------------------------\u001b[0m",
      "\u001b[1;31mJSONDecodeError\u001b[0m                           Traceback (most recent call last)",
      "\u001b[1;32m<ipython-input-2-a8633f845f9b>\u001b[0m in \u001b[0;36m<module>\u001b[1;34m()\u001b[0m\n\u001b[0;32m      1\u001b[0m \u001b[1;32mimport\u001b[0m \u001b[0mjson\u001b[0m\u001b[1;33m\u001b[0m\u001b[0m\n\u001b[0;32m      2\u001b[0m \u001b[1;33m\u001b[0m\u001b[0m\n\u001b[1;32m----> 3\u001b[1;33m \u001b[0mjson\u001b[0m\u001b[1;33m.\u001b[0m\u001b[0mloads\u001b[0m\u001b[1;33m(\u001b[0m\u001b[0mopen\u001b[0m\u001b[1;33m(\u001b[0m\u001b[1;34m'2019.01.07_PROVIDER_PREPROCESSING_ADDRESS_JR.json'\u001b[0m\u001b[1;33m)\u001b[0m\u001b[1;33m.\u001b[0m\u001b[0mread\u001b[0m\u001b[1;33m(\u001b[0m\u001b[1;33m)\u001b[0m\u001b[1;33m)\u001b[0m\u001b[1;33m\u001b[0m\u001b[0m\n\u001b[0m",
      "\u001b[1;32mC:\\ProgramData\\Anaconda3\\lib\\json\\__init__.py\u001b[0m in \u001b[0;36mloads\u001b[1;34m(s, encoding, cls, object_hook, parse_float, parse_int, parse_constant, object_pairs_hook, **kw)\u001b[0m\n\u001b[0;32m    346\u001b[0m             \u001b[0mparse_int\u001b[0m \u001b[1;32mis\u001b[0m \u001b[1;32mNone\u001b[0m \u001b[1;32mand\u001b[0m \u001b[0mparse_float\u001b[0m \u001b[1;32mis\u001b[0m \u001b[1;32mNone\u001b[0m \u001b[1;32mand\u001b[0m\u001b[1;33m\u001b[0m\u001b[0m\n\u001b[0;32m    347\u001b[0m             parse_constant is None and object_pairs_hook is None and not kw):\n\u001b[1;32m--> 348\u001b[1;33m         \u001b[1;32mreturn\u001b[0m \u001b[0m_default_decoder\u001b[0m\u001b[1;33m.\u001b[0m\u001b[0mdecode\u001b[0m\u001b[1;33m(\u001b[0m\u001b[0ms\u001b[0m\u001b[1;33m)\u001b[0m\u001b[1;33m\u001b[0m\u001b[0m\n\u001b[0m\u001b[0;32m    349\u001b[0m     \u001b[1;32mif\u001b[0m \u001b[0mcls\u001b[0m \u001b[1;32mis\u001b[0m \u001b[1;32mNone\u001b[0m\u001b[1;33m:\u001b[0m\u001b[1;33m\u001b[0m\u001b[0m\n\u001b[0;32m    350\u001b[0m         \u001b[0mcls\u001b[0m \u001b[1;33m=\u001b[0m \u001b[0mJSONDecoder\u001b[0m\u001b[1;33m\u001b[0m\u001b[0m\n",
      "\u001b[1;32mC:\\ProgramData\\Anaconda3\\lib\\json\\decoder.py\u001b[0m in \u001b[0;36mdecode\u001b[1;34m(self, s, _w)\u001b[0m\n\u001b[0;32m    335\u001b[0m \u001b[1;33m\u001b[0m\u001b[0m\n\u001b[0;32m    336\u001b[0m         \"\"\"\n\u001b[1;32m--> 337\u001b[1;33m         \u001b[0mobj\u001b[0m\u001b[1;33m,\u001b[0m \u001b[0mend\u001b[0m \u001b[1;33m=\u001b[0m \u001b[0mself\u001b[0m\u001b[1;33m.\u001b[0m\u001b[0mraw_decode\u001b[0m\u001b[1;33m(\u001b[0m\u001b[0ms\u001b[0m\u001b[1;33m,\u001b[0m \u001b[0midx\u001b[0m\u001b[1;33m=\u001b[0m\u001b[0m_w\u001b[0m\u001b[1;33m(\u001b[0m\u001b[0ms\u001b[0m\u001b[1;33m,\u001b[0m \u001b[1;36m0\u001b[0m\u001b[1;33m)\u001b[0m\u001b[1;33m.\u001b[0m\u001b[0mend\u001b[0m\u001b[1;33m(\u001b[0m\u001b[1;33m)\u001b[0m\u001b[1;33m)\u001b[0m\u001b[1;33m\u001b[0m\u001b[0m\n\u001b[0m\u001b[0;32m    338\u001b[0m         \u001b[0mend\u001b[0m \u001b[1;33m=\u001b[0m \u001b[0m_w\u001b[0m\u001b[1;33m(\u001b[0m\u001b[0ms\u001b[0m\u001b[1;33m,\u001b[0m \u001b[0mend\u001b[0m\u001b[1;33m)\u001b[0m\u001b[1;33m.\u001b[0m\u001b[0mend\u001b[0m\u001b[1;33m(\u001b[0m\u001b[1;33m)\u001b[0m\u001b[1;33m\u001b[0m\u001b[0m\n\u001b[0;32m    339\u001b[0m         \u001b[1;32mif\u001b[0m \u001b[0mend\u001b[0m \u001b[1;33m!=\u001b[0m \u001b[0mlen\u001b[0m\u001b[1;33m(\u001b[0m\u001b[0ms\u001b[0m\u001b[1;33m)\u001b[0m\u001b[1;33m:\u001b[0m\u001b[1;33m\u001b[0m\u001b[0m\n",
      "\u001b[1;32mC:\\ProgramData\\Anaconda3\\lib\\json\\decoder.py\u001b[0m in \u001b[0;36mraw_decode\u001b[1;34m(self, s, idx)\u001b[0m\n\u001b[0;32m    353\u001b[0m             \u001b[0mobj\u001b[0m\u001b[1;33m,\u001b[0m \u001b[0mend\u001b[0m \u001b[1;33m=\u001b[0m \u001b[0mself\u001b[0m\u001b[1;33m.\u001b[0m\u001b[0mscan_once\u001b[0m\u001b[1;33m(\u001b[0m\u001b[0ms\u001b[0m\u001b[1;33m,\u001b[0m \u001b[0midx\u001b[0m\u001b[1;33m)\u001b[0m\u001b[1;33m\u001b[0m\u001b[0m\n\u001b[0;32m    354\u001b[0m         \u001b[1;32mexcept\u001b[0m \u001b[0mStopIteration\u001b[0m \u001b[1;32mas\u001b[0m \u001b[0merr\u001b[0m\u001b[1;33m:\u001b[0m\u001b[1;33m\u001b[0m\u001b[0m\n\u001b[1;32m--> 355\u001b[1;33m             \u001b[1;32mraise\u001b[0m \u001b[0mJSONDecodeError\u001b[0m\u001b[1;33m(\u001b[0m\u001b[1;34m\"Expecting value\"\u001b[0m\u001b[1;33m,\u001b[0m \u001b[0ms\u001b[0m\u001b[1;33m,\u001b[0m \u001b[0merr\u001b[0m\u001b[1;33m.\u001b[0m\u001b[0mvalue\u001b[0m\u001b[1;33m)\u001b[0m \u001b[1;32mfrom\u001b[0m \u001b[1;32mNone\u001b[0m\u001b[1;33m\u001b[0m\u001b[0m\n\u001b[0m\u001b[0;32m    356\u001b[0m         \u001b[1;32mreturn\u001b[0m \u001b[0mobj\u001b[0m\u001b[1;33m,\u001b[0m \u001b[0mend\u001b[0m\u001b[1;33m\u001b[0m\u001b[0m\n",
      "\u001b[1;31mJSONDecodeError\u001b[0m: Expecting value: line 1 column 1 (char 0)"
     ]
    }
   ],
   "source": [
    "import json\n",
    "\n",
    "json.loads(open('2019.01.07_PROVIDER_PREPROCESSING_ADDRESS_JR.json').read())"
   ]
  },
  {
   "cell_type": "code",
   "execution_count": 13,
   "metadata": {},
   "outputs": [
    {
     "name": "stdout",
     "output_type": "stream",
     "text": [
      "ï»¿{\"paragraphs\":[{\"text\":\"%sql\\nDROP TABLE provider_spine_db.ALL_SRC_ADDR_ALL\",\"user\":\"anonymous\",\"dateUpdated\":\"2019-03-28T20:30:47+0000\",\"config\":{\"tableHide\":true,\"editorSetting\":{\"language\":\"sql\",\"editOnDblClick\":false},\"colWidth\":12,\"editorMode\":\"ace/mode/sql\",\"editorHide\":false,\"results\":{},\"enabled\":true},\"settings\":{\"params\":{},\"forms\":{}},\"results\":{\"code\":\"SUCCESS\",\"msg\":[{\"type\":\"TABLE\",\"data\":\"\"}]},\"apps\":[],\"jobName\":\"paragraph_1546864295887_836518789\",\"id\":\"20180629-134618_776122781\",\"dateCreated\":\"2019-01-07T12:31:35+0000\",\"dateStarted\":\"2019-03-28T20:30:47+0000\",\"dateFinished\":\"2019-03-28T20:30:50+0000\",\"status\":\"FINISHED\",\"progressUpdateIntervalMs\":500,\"focus\":true,\"$$hashKey\":\"object:26\"},{\"text\":\"%sql\\nDROP TABLE provider_SPINE_DB.PROVIDER_COT_MAP\",\"user\":\"anonymous\",\"dateUpdated\":\"2019-03-28T20:30:47+0000\",\"config\":{\"tableHide\":true,\"editorSetting\":{\"language\":\"sql\",\"editOnDblClick\":false},\"colWidth\":12,\"editorMode\":\"ace/mode/sql\",\"editorHide\":false,\"results\":{},\"enabled\":false},\"settings\":{\"params\":{},\"forms\":{}},\"apps\":[],\"jobName\":\"paragraph_1546864295893_844983265\",\"id\":\"20180726-184659_308663360\",\"dateCreated\":\"2019-01-07T12:31:35+0000\",\"dateStarted\":\"2019-02-17T10:34:32+0000\",\"dateFinished\":\"2019-02-17T10:34:34+0000\",\"status\":\"FINISHED\",\"errorMessage\":\"\",\"progressUpdateIntervalMs\":500,\"$$hashKey\":\"object:27\"},{\"text\":\"%sql\\nDROP TABLE provider_SPINE_DB.PROVIDER_STAND_VALUE\",\"user\":\"anonymous\",\"dateUpdated\":\"2019-03-28T20:30:47+0000\",\"config\":{\"tableHide\":true,\"editorSetting\":{\"language\":\"sql\",\"editOnDblClick\":false},\"colWidth\":12,\"editorMode\":\"ace/mode/sql\",\"editorHide\":false,\"results\":{},\"enabled\":true},\"settings\":{\"params\":{},\"forms\":{}},\"results\":{\"code\":\"SUCCESS\",\"msg\":[{\"type\":\"TABLE\",\"data\":\"\"}]},\"apps\":[],\"jobName\":\"paragraph_1546864295897_843444269\",\"id\":\"20180711-124827_181507100\",\"dateCreated\":\"2019-01-07T12:31:35+0000\",\"dateStarted\":\"2019-03-28T20:30:47+0000\",\"dateFinished\":\"2019-03-28T20:30:52+0000\",\"status\":\"FINISHED\",\"progressUpdateIntervalMs\":500,\"$$hashKey\":\"object:28\"},{\"text\":\"%sql\\nDROP TABLE Provider_spine_db.PROVIDER_STAND_VAL\",\"user\":\"anonymous\",\"dateUpdated\":\"2019-03-28T20:30:47+0000\",\"config\":{\"tableHide\":true,\"editorSetting\":{\"language\":\"sql\",\"editOnDblClick\":false},\"colWidth\":12,\"editorMode\":\"ace/mode/sql\",\"editorHide\":false,\"results\":{},\"enabled\":true},\"settings\":{\"params\":{},\"forms\":{}},\"results\":{\"code\":\"SUCCESS\",\"msg\":[{\"type\":\"TABLE\",\"data\":\"\"}]},\"apps\":[],\"jobName\":\"paragraph_1546864295900_842290022\",\"id\":\"20180711-125157_2055047171\",\"dateCreated\":\"2019-01-07T12:31:35+0000\",\"dateStarted\":\"2019-03-28T20:30:50+0000\",\"dateFinished\":\"2019-03-28T20:30:53+0000\",\"status\":\"FINISHED\",\"progressUpdateIntervalMs\":500,\"$$hashKey\":\"object:29\"},{\"text\":\"%sql\\nDROP TABLE provider_spine_db.ADDR_EXT_ALL_SRC_ALL\",\"user\":\"anonymous\",\"dateUpdated\":\"2019-03-28T20:30:47+0000\",\"config\":{\"tableHide\":true,\"editorSetting\":{\"language\":\"sql\",\"editOnDblClick\":false},\"colWidth\":12,\"editorMode\":\"ace/mode/sql\",\"editorHide\":false,\"results\":{},\"enabled\":true},\"settings\":{\"params\":{},\"forms\":{}},\"results\":{\"code\":\"SUCCESS\",\"msg\":[{\"type\":\"TABLE\",\"data\":\"\"}]},\"apps\":[],\"jobName\":\"paragraph_1546864295904_828439062\",\"id\":\"20180711-135602_1045174785\",\"dateCreated\":\"2019-01-07T12:31:35+0000\",\"dateStarted\":\"2019-03-28T20:30:52+0000\",\"dateFinished\":\"2019-03-28T20:30:55+0000\",\"status\":\"FINISHED\",\"progressUpdateIntervalMs\":500,\"$$hashKey\":\"object:30\"},{\"text\":\"%sql\\nCREATE TABLE provider_SPINE_DB.PROVIDER_COT_MAP\\n(\\nsrc_typ string,\\nlook_up_1 string,\\nlook_up_val_1 string,\\nlook_up_2 string,\\nLook_up_val_2 string,\\nentity_typ string,\\norg_typ string,\\norg_sub_typ string\\n)\\nROW FORMAT DELIMITED\\nFIELDS TERMINATED BY '|'\\nLINES TERMINATED BY '\\\\n'\\nlocation 's3://snvn-dev-amer-01/notebook_data/PROVIDER_SPINE_DATALOAD_RM/INPUT_DATA/COT_MAP/'\",\"user\":\"anonymous\",\"dateUpdated\":\"2019-03-28T20:30:47+0000\",\"config\":{\"tableHide\":true,\"editorSetting\":{\"language\":\"sql\",\"editOnDblClick\":false},\"colWidth\":12,\"editorMode\":\"ace/mode/sql\",\"editorHide\":false,\"results\":{},\"enabled\":false},\"settings\":{\"params\":{},\"forms\":{}},\"apps\":[],\"jobName\":\"paragraph_1546864295911_827284815\",\"id\":\"20180726-181559_1375308294\",\"dateCreated\":\"2019-01-07T12:31:35+0000\",\"dateStarted\":\"2019-02-17T10:34:59+0000\",\"dateFinished\":\"2019-02-17T10:35:00+0000\",\"status\":\"FINISHED\",\"errorMessage\":\"\",\"progressUpdateIntervalMs\":500,\"$$hashKey\":\"object:31\"},{\"text\":\"%sql\\nCREATE TABLE provider_SPINE_DB.PROVIDER_STAND_VALUE\\n(\\nattribute_typ string,\\nnon_stand_wrd string,\\nstand_wrd string\\n)\\nROW FORMAT DELIMITED\\nFIELDS TERMINATED BY '|'\\nLINES TERMINATED BY '\\\\n'\\nlocation 's3://snvn-dev-amer-01/notebook_data/PROVIDER_SPINE_DATALOAD_RM/INPUT_DATA/ADDR_STD/'\",\"user\":\"anonymous\",\"dateUpdated\":\"2019-03-28T20:30:47+0000\",\"config\":{\"tableHide\":true,\"editorSetting\":{\"language\":\"sql\",\"editOnDblClick\":false},\"colWidth\":12,\"editorMode\":\"ace/mode/sql\",\"editorHide\":false,\"results\":{},\"enabled\":true},\"settings\":{\"params\":{},\"forms\":{}},\"results\":{\"code\":\"SUCCESS\",\"msg\":[{\"type\":\"TABLE\",\"data\":\"\"}]},\"apps\":[],\"jobName\":\"paragraph_1546864295918_824591573\",\"id\":\"20180711-124812_1655204682\",\"dateCreated\":\"2019-01-07T12:31:35+0000\",\"dateStarted\":\"2019-03-28T20:30:53+0000\",\"dateFinished\":\"2019-03-28T20:30:56+0000\",\"status\":\"FINISHED\",\"progressUpdateIntervalMs\":500,\"$$hashKey\":\"object:32\"},{\"text\":\"%sql\\nCREATE TABLE Provider_spine_db.PROVIDER_STAND_VAL location  's3://snvn-dev-amer-01/notebook_data/PROVIDER_SPINE_DATALOAD_RM/OUTPUT_DATA/ADDR_STD/ADDR_ABRV' AS\\nselect * from provider_SPINE_DB.Provider_stand_value\\nwhere attribute_typ='ADDRESS'\\n\",\"user\":\"anonymous\",\"dateUpdated\":\"2019-03-28T20:30:48+0000\",\"config\":{\"tableHide\":true,\"editorSetting\":{\"language\":\"sql\",\"editOnDblClick\":false},\"colWidth\":12,\"editorMode\":\"ace/mode/sql\",\"editorHide\":false,\"results\":{},\"enabled\":true},\"settings\":{\"params\":{},\"forms\":{}},\"results\":{\"code\":\"SUCCESS\",\"msg\":[{\"type\":\"TABLE\",\"data\":\"\"}]},\"apps\":[],\"jobName\":\"paragraph_1546864295921_834210296\",\"id\":\"20180711-125223_1431760645\",\"dateCreated\":\"2019-01-07T12:31:35+0000\",\"dateStarted\":\"2019-03-28T20:30:55+0000\",\"dateFinished\":\"2019-03-28T20:31:38+0000\",\"status\":\"FINISHED\",\"progressUpdateIntervalMs\":500,\"$$hashKey\":\"object:33\"},{\"text\":\"%sql\\n\\nCREATE TABLE provider_spine_db.ALL_SRC_ADDR_ALL location 's3://snvn-dev-amer-01/notebook_data/PROVIDER_SPINE_DATALOAD/OUTPUT_DATA/ALL/STG/ALL_SRC_ADDR_ALL' AS\\nSELECT DISTINCT YEAR_MONTH,'IMS_DDD' as SRC,cast(outlet_key as varchar(255)) as ENTITY_ID, \\nTRIM(CONCAT(OUTLET_ADDR1,' ',OUTLET_ADDR2)) AS ADDRESS\\nFROM\\n(\\n    SELECT YEAR_MONTH,outlet_key, OUTLET_ADDR1,\\n    CASE WHEN isnull(OUTLET_ADDR2) THEN '' \\n    ELSE OUTLET_ADDR2 END\\n    AS OUTLET_ADDR2  FROM provider_spine_db.stg_DDD_addr_ALL\\n)a where OUTLET_ADDR1 is not null\\nunion\\nSELECT DISTINCT YEAR_MONTH,'IMS_HCOS' as SRC,ims_org_id as ENTITY_ID, TRIM(CONCAT(PHYSICAL_ADDR_1,' ',PHYSICAL_ADDR_2)) AS ADDRESS\\nFrom\\n(         \\n    SELECT YEAR_MONTH,ims_org_id,PHYSICAL_ADDR_1, \\n    CASE WHEN isnull(PHYSICAL_ADDR_2) THEN '' \\n    ELSE PHYSICAL_ADDR_2 END\\n    AS PHYSICAL_ADDR_2 FROM provider_spine_db.stg_hcos_addr_ALL\\n)b where PHYSICAL_ADDR_1 is not null\\nunion\\n\\nSELECT DISTINCT MTH_STRT_DT,'MODEL_N' as SRC,cast(SRC_SK as varchar(255)) as ENTITY_ID, \\nTRIM(CONCAT(BADDR_ADDR1,' ',BADDR_ADDR2,' ', BADDR_ADDR3)) AS ADDRESS\\nfrom\\n( \\n    select SRC_SK,MTH_STRT_DT,bunit_num, BADDR_ADDR1,\\n    CASE WHEN isnull(BADDR_ADDR2) THEN '' \\n    ELSE BADDR_ADDR2 END as BADDR_ADDR2,\\n    CASE WHEN isnull(BADDR_ADDR3) THEN '' \\n    ELSE BADDR_ADDR3 END AS BADDR_ADDR3 FROM provider_spine_db.STG_MDLN_ADDR_ALL\\n)c where BADDR_ADDR1 is not null\\nunion\\n\\nSELECT DISTINCT MTH_STRT_DT,'VALIDATA' as SRC,cast(pharmacyid as varchar(255)) as ENTITY_ID,\\nTRIM(CONCAT(street,' ',street2, '', street3)) AS ADDRESS\\nfrom(\\n    select MTH_STRT_DT,pharmacyid, street,\\n    CASE WHEN isnull(street2) THEN '' \\n    ELSE street2 END as STREET2,\\n    CASE WHEN isnull(street3) THEN '' \\n    ELSE street3 END AS street3 FROM provider_spine_db.STG_IVD_ADDR_ALL\\n)d where street is not null\\n union\\n (SELECT DISTINCT YEAR_MONTH,'VC_867' as SRC,cast(standardized_id_sk as varchar(255)) as ENTITY_ID,TRIM(Address) AS ADDRESS \\n FROM provider_spine_db.stg_vc_867_addr_ALL\\nwhere Address is NOT NULL)\\nUNION\\n(SELECT DISTINCT YEAR_MONTH,'VC_852' as SRC,cast(standardized_id as varchar(255)) as ENTITY_ID,TRIM(CONCAT(ADDRESS_1,' ',IF(ISNULL(ADDRESS_2),'',ADDRESS_2))) AS ADDRESS\\n FROM provider_spine_db.stg_vc_852_addr_ALL\\nwhere Address_1 is NOT NULL)\",\"user\":\"anonymous\",\"dateUpdated\":\"2019-03-28T20:30:48+0000\",\"config\":{\"tableHide\":true,\"editorSetting\":{\"language\":\"sql\",\"editOnDblClick\":false},\"colWidth\":12,\"editorMode\":\"ace/mode/sql\",\"editorHide\":false,\"results\":{},\"enabled\":true},\"settings\":{\"params\":{},\"forms\":{}},\"results\":{\"code\":\"SUCCESS\",\"msg\":[{\"type\":\"TABLE\",\"data\":\"\"}]},\"apps\":[],\"jobName\":\"paragraph_1546864295925_832671300\",\"id\":\"20180629-134611_820397301\",\"dateCreated\":\"2019-01-07T12:31:35+0000\",\"dateStarted\":\"2019-03-28T20:30:56+0000\",\"dateFinished\":\"2019-03-28T20:39:30+0000\",\"status\":\"FINISHED\",\"progressUpdateIntervalMs\":500,\"$$hashKey\":\"object:34\"},{\"text\":\"%sql\\n--[RM]: THIS should be kept here so that the notebook does not start executing pyspark paragraphs before the above table is created [JR]: KEPT FOR WAIT TIME\\nSELECT COUNT (*) FROM provider_spine_db.ALL_SRC_ADDR_ALL\",\"user\":\"anonymous\",\"dateUpdated\":\"2019-03-28T20:30:48+0000\",\"config\":{\"tableHide\":true,\"editorSetting\":{\"language\":\"sql\",\"editOnDblClick\":false},\"colWidth\":12,\"editorMode\":\"ace/mode/sql\",\"editorHide\":false,\"results\":{},\"enabled\":true},\"settings\":{\"params\":{},\"forms\":{}},\"results\":{\"code\":\"SUCCESS\",\"msg\":[{\"type\":\"TABLE\",\"data\":\"count(1)\\n42079678\\n\"}]},\"apps\":[],\"jobName\":\"paragraph_1546864295928_831517053\",\"id\":\"20180903-143723_1904811741\",\"dateCreated\":\"2019-01-07T12:31:35+0000\",\"dateStarted\":\"2019-03-28T20:31:39+0000\",\"dateFinished\":\"2019-03-28T20:39:54+0000\",\"status\":\"FINISHED\",\"progressUpdateIntervalMs\":500,\"$$hashKey\":\"object:35\"},{\"text\":\"%pyspark\\nprovider_abbrv_map=spark.sql('SELECT DISTINCT non_stand_wrd as abbrv,upper(stand_wrd) as extn FROM Provider_spine_db.PROVIDER_STAND_VAL where Attribute_typ=\\\"ADDRESS\\\"') \",\"user\":\"anonymous\",\"dateUpdated\":\"2019-03-28T20:30:48+0000\",\"config\":{\"tableHide\":true,\"editorSetting\":{\"language\":\"python\",\"editOnDblClick\":false},\"colWidth\":12,\"editorMode\":\"ace/mode/python\",\"editorHide\":false,\"results\":{},\"enabled\":true},\"settings\":{\"params\":{},\"forms\":{}},\"results\":{\"code\":\"SUCCESS\",\"msg\":[]},\"apps\":[],\"jobName\":\"paragraph_1546864295932_829978058\",\"id\":\"20180620-093808_513229819\",\"dateCreated\":\"2019-01-07T12:31:35+0000\",\"dateStarted\":\"2019-03-28T20:39:31+0000\",\"dateFinished\":\"2019-03-28T20:39:31+0000\",\"status\":\"FINISHED\",\"progressUpdateIntervalMs\":500,\"$$hashKey\":\"object:36\"},{\"text\":\"%sql\\nSELECT DISTINCT non_stand_wrd as abbrv,upper(stand_wrd) as extn FROM Provider_spine_db.PROVIDER_STAND_VAL where Attribute_typ=\\\"ADDRESS\\\"\",\"user\":\"anonymous\",\"dateUpdated\":\"2019-03-28T20:39:31+0000\",\"config\":{\"colWidth\":12,\"enabled\":true,\"results\":{},\"editorSetting\":{\"language\":\"sql\",\"editOnDblClick\":false},\"editorMode\":\"ace/mode/sql\",\"tableHide\":true},\"settings\":{\"params\":{},\"forms\":{}},\"results\":{\"code\":\"SUCCESS\",\"msg\":[{\"type\":\"TABLE\",\"data\":\"abbrv\\textn\\nRIDG\\tRIDGE\\nGTWY\\tGATEWAY\\nPROFESSION\\tPROFESSIONAL\\nACAD\\tACADEMY\\nPLAZ\\tPLAZA\\nSOUTHEAST\\tSE\\nROAD&\\tROAD\\nPARKWAY.\\tPARKWAY\\nPROFESSIONALS\\tPROFESSIONAL\\nHOSP.\\tHOSPITAL\\nHIGHYWAY\\tHIGHWAY\\nNORTHE\\tNE\\nCIRCLE\\tCIRCLE\\nSHOR\\tSHORE\\nTHREE\\t3\\nSIX\\t6\\nPARKWAY\\tPARKWAY\\nAVEENUE\\tAVENUE\\nDR\\tDRIVE\\nDRIIVE\\tDRIVE\\nPASTE\\tPASTEUR\\nSOUTHWEST\\tSW\\nLANES\\tLANE\\nSOUTHWST\\tSW\\nCAMINOS\\tCAMINO\\nEIGHT\\t8\\nST\\tSTREET\\nAVENNUE\\tAVENUE\\nEXTENSION\\tEXT\\nJCT\\tJUNCTION\\nRD\\tROAD\\nSHR\\tSHORE\\nDEPT\\tDEPARTMENT\\nCHILDREN'S\\tCHILDRENS\\nHOSPIT\\tHOSPITAL\\nHBR\\tHARBOR\\nNORTH\\tN\\nBLVD\\tBOULEVARD\\nBOULEVARD.\\tBOULEVARD\\nHIGHLAN\\tHIGHLAND\\nFRUI\\tFRUIT\\nBRIDG\\tBRIDGE\\nBldg.\\tBUILDING\\nPROFESSIO\\tPROFESSIONAL\\nHEIGHT\\tHEIGHTS\\nACADAMY\\tACADEMY\\nFOUR\\t4\\nEXPRESSWAY\\tEXPRESSWAY\\nHIGHWY\\tHIGHWAY\\nNE.\\tNE\\nBOUEVARD\\tBOULEVARD\\nMARYLAN\\tMARYLAND\\nROUT\\tROUTE\\nNORTHWEST\\tNW\\nHGTS\\tHEIGHTS\\nST.\\tSTREET\\nSTREET.\\tSTREET\\nDIVISIO\\tDIVISION\\nAVEN.\\tAVENUE\\nNORTHEASTE\\tNE\\nDRIVE\\tDRIVE\\nCAMPU\\tCAMPUS\\nROAD.\\tROAD\\nHOSPI\\tHOSPITAL\\nFWY\\tFREEWAY\\nSTE.\\tSUITE\\nROAD\\tROAD\\nAVE-\\tAVENUE\\nCHURC\\tCHURCH\\nDR-\\tDR\\nEAST\\tE\\nHOSPTIAL\\tHOSPITAL\\nNW.\\tNW\\nHWY.\\tHIGHWAY\\nPROF\\tPROFESSIONAL\\nSTREETR\\tSTREET\\nPROFESS\\tPROFESSIONAL\\nLANE.\\tLANE\\nAVENUE\\tAVENUE\\nBOULVARD\\tBOULEVARD\\nAVEN\\tAVENUE\\nSE.\\tSE\\nCIR.\\tCIRCLE\\nBOUILEVARD\\tBOULEVARD\\nONE\\t1\\nSOUTHE\\tSE\\nCT\\tCONNECTICUT\\nDR..\\tDR\\nHOSP\\tHOSPITAL\\nBLVD.\\tBOULEVARD\\nHWY\\tHIGHWAY\\nPROFES\\tPROFESSIONAL\\nNEBRAKSA\\tNEBRASKA\\nST..\\tSTREET\\nSOUTH-\\tSOUTH\\nHOSPITAL.\\tHOSPITAL\\nSTE\\tSUITE\\nVLY\\tVALLEY\\nBOULEV\\tBOULEVARD\\nWASHINGTO\\tWASHINGTON\\nAVE.\\tAVENUE\\nFW\\tFREEWAY\\nAVENUES\\tAVENUE\\nCTR\\tCENTER\\nHTS\\tHEIGHTS\\nCALIFORNI\\tCALIFORNIA\\nPROSPEC\\tPROSPECT\\nSTREET\\tSTREET\\nNORTHEAS\\tNE\\nUNIV\\tUNIVERSITY\\nLN.\\tLANE\\nCOLLEG\\tCOLLEGE\\nNORTHWESST\\tNW\\nCALIFORN\\tCALIFORNIA\\nAV\\tAVENUE\\nTWO\\t2\\nDRIVE.\\tDRIVE\\nEXPY\\tEXPRESSWAY\\nRD..\\tROAD\\nWASHINGT\\tWASHINGTON\\nPROFESSIONA\\tPROFESSIONAL\\nHOSPTL\\tHOSPITAL\\nSTS\\tSTREET\\nTEN\\t10\\nMEMORIA\\tMEMORIAL\\nCONNECTICUT\\tCONNECTICUT\\nPLZ\\tPLAZA\\nAVENUE.\\tAVENUE\\nPASTEU\\tPASTEUR\\nCT.\\tCONNECTICUT\\nCIRCLE.\\tCIRCLE\\nJACKSO\\tJACKSON\\nRD.\\tROAD\\nSTREEET\\tSTREET\\nWEST\\tW\\nPLZA\\tPLAZA\\nSTREETS\\tSTREET\\nFIVE\\t5\\nAVENU\\tAVENUE\\nNORTHEAST\\tNE\\nPROFFESIONA\\tPROFESSIONAL\\nPROFFESSIONAL\\tPROFESSIONAL\\nCONNECTTICUT\\tCONNECTICUT\\nSW.\\tSW\\nNINE\\t9\\nDR.\\tDR\\nBROA\\tBROAD\\nBOULEVARD\\tBOULEVARD\\nPIK\\tPIKE\\nBLDG\\tBUILDING\\nFL\\tFLOOR\\nLUTH\\tLUTHER\\nHOSPITA\\tHOSPITAL\\nAVE\\tAVENUE\\nNORTHWEEST\\tNW\\nLNDG\\tLANDING\\nHEALTHCAR\\tHEALTHCARE\\nDIVISI\\tDIVISION\\nCOUNTR\\tCOUNTRY\\nRDG\\tRIDGE\\nOFC\\tOFFICE\\nLUTHE\\tLUTHER\\nROADS\\tROAD\\nAVEUE\\tAVENUE\\nSOUTH\\tS\\nLANE\\tLANE\\nEXPRESS\\tEXPRESSWAY\\nMOUNTAI\\tMOUNTAIN\\nPROFESSI\\tPROFESSIONAL\\nHOSP-\\tHOSPITAL\\nSEVEN\\t7\\nROAD-\\tROAD\\nPKWY.\\tPARKWAY\\nVETERENS\\tVETERANS\\n\"}]},\"apps\":[],\"jobName\":\"paragraph_1551959709945_1951179180\",\"id\":\"20190307-115509_146620544\",\"dateCreated\":\"2019-03-07T11:55:09+0000\",\"dateStarted\":\"2019-03-28T20:39:31+0000\",\"dateFinished\":\"2019-03-28T20:40:01+0000\",\"status\":\"FINISHED\",\"progressUpdateIntervalMs\":500,\"$$hashKey\":\"object:37\"},{\"text\":\"%pyspark\\nprovider_abbrv_map.count()\",\"user\":\"anonymous\",\"dateUpdated\":\"2019-03-28T20:30:48+0000\",\"config\":{\"tableHide\":true,\"editorSetting\":{\"language\":\"python\",\"editOnDblClick\":false},\"colWidth\":12,\"editorMode\":\"ace/mode/python\",\"editorHide\":false,\"results\":{},\"enabled\":true},\"settings\":{\"params\":{},\"forms\":{}},\"results\":{\"code\":\"SUCCESS\",\"msg\":[{\"type\":\"TEXT\",\"data\":\"174\\n\"}]},\"apps\":[],\"jobName\":\"paragraph_1546864295935_830362807\",\"id\":\"20180711-130042_1785267714\",\"dateCreated\":\"2019-01-07T12:31:35+0000\",\"dateStarted\":\"2019-03-28T20:39:55+0000\",\"dateFinished\":\"2019-03-28T20:39:59+0000\",\"status\":\"FINISHED\",\"progressUpdateIntervalMs\":500,\"$$hashKey\":\"object:38\"},{\"text\":\"%pyspark\\nprovider_dict={}\\nfor row in provider_abbrv_map.collect():\\n    key = row[\\\"abbrv\\\"].encode('utf8', 'ignore')\\n    value = row[\\\"extn\\\"].encode('utf8', 'ignore')\\n    #dict[key] = value\\n    \\n    #key1 = [key+x for x in [\\\",\\\",\\\"/\\\"]]\\n    #key2 = [x+key for x in [\\\",\\\",\\\"/\\\"]]\\n    key3 = [x+key+y for x in [\\\",\\\",\\\"/\\\",\\\")\\\",\\\"(\\\",\\\" \\\",\\\"*\\\"] for y in [\\\",\\\",\\\"/\\\",\\\")\\\",\\\"(\\\",\\\" \\\",\\\"*\\\"]]\\n    \\n    keys = key3\\n    \\n    for i in keys:\\n        provider_dict[i] =i.replace(key,value)\",\"user\":\"anonymous\",\"dateUpdated\":\"2019-03-28T20:30:48+0000\",\"config\":{\"tableHide\":true,\"editorSetting\":{\"language\":\"python\",\"editOnDblClick\":false},\"colWidth\":12,\"editorMode\":\"ace/mode/python\",\"editorHide\":false,\"results\":{},\"enabled\":true},\"settings\":{\"params\":{},\"forms\":{}},\"results\":{\"code\":\"SUCCESS\",\"msg\":[]},\"apps\":[],\"jobName\":\"paragraph_1546864295939_-877370640\",\"id\":\"20180620-094015_848138111\",\"dateCreated\":\"2019-01-07T12:31:35+0000\",\"dateStarted\":\"2019-03-28T20:39:56+0000\",\"dateFinished\":\"2019-03-28T20:40:01+0000\",\"status\":\"FINISHED\",\"progressUpdateIntervalMs\":500,\"$$hashKey\":\"object:39\"},{\"text\":\"%pyspark\\ndef provider_translate(text,conversion_provider_dict):\\n    if not text: return text\\n    t = text\\n    for key, value in conversion_provider_dict.items():\\n        t = t.replace(key, value)\\n    return t\",\"user\":\"anonymous\",\"dateUpdated\":\"2019-03-28T20:30:49+0000\",\"config\":{\"tableHide\":true,\"editorSetting\":{\"language\":\"python\",\"editOnDblClick\":false},\"colWidth\":12,\"editorMode\":\"ace/mode/python\",\"editorHide\":false,\"results\":{},\"enabled\":true},\"settings\":{\"params\":{},\"forms\":{}},\"results\":{\"code\":\"SUCCESS\",\"msg\":[]},\"apps\":[],\"jobName\":\"paragraph_1546864295942_-878524886\",\"id\":\"20180620-094303_2137293844\",\"dateCreated\":\"2019-01-07T12:31:35+0000\",\"dateStarted\":\"2019-03-28T20:39:59+0000\",\"dateFinished\":\"2019-03-28T20:40:01+0000\",\"status\":\"FINISHED\",\"progressUpdateIntervalMs\":500,\"$$hashKey\":\"object:40\"},{\"text\":\"%pyspark\\ndef modify_provider_org_name(string):\\n    list_string = string.encode('utf8', 'ignore')\\n    new_string= provider_translate(list_string, provider_dict)\\n    new_string =new_string.replace(\\\"@\\\",\\\"\\\")\\n    new_string =new_string.replace(\\\"%\\\",\\\"\\\")\\n    new_string =new_string.replace(\\\"$\\\",\\\"\\\")\\n    new_string =new_string.replace(\\\"*\\\",\\\"\\\")\\n    return new_string\",\"user\":\"anonymous\",\"dateUpdated\":\"2019-03-28T20:30:49+0000\",\"config\":{\"tableHide\":true,\"editorSetting\":{\"language\":\"python\",\"editOnDblClick\":false},\"colWidth\":12,\"editorMode\":\"ace/mode/python\",\"editorHide\":false,\"results\":{},\"enabled\":true},\"settings\":{\"params\":{},\"forms\":{}},\"results\":{\"code\":\"SUCCESS\",\"msg\":[]},\"apps\":[],\"jobName\":\"paragraph_1546864295946_-880063882\",\"id\":\"20180620-094346_2052909191\",\"dateCreated\":\"2019-01-07T12:31:35+0000\",\"dateStarted\":\"2019-03-28T20:40:01+0000\",\"dateFinished\":\"2019-03-28T20:40:01+0000\",\"status\":\"FINISHED\",\"progressUpdateIntervalMs\":500,\"$$hashKey\":\"object:41\"},{\"text\":\"%pyspark\\nprovider_org_name=spark.sql('SELECT DISTINCT YEAR_MONTH,SRC,ENTITY_ID,concat (\\\" \\\",ADDRESS, \\\" \\\") as ADDRESS FROM provider_spine_db.ALL_SRC_ADDR_ALL')\\n\",\"user\":\"anonymous\",\"dateUpdated\":\"2019-03-28T20:30:49+0000\",\"config\":{\"tableHide\":true,\"editorSetting\":{\"language\":\"python\",\"editOnDblClick\":false},\"colWidth\":12,\"editorMode\":\"ace/mode/python\",\"editorHide\":false,\"results\":{},\"enabled\":true},\"settings\":{\"params\":{},\"forms\":{}},\"results\":{\"code\":\"SUCCESS\",\"msg\":[]},\"apps\":[],\"jobName\":\"paragraph_1546864295949_-882757124\",\"id\":\"20180629-165316_420824989\",\"dateCreated\":\"2019-01-07T12:31:35+0000\",\"dateStarted\":\"2019-03-28T20:40:01+0000\",\"dateFinished\":\"2019-03-28T20:40:01+0000\",\"status\":\"FINISHED\",\"progressUpdateIntervalMs\":500,\"$$hashKey\":\"object:42\"},{\"text\":\"%pyspark\\nprovider_org_name.show()\",\"user\":\"anonymous\",\"dateUpdated\":\"2019-03-28T20:30:49+0000\",\"config\":{\"tableHide\":true,\"editorSetting\":{\"language\":\"python\",\"editOnDblClick\":false},\"colWidth\":12,\"editorMode\":\"ace/mode/python\",\"editorHide\":false,\"results\":{},\"enabled\":true},\"settings\":{\"params\":{},\"forms\":{}},\"results\":{\"code\":\"SUCCESS\",\"msg\":[{\"type\":\"TEXT\",\"data\":\"+----------+--------+--------------------+--------------------+\\n|YEAR_MONTH|     SRC|           ENTITY_ID|             ADDRESS|\\n+----------+--------+--------------------+--------------------+\\n|    201403| MODEL_N|023d4ef1288485c8a...| 3805 SE HAWTHORN...|\\n|    201704| MODEL_N|a943927ef64534092...| 2103 N. THIRD ST...|\\n|    201308| MODEL_N|0311b6b797094881a...| 633 SOUTH BROADWAY |\\n|    201310|  VC_867|954024DA82C1F29C4...|        2821 8TH ST |\\n|    201509|  VC_867|CD4BEAD728CE8999B...| 441 WILKES BARRE...|\\n|    201310|  VC_867|62D9DAD84DDB67A8E...|    2462 MISSION ST |\\n|    201706|  VC_867|E2036689C5401CB8F...|      213 E MAIN ST |\\n|    201309|  VC_867|FC83C1F98BA643BDD...| 2880 CHURN CREEK...|\\n|    201302|  VC_867|B69A431965C71BD5A...| 1717 E VISTA CHI...|\\n|    201710| IMS_DDD|            10977185| 19 SPRING VALLEY...|\\n|    201310| IMS_DDD|             6460184|   30 COMMERCE PARK |\\n|    201609| IMS_DDD|            81625203|     785 RUSSELL ST |\\n|    201402| IMS_DDD|            18901175|     14 MEMORIAL DR |\\n|    201811| IMS_DDD|            12538157|   11 CRUM ELBOW RD |\\n|    201809| IMS_DDD|            67205201| 4013 N RIDGE RD ...|\\n|    201303|IMS_HCOS|         INS00610059|  303 GEORGE STREET |\\n|    201410|IMS_HCOS|         INS00519204| 1502 TRAVELERS P...|\\n|    201412|IMS_HCOS|         INS00477593| 3017 SIMPSON DRIVE |\\n|    201610|IMS_HCOS|         INS00001163| 2801 ST ANTHONY ...|\\n|    201701|IMS_HCOS|         INS00238475|          48 ELM ST |\\n+----------+--------+--------------------+--------------------+\\nonly showing top 20 rows\\n\\n\"}]},\"apps\":[],\"jobName\":\"paragraph_1546864295953_-871984155\",\"id\":\"20180620-094747_1610226980\",\"dateCreated\":\"2019-01-07T12:31:35+0000\",\"dateStarted\":\"2019-03-28T20:40:01+0000\",\"dateFinished\":\"2019-03-28T20:40:15+0000\",\"status\":\"FINISHED\",\"progressUpdateIntervalMs\":500,\"$$hashKey\":\"object:43\"},{\"text\":\"%pyspark\\nfrom pyspark.sql.functions import udf\\nfrom pyspark.sql.functions import StringType\\nudfmodify_provider_org_name = udf(modify_provider_org_name,StringType())\\nprovider_org_name_ext = provider_org_name.withColumn('extd_ADDRESS',udfmodify_provider_org_name('ADDRESS'))\",\"user\":\"anonymous\",\"dateUpdated\":\"2019-03-28T20:30:49+0000\",\"config\":{\"tableHide\":true,\"editorSetting\":{\"language\":\"python\",\"editOnDblClick\":false},\"colWidth\":12,\"editorMode\":\"ace/mode/python\",\"editorHide\":false,\"results\":{},\"enabled\":true},\"settings\":{\"params\":{},\"forms\":{}},\"results\":{\"code\":\"SUCCESS\",\"msg\":[]},\"apps\":[],\"jobName\":\"paragraph_1546864295957_-873523151\",\"id\":\"20180620-094754_493299475\",\"dateCreated\":\"2019-01-07T12:31:35+0000\",\"dateStarted\":\"2019-03-28T20:40:01+0000\",\"dateFinished\":\"2019-03-28T20:40:15+0000\",\"status\":\"FINISHED\",\"progressUpdateIntervalMs\":500,\"$$hashKey\":\"object:44\"},{\"text\":\"%pyspark\\nprovider_org_name_ext.count()\",\"user\":\"anonymous\",\"dateUpdated\":\"2019-03-28T20:30:49+0000\",\"config\":{\"tableHide\":true,\"editorSetting\":{\"language\":\"python\",\"editOnDblClick\":false},\"colWidth\":12,\"editorMode\":\"ace/mode/python\",\"editorHide\":false,\"results\":{},\"enabled\":true},\"settings\":{\"params\":{},\"forms\":{}},\"results\":{\"code\":\"SUCCESS\",\"msg\":[{\"type\":\"TEXT\",\"data\":\"42079678\\n\"}]},\"apps\":[],\"jobName\":\"paragraph_1546864295960_-874677397\",\"id\":\"20180620-094922_100357572\",\"dateCreated\":\"2019-01-07T12:31:35+0000\",\"dateStarted\":\"2019-03-28T20:40:15+0000\",\"dateFinished\":\"2019-03-28T20:40:35+0000\",\"status\":\"FINISHED\",\"progressUpdateIntervalMs\":500,\"$$hashKey\":\"object:45\"},{\"text\":\"%pyspark\\nprovider_org_name_ext.createOrReplaceTempView('provider_org_name_ext_map')\\n\",\"user\":\"anonymous\",\"dateUpdated\":\"2019-03-28T20:30:49+0000\",\"config\":{\"tableHide\":true,\"editorSetting\":{\"language\":\"python\",\"editOnDblClick\":false},\"colWidth\":12,\"editorMode\":\"ace/mode/python\",\"editorHide\":false,\"results\":{},\"enabled\":true},\"settings\":{\"params\":{},\"forms\":{}},\"results\":{\"code\":\"SUCCESS\",\"msg\":[]},\"apps\":[],\"jobName\":\"paragraph_1546864295964_-876216393\",\"id\":\"20180620-095007_1885180407\",\"dateCreated\":\"2019-01-07T12:31:35+0000\",\"dateStarted\":\"2019-03-28T20:40:16+0000\",\"dateFinished\":\"2019-03-28T20:40:35+0000\",\"status\":\"FINISHED\",\"progressUpdateIntervalMs\":500,\"$$hashKey\":\"object:46\"},{\"text\":\"%pyspark\\nsqlContext.sql(\\\"Show tables\\\").show()\",\"user\":\"anonymous\",\"dateUpdated\":\"2019-03-28T20:30:49+0000\",\"config\":{\"tableHide\":true,\"editorSetting\":{\"language\":\"python\",\"editOnDblClick\":false},\"colWidth\":12,\"editorMode\":\"ace/mode/python\",\"editorHide\":false,\"results\":{},\"enabled\":false},\"settings\":{\"params\":{},\"forms\":{}},\"apps\":[],\"jobName\":\"paragraph_1546864295967_-875831644\",\"id\":\"20181127-130853_203892643\",\"dateCreated\":\"2019-01-07T12:31:35+0000\",\"status\":\"READY\",\"errorMessage\":\"\",\"progressUpdateIntervalMs\":500,\"$$hashKey\":\"object:47\"},{\"text\":\"%sql\\ndrop table provider_spine_db.ADDR_EXT_ALL_SRC_ALL\\n\",\"user\":\"anonymous\",\"dateUpdated\":\"2019-03-28T20:30:49+0000\",\"config\":{\"tableHide\":true,\"editorSetting\":{\"language\":\"sql\",\"editOnDblClick\":false},\"colWidth\":12,\"editorMode\":\"ace/mode/sql\",\"editorHide\":false,\"results\":{},\"enabled\":true},\"settings\":{\"params\":{},\"forms\":{}},\"results\":{\"code\":\"ERROR\",\"msg\":[{\"type\":\"TEXT\",\"data\":\"Table or view 'addr_ext_all_src_all' not found in database 'provider_spine_db';\\nset zeppelin.spark.sql.stacktrace = true to see full stacktrace\"}]},\"apps\":[],\"jobName\":\"paragraph_1546864295972_-891606349\",\"id\":\"20181204-094906_464338405\",\"dateCreated\":\"2019-01-07T12:31:35+0000\",\"dateStarted\":\"2019-03-28T20:40:36+0000\",\"dateFinished\":\"2019-03-28T20:40:36+0000\",\"status\":\"ERROR\",\"progressUpdateIntervalMs\":500,\"$$hashKey\":\"object:48\"},{\"text\":\"%sql\\nCREATE TABLE provider_spine_db.ADDR_EXT_ALL_SRC_ALL location 's3://snvn-dev-amer-01/notebook_data/PROVIDER_SPINE_DATALOAD/OUTPUT_DATA/ADDR_EXT_all_SRC_ALL' AS\\n(SELECT YEAR_MONTH,SRC,ENTITY_ID,trim(ADDRESS)as ADDRESS,trim(extd_ADDRESS)as extd_ADDRESS FROM provider_org_name_ext_map)\\n\",\"user\":\"anonymous\",\"dateUpdated\":\"2019-03-29T05:27:16+0000\",\"config\":{\"tableHide\":false,\"editorSetting\":{\"language\":\"sql\",\"editOnDblClick\":false},\"colWidth\":12,\"editorMode\":\"ace/mode/sql\",\"editorHide\":false,\"results\":{},\"enabled\":true},\"settings\":{\"params\":{},\"forms\":{}},\"results\":{\"code\":\"SUCCESS\",\"msg\":[{\"type\":\"TABLE\",\"data\":\"\"}]},\"apps\":[],\"jobName\":\"paragraph_1546864295976_-893145344\",\"id\":\"20180620-095211_172590945\",\"dateCreated\":\"2019-01-07T12:31:35+0000\",\"dateStarted\":\"2019-03-28T20:40:36+0000\",\"dateFinished\":\"2019-03-28T22:33:49+0000\",\"status\":\"FINISHED\",\"progressUpdateIntervalMs\":500,\"$$hashKey\":\"object:49\"},{\"text\":\"\",\"user\":\"anonymous\",\"dateUpdated\":\"2019-03-28T20:30:49+0000\",\"config\":{\"tableHide\":true,\"editorSetting\":{\"language\":\"scala\",\"editOnDblClick\":false},\"colWidth\":12,\"editorMode\":\"ace/mode/scala\",\"editorHide\":false,\"results\":{},\"enabled\":true},\"settings\":{\"params\":{},\"forms\":{}},\"apps\":[],\"jobName\":\"paragraph_1546864295983_-894299591\",\"id\":\"20180711-195154_1327025563\",\"dateCreated\":\"2019-01-07T12:31:35+0000\",\"status\":\"FINISHED\",\"errorMessage\":\"\",\"progressUpdateIntervalMs\":500,\"$$hashKey\":\"object:50\"}],\"name\":\"2019.01.07_PROVIDER_PREPROCESSING_ADDRESS_JR\",\"id\":\"2E3MSMAV3\",\"angularObjects\":{\"2BRWU4WXC:shared_process\":[],\"2AM1YV5CU:shared_process\":[],\"2AJXGMUUJ:shared_process\":[],\"2ANGGHHMQ:shared_process\":[],\"2AKK3QQXU:shared_process\":[]},\"config\":{\"looknfeel\":\"default\",\"personalizedMode\":\"false\"},\"info\":{}}\n"
     ]
    },
    {
     "ename": "JSONDecodeError",
     "evalue": "Expecting value: line 1 column 1 (char 0)",
     "output_type": "error",
     "traceback": [
      "\u001b[1;31m---------------------------------------------------------------------------\u001b[0m",
      "\u001b[1;31mJSONDecodeError\u001b[0m                           Traceback (most recent call last)",
      "\u001b[1;32m<ipython-input-13-045f4e37126e>\u001b[0m in \u001b[0;36m<module>\u001b[1;34m()\u001b[0m\n\u001b[0;32m     10\u001b[0m \u001b[1;32mif\u001b[0m \u001b[0mfilename\u001b[0m\u001b[1;33m:\u001b[0m\u001b[1;33m\u001b[0m\u001b[0m\n\u001b[0;32m     11\u001b[0m     \u001b[1;32mwith\u001b[0m \u001b[0mopen\u001b[0m\u001b[1;33m(\u001b[0m\u001b[0mfilename\u001b[0m\u001b[1;33m,\u001b[0m \u001b[1;34m'r'\u001b[0m\u001b[1;33m)\u001b[0m \u001b[1;32mas\u001b[0m \u001b[0mf\u001b[0m\u001b[1;33m:\u001b[0m\u001b[1;33m\u001b[0m\u001b[0m\n\u001b[1;32m---> 12\u001b[1;33m         \u001b[0mdatastore\u001b[0m \u001b[1;33m=\u001b[0m \u001b[0mjson\u001b[0m\u001b[1;33m.\u001b[0m\u001b[0mload\u001b[0m\u001b[1;33m(\u001b[0m\u001b[0mf\u001b[0m\u001b[1;33m)\u001b[0m\u001b[1;33m\u001b[0m\u001b[0m\n\u001b[0m\u001b[0;32m     13\u001b[0m \u001b[1;33m\u001b[0m\u001b[0m\n\u001b[0;32m     14\u001b[0m \u001b[1;31m#Use the new datastore datastructure\u001b[0m\u001b[1;33m\u001b[0m\u001b[1;33m\u001b[0m\u001b[0m\n",
      "\u001b[1;32mC:\\ProgramData\\Anaconda3\\lib\\json\\__init__.py\u001b[0m in \u001b[0;36mload\u001b[1;34m(fp, cls, object_hook, parse_float, parse_int, parse_constant, object_pairs_hook, **kw)\u001b[0m\n\u001b[0;32m    294\u001b[0m         \u001b[0mcls\u001b[0m\u001b[1;33m=\u001b[0m\u001b[0mcls\u001b[0m\u001b[1;33m,\u001b[0m \u001b[0mobject_hook\u001b[0m\u001b[1;33m=\u001b[0m\u001b[0mobject_hook\u001b[0m\u001b[1;33m,\u001b[0m\u001b[1;33m\u001b[0m\u001b[0m\n\u001b[0;32m    295\u001b[0m         \u001b[0mparse_float\u001b[0m\u001b[1;33m=\u001b[0m\u001b[0mparse_float\u001b[0m\u001b[1;33m,\u001b[0m \u001b[0mparse_int\u001b[0m\u001b[1;33m=\u001b[0m\u001b[0mparse_int\u001b[0m\u001b[1;33m,\u001b[0m\u001b[1;33m\u001b[0m\u001b[0m\n\u001b[1;32m--> 296\u001b[1;33m         parse_constant=parse_constant, object_pairs_hook=object_pairs_hook, **kw)\n\u001b[0m\u001b[0;32m    297\u001b[0m \u001b[1;33m\u001b[0m\u001b[0m\n\u001b[0;32m    298\u001b[0m \u001b[1;33m\u001b[0m\u001b[0m\n",
      "\u001b[1;32mC:\\ProgramData\\Anaconda3\\lib\\json\\__init__.py\u001b[0m in \u001b[0;36mloads\u001b[1;34m(s, encoding, cls, object_hook, parse_float, parse_int, parse_constant, object_pairs_hook, **kw)\u001b[0m\n\u001b[0;32m    346\u001b[0m             \u001b[0mparse_int\u001b[0m \u001b[1;32mis\u001b[0m \u001b[1;32mNone\u001b[0m \u001b[1;32mand\u001b[0m \u001b[0mparse_float\u001b[0m \u001b[1;32mis\u001b[0m \u001b[1;32mNone\u001b[0m \u001b[1;32mand\u001b[0m\u001b[1;33m\u001b[0m\u001b[0m\n\u001b[0;32m    347\u001b[0m             parse_constant is None and object_pairs_hook is None and not kw):\n\u001b[1;32m--> 348\u001b[1;33m         \u001b[1;32mreturn\u001b[0m \u001b[0m_default_decoder\u001b[0m\u001b[1;33m.\u001b[0m\u001b[0mdecode\u001b[0m\u001b[1;33m(\u001b[0m\u001b[0ms\u001b[0m\u001b[1;33m)\u001b[0m\u001b[1;33m\u001b[0m\u001b[0m\n\u001b[0m\u001b[0;32m    349\u001b[0m     \u001b[1;32mif\u001b[0m \u001b[0mcls\u001b[0m \u001b[1;32mis\u001b[0m \u001b[1;32mNone\u001b[0m\u001b[1;33m:\u001b[0m\u001b[1;33m\u001b[0m\u001b[0m\n\u001b[0;32m    350\u001b[0m         \u001b[0mcls\u001b[0m \u001b[1;33m=\u001b[0m \u001b[0mJSONDecoder\u001b[0m\u001b[1;33m\u001b[0m\u001b[0m\n",
      "\u001b[1;32mC:\\ProgramData\\Anaconda3\\lib\\json\\decoder.py\u001b[0m in \u001b[0;36mdecode\u001b[1;34m(self, s, _w)\u001b[0m\n\u001b[0;32m    335\u001b[0m \u001b[1;33m\u001b[0m\u001b[0m\n\u001b[0;32m    336\u001b[0m         \"\"\"\n\u001b[1;32m--> 337\u001b[1;33m         \u001b[0mobj\u001b[0m\u001b[1;33m,\u001b[0m \u001b[0mend\u001b[0m \u001b[1;33m=\u001b[0m \u001b[0mself\u001b[0m\u001b[1;33m.\u001b[0m\u001b[0mraw_decode\u001b[0m\u001b[1;33m(\u001b[0m\u001b[0ms\u001b[0m\u001b[1;33m,\u001b[0m \u001b[0midx\u001b[0m\u001b[1;33m=\u001b[0m\u001b[0m_w\u001b[0m\u001b[1;33m(\u001b[0m\u001b[0ms\u001b[0m\u001b[1;33m,\u001b[0m \u001b[1;36m0\u001b[0m\u001b[1;33m)\u001b[0m\u001b[1;33m.\u001b[0m\u001b[0mend\u001b[0m\u001b[1;33m(\u001b[0m\u001b[1;33m)\u001b[0m\u001b[1;33m)\u001b[0m\u001b[1;33m\u001b[0m\u001b[0m\n\u001b[0m\u001b[0;32m    338\u001b[0m         \u001b[0mend\u001b[0m \u001b[1;33m=\u001b[0m \u001b[0m_w\u001b[0m\u001b[1;33m(\u001b[0m\u001b[0ms\u001b[0m\u001b[1;33m,\u001b[0m \u001b[0mend\u001b[0m\u001b[1;33m)\u001b[0m\u001b[1;33m.\u001b[0m\u001b[0mend\u001b[0m\u001b[1;33m(\u001b[0m\u001b[1;33m)\u001b[0m\u001b[1;33m\u001b[0m\u001b[0m\n\u001b[0;32m    339\u001b[0m         \u001b[1;32mif\u001b[0m \u001b[0mend\u001b[0m \u001b[1;33m!=\u001b[0m \u001b[0mlen\u001b[0m\u001b[1;33m(\u001b[0m\u001b[0ms\u001b[0m\u001b[1;33m)\u001b[0m\u001b[1;33m:\u001b[0m\u001b[1;33m\u001b[0m\u001b[0m\n",
      "\u001b[1;32mC:\\ProgramData\\Anaconda3\\lib\\json\\decoder.py\u001b[0m in \u001b[0;36mraw_decode\u001b[1;34m(self, s, idx)\u001b[0m\n\u001b[0;32m    353\u001b[0m             \u001b[0mobj\u001b[0m\u001b[1;33m,\u001b[0m \u001b[0mend\u001b[0m \u001b[1;33m=\u001b[0m \u001b[0mself\u001b[0m\u001b[1;33m.\u001b[0m\u001b[0mscan_once\u001b[0m\u001b[1;33m(\u001b[0m\u001b[0ms\u001b[0m\u001b[1;33m,\u001b[0m \u001b[0midx\u001b[0m\u001b[1;33m)\u001b[0m\u001b[1;33m\u001b[0m\u001b[0m\n\u001b[0;32m    354\u001b[0m         \u001b[1;32mexcept\u001b[0m \u001b[0mStopIteration\u001b[0m \u001b[1;32mas\u001b[0m \u001b[0merr\u001b[0m\u001b[1;33m:\u001b[0m\u001b[1;33m\u001b[0m\u001b[0m\n\u001b[1;32m--> 355\u001b[1;33m             \u001b[1;32mraise\u001b[0m \u001b[0mJSONDecodeError\u001b[0m\u001b[1;33m(\u001b[0m\u001b[1;34m\"Expecting value\"\u001b[0m\u001b[1;33m,\u001b[0m \u001b[0ms\u001b[0m\u001b[1;33m,\u001b[0m \u001b[0merr\u001b[0m\u001b[1;33m.\u001b[0m\u001b[0mvalue\u001b[0m\u001b[1;33m)\u001b[0m \u001b[1;32mfrom\u001b[0m \u001b[1;32mNone\u001b[0m\u001b[1;33m\u001b[0m\u001b[0m\n\u001b[0m\u001b[0;32m    356\u001b[0m         \u001b[1;32mreturn\u001b[0m \u001b[0mobj\u001b[0m\u001b[1;33m,\u001b[0m \u001b[0mend\u001b[0m\u001b[1;33m\u001b[0m\u001b[0m\n",
      "\u001b[1;31mJSONDecodeError\u001b[0m: Expecting value: line 1 column 1 (char 0)"
     ]
    }
   ],
   "source": [
    "# import rhinoscriptsyntax as rs\n",
    "import json\n",
    "\n",
    "#prompt the user for a file to import\n",
    "# filter = \"JSON file (*.json)|*.json|All Files (*.*)|*.*||\"\n",
    "filename = '2019.01.07_PROVIDER_PREPROCESSING_ADDRESS_JR.json'\n",
    "\n",
    "print(open(filename).read())\n",
    "#Read JSON data into the datastore variable\n",
    "if filename:\n",
    "    with open(filename, 'r') as f:\n",
    "        datastore = json.load(f)\n",
    "\n",
    "#Use the new datastore datastructure\n",
    "print(datastore)"
   ]
  },
  {
   "cell_type": "code",
   "execution_count": 53,
   "metadata": {},
   "outputs": [
    {
     "data": {
      "application/vnd.plotly.v1+json": {
       "config": {
        "plotlyServerURL": "https://plotly.com"
       },
       "data": [
        {
         "marker": {
          "color": "#1c1847"
         },
         "textinfo": "value+percent previous",
         "textposition": "inside",
         "texttemplate": "%{value:,.2d}<br>%{percentPrevious}",
         "type": "funnel",
         "x": [
          369496,
          277122,
          184748,
          92374
         ],
         "xaxis": "x",
         "y": [
          "sales D",
          "sales C",
          "sales B",
          "sales A"
         ],
         "yaxis": "y"
        },
        {
         "marker": {
          "color": "#ff0000"
         },
         "textinfo": "value+percent previous",
         "textposition": "inside",
         "type": "funnel",
         "x": [
          4,
          3,
          2,
          1
         ],
         "xaxis": "x2",
         "y": [
          "sales A",
          "sales B",
          "sales C",
          "sales D"
         ],
         "yaxis": "y2"
        }
       ],
       "layout": {
        "annotations": [
         {
          "font": {
           "size": 16
          },
          "showarrow": false,
          "text": "US Funnel",
          "x": 0.225,
          "xanchor": "center",
          "xref": "paper",
          "y": 1,
          "yanchor": "bottom",
          "yref": "paper"
         },
         {
          "font": {
           "size": 16
          },
          "showarrow": false,
          "text": "Canada Funnel",
          "x": 0.775,
          "xanchor": "center",
          "xref": "paper",
          "y": 1,
          "yanchor": "bottom",
          "yref": "paper"
         }
        ],
        "height": 600,
        "showlegend": false,
        "template": {
         "data": {
          "bar": [
           {
            "error_x": {
             "color": "#2a3f5f"
            },
            "error_y": {
             "color": "#2a3f5f"
            },
            "marker": {
             "line": {
              "color": "#E5ECF6",
              "width": 0.5
             }
            },
            "type": "bar"
           }
          ],
          "barpolar": [
           {
            "marker": {
             "line": {
              "color": "#E5ECF6",
              "width": 0.5
             }
            },
            "type": "barpolar"
           }
          ],
          "carpet": [
           {
            "aaxis": {
             "endlinecolor": "#2a3f5f",
             "gridcolor": "white",
             "linecolor": "white",
             "minorgridcolor": "white",
             "startlinecolor": "#2a3f5f"
            },
            "baxis": {
             "endlinecolor": "#2a3f5f",
             "gridcolor": "white",
             "linecolor": "white",
             "minorgridcolor": "white",
             "startlinecolor": "#2a3f5f"
            },
            "type": "carpet"
           }
          ],
          "choropleth": [
           {
            "colorbar": {
             "outlinewidth": 0,
             "ticks": ""
            },
            "type": "choropleth"
           }
          ],
          "contour": [
           {
            "colorbar": {
             "outlinewidth": 0,
             "ticks": ""
            },
            "colorscale": [
             [
              0,
              "#0d0887"
             ],
             [
              0.1111111111111111,
              "#46039f"
             ],
             [
              0.2222222222222222,
              "#7201a8"
             ],
             [
              0.3333333333333333,
              "#9c179e"
             ],
             [
              0.4444444444444444,
              "#bd3786"
             ],
             [
              0.5555555555555556,
              "#d8576b"
             ],
             [
              0.6666666666666666,
              "#ed7953"
             ],
             [
              0.7777777777777778,
              "#fb9f3a"
             ],
             [
              0.8888888888888888,
              "#fdca26"
             ],
             [
              1,
              "#f0f921"
             ]
            ],
            "type": "contour"
           }
          ],
          "contourcarpet": [
           {
            "colorbar": {
             "outlinewidth": 0,
             "ticks": ""
            },
            "type": "contourcarpet"
           }
          ],
          "heatmap": [
           {
            "colorbar": {
             "outlinewidth": 0,
             "ticks": ""
            },
            "colorscale": [
             [
              0,
              "#0d0887"
             ],
             [
              0.1111111111111111,
              "#46039f"
             ],
             [
              0.2222222222222222,
              "#7201a8"
             ],
             [
              0.3333333333333333,
              "#9c179e"
             ],
             [
              0.4444444444444444,
              "#bd3786"
             ],
             [
              0.5555555555555556,
              "#d8576b"
             ],
             [
              0.6666666666666666,
              "#ed7953"
             ],
             [
              0.7777777777777778,
              "#fb9f3a"
             ],
             [
              0.8888888888888888,
              "#fdca26"
             ],
             [
              1,
              "#f0f921"
             ]
            ],
            "type": "heatmap"
           }
          ],
          "heatmapgl": [
           {
            "colorbar": {
             "outlinewidth": 0,
             "ticks": ""
            },
            "colorscale": [
             [
              0,
              "#0d0887"
             ],
             [
              0.1111111111111111,
              "#46039f"
             ],
             [
              0.2222222222222222,
              "#7201a8"
             ],
             [
              0.3333333333333333,
              "#9c179e"
             ],
             [
              0.4444444444444444,
              "#bd3786"
             ],
             [
              0.5555555555555556,
              "#d8576b"
             ],
             [
              0.6666666666666666,
              "#ed7953"
             ],
             [
              0.7777777777777778,
              "#fb9f3a"
             ],
             [
              0.8888888888888888,
              "#fdca26"
             ],
             [
              1,
              "#f0f921"
             ]
            ],
            "type": "heatmapgl"
           }
          ],
          "histogram": [
           {
            "marker": {
             "colorbar": {
              "outlinewidth": 0,
              "ticks": ""
             }
            },
            "type": "histogram"
           }
          ],
          "histogram2d": [
           {
            "colorbar": {
             "outlinewidth": 0,
             "ticks": ""
            },
            "colorscale": [
             [
              0,
              "#0d0887"
             ],
             [
              0.1111111111111111,
              "#46039f"
             ],
             [
              0.2222222222222222,
              "#7201a8"
             ],
             [
              0.3333333333333333,
              "#9c179e"
             ],
             [
              0.4444444444444444,
              "#bd3786"
             ],
             [
              0.5555555555555556,
              "#d8576b"
             ],
             [
              0.6666666666666666,
              "#ed7953"
             ],
             [
              0.7777777777777778,
              "#fb9f3a"
             ],
             [
              0.8888888888888888,
              "#fdca26"
             ],
             [
              1,
              "#f0f921"
             ]
            ],
            "type": "histogram2d"
           }
          ],
          "histogram2dcontour": [
           {
            "colorbar": {
             "outlinewidth": 0,
             "ticks": ""
            },
            "colorscale": [
             [
              0,
              "#0d0887"
             ],
             [
              0.1111111111111111,
              "#46039f"
             ],
             [
              0.2222222222222222,
              "#7201a8"
             ],
             [
              0.3333333333333333,
              "#9c179e"
             ],
             [
              0.4444444444444444,
              "#bd3786"
             ],
             [
              0.5555555555555556,
              "#d8576b"
             ],
             [
              0.6666666666666666,
              "#ed7953"
             ],
             [
              0.7777777777777778,
              "#fb9f3a"
             ],
             [
              0.8888888888888888,
              "#fdca26"
             ],
             [
              1,
              "#f0f921"
             ]
            ],
            "type": "histogram2dcontour"
           }
          ],
          "mesh3d": [
           {
            "colorbar": {
             "outlinewidth": 0,
             "ticks": ""
            },
            "type": "mesh3d"
           }
          ],
          "parcoords": [
           {
            "line": {
             "colorbar": {
              "outlinewidth": 0,
              "ticks": ""
             }
            },
            "type": "parcoords"
           }
          ],
          "pie": [
           {
            "automargin": true,
            "type": "pie"
           }
          ],
          "scatter": [
           {
            "marker": {
             "colorbar": {
              "outlinewidth": 0,
              "ticks": ""
             }
            },
            "type": "scatter"
           }
          ],
          "scatter3d": [
           {
            "line": {
             "colorbar": {
              "outlinewidth": 0,
              "ticks": ""
             }
            },
            "marker": {
             "colorbar": {
              "outlinewidth": 0,
              "ticks": ""
             }
            },
            "type": "scatter3d"
           }
          ],
          "scattercarpet": [
           {
            "marker": {
             "colorbar": {
              "outlinewidth": 0,
              "ticks": ""
             }
            },
            "type": "scattercarpet"
           }
          ],
          "scattergeo": [
           {
            "marker": {
             "colorbar": {
              "outlinewidth": 0,
              "ticks": ""
             }
            },
            "type": "scattergeo"
           }
          ],
          "scattergl": [
           {
            "marker": {
             "colorbar": {
              "outlinewidth": 0,
              "ticks": ""
             }
            },
            "type": "scattergl"
           }
          ],
          "scattermapbox": [
           {
            "marker": {
             "colorbar": {
              "outlinewidth": 0,
              "ticks": ""
             }
            },
            "type": "scattermapbox"
           }
          ],
          "scatterpolar": [
           {
            "marker": {
             "colorbar": {
              "outlinewidth": 0,
              "ticks": ""
             }
            },
            "type": "scatterpolar"
           }
          ],
          "scatterpolargl": [
           {
            "marker": {
             "colorbar": {
              "outlinewidth": 0,
              "ticks": ""
             }
            },
            "type": "scatterpolargl"
           }
          ],
          "scatterternary": [
           {
            "marker": {
             "colorbar": {
              "outlinewidth": 0,
              "ticks": ""
             }
            },
            "type": "scatterternary"
           }
          ],
          "surface": [
           {
            "colorbar": {
             "outlinewidth": 0,
             "ticks": ""
            },
            "colorscale": [
             [
              0,
              "#0d0887"
             ],
             [
              0.1111111111111111,
              "#46039f"
             ],
             [
              0.2222222222222222,
              "#7201a8"
             ],
             [
              0.3333333333333333,
              "#9c179e"
             ],
             [
              0.4444444444444444,
              "#bd3786"
             ],
             [
              0.5555555555555556,
              "#d8576b"
             ],
             [
              0.6666666666666666,
              "#ed7953"
             ],
             [
              0.7777777777777778,
              "#fb9f3a"
             ],
             [
              0.8888888888888888,
              "#fdca26"
             ],
             [
              1,
              "#f0f921"
             ]
            ],
            "type": "surface"
           }
          ],
          "table": [
           {
            "cells": {
             "fill": {
              "color": "#EBF0F8"
             },
             "line": {
              "color": "white"
             }
            },
            "header": {
             "fill": {
              "color": "#C8D4E3"
             },
             "line": {
              "color": "white"
             }
            },
            "type": "table"
           }
          ]
         },
         "layout": {
          "annotationdefaults": {
           "arrowcolor": "#2a3f5f",
           "arrowhead": 0,
           "arrowwidth": 1
          },
          "coloraxis": {
           "colorbar": {
            "outlinewidth": 0,
            "ticks": ""
           }
          },
          "colorscale": {
           "diverging": [
            [
             0,
             "#8e0152"
            ],
            [
             0.1,
             "#c51b7d"
            ],
            [
             0.2,
             "#de77ae"
            ],
            [
             0.3,
             "#f1b6da"
            ],
            [
             0.4,
             "#fde0ef"
            ],
            [
             0.5,
             "#f7f7f7"
            ],
            [
             0.6,
             "#e6f5d0"
            ],
            [
             0.7,
             "#b8e186"
            ],
            [
             0.8,
             "#7fbc41"
            ],
            [
             0.9,
             "#4d9221"
            ],
            [
             1,
             "#276419"
            ]
           ],
           "sequential": [
            [
             0,
             "#0d0887"
            ],
            [
             0.1111111111111111,
             "#46039f"
            ],
            [
             0.2222222222222222,
             "#7201a8"
            ],
            [
             0.3333333333333333,
             "#9c179e"
            ],
            [
             0.4444444444444444,
             "#bd3786"
            ],
            [
             0.5555555555555556,
             "#d8576b"
            ],
            [
             0.6666666666666666,
             "#ed7953"
            ],
            [
             0.7777777777777778,
             "#fb9f3a"
            ],
            [
             0.8888888888888888,
             "#fdca26"
            ],
            [
             1,
             "#f0f921"
            ]
           ],
           "sequentialminus": [
            [
             0,
             "#0d0887"
            ],
            [
             0.1111111111111111,
             "#46039f"
            ],
            [
             0.2222222222222222,
             "#7201a8"
            ],
            [
             0.3333333333333333,
             "#9c179e"
            ],
            [
             0.4444444444444444,
             "#bd3786"
            ],
            [
             0.5555555555555556,
             "#d8576b"
            ],
            [
             0.6666666666666666,
             "#ed7953"
            ],
            [
             0.7777777777777778,
             "#fb9f3a"
            ],
            [
             0.8888888888888888,
             "#fdca26"
            ],
            [
             1,
             "#f0f921"
            ]
           ]
          },
          "colorway": [
           "#636efa",
           "#EF553B",
           "#00cc96",
           "#ab63fa",
           "#FFA15A",
           "#19d3f3",
           "#FF6692",
           "#B6E880",
           "#FF97FF",
           "#FECB52"
          ],
          "font": {
           "color": "#2a3f5f"
          },
          "geo": {
           "bgcolor": "white",
           "lakecolor": "white",
           "landcolor": "#E5ECF6",
           "showlakes": true,
           "showland": true,
           "subunitcolor": "white"
          },
          "hoverlabel": {
           "align": "left"
          },
          "hovermode": "closest",
          "mapbox": {
           "style": "light"
          },
          "paper_bgcolor": "white",
          "plot_bgcolor": "#E5ECF6",
          "polar": {
           "angularaxis": {
            "gridcolor": "white",
            "linecolor": "white",
            "ticks": ""
           },
           "bgcolor": "#E5ECF6",
           "radialaxis": {
            "gridcolor": "white",
            "linecolor": "white",
            "ticks": ""
           }
          },
          "scene": {
           "xaxis": {
            "backgroundcolor": "#E5ECF6",
            "gridcolor": "white",
            "gridwidth": 2,
            "linecolor": "white",
            "showbackground": true,
            "ticks": "",
            "zerolinecolor": "white"
           },
           "yaxis": {
            "backgroundcolor": "#E5ECF6",
            "gridcolor": "white",
            "gridwidth": 2,
            "linecolor": "white",
            "showbackground": true,
            "ticks": "",
            "zerolinecolor": "white"
           },
           "zaxis": {
            "backgroundcolor": "#E5ECF6",
            "gridcolor": "white",
            "gridwidth": 2,
            "linecolor": "white",
            "showbackground": true,
            "ticks": "",
            "zerolinecolor": "white"
           }
          },
          "shapedefaults": {
           "line": {
            "color": "#2a3f5f"
           }
          },
          "ternary": {
           "aaxis": {
            "gridcolor": "white",
            "linecolor": "white",
            "ticks": ""
           },
           "baxis": {
            "gridcolor": "white",
            "linecolor": "white",
            "ticks": ""
           },
           "bgcolor": "#E5ECF6",
           "caxis": {
            "gridcolor": "white",
            "linecolor": "white",
            "ticks": ""
           }
          },
          "title": {
           "x": 0.05
          },
          "xaxis": {
           "automargin": true,
           "gridcolor": "white",
           "linecolor": "white",
           "ticks": "",
           "title": {
            "standoff": 15
           },
           "zerolinecolor": "white",
           "zerolinewidth": 2
          },
          "yaxis": {
           "automargin": true,
           "gridcolor": "white",
           "linecolor": "white",
           "ticks": "",
           "title": {
            "standoff": 15
           },
           "zerolinecolor": "white",
           "zerolinewidth": 2
          }
         }
        },
        "width": 1000,
        "xaxis": {
         "anchor": "y",
         "domain": [
          0,
          0.45
         ]
        },
        "xaxis2": {
         "anchor": "y2",
         "domain": [
          0.55,
          1
         ]
        },
        "yaxis": {
         "anchor": "x",
         "domain": [
          0,
          1
         ]
        },
        "yaxis2": {
         "anchor": "x2",
         "domain": [
          0,
          1
         ]
        }
       }
      },
      "text/html": [
       "<div>\n",
       "        \n",
       "        \n",
       "            <div id=\"be9a5edd-aedc-4c12-aeb2-cbbe2ece595c\" class=\"plotly-graph-div\" style=\"height:600px; width:1000px;\"></div>\n",
       "            <script type=\"text/javascript\">\n",
       "                require([\"plotly\"], function(Plotly) {\n",
       "                    window.PLOTLYENV=window.PLOTLYENV || {};\n",
       "                    \n",
       "                if (document.getElementById(\"be9a5edd-aedc-4c12-aeb2-cbbe2ece595c\")) {\n",
       "                    Plotly.newPlot(\n",
       "                        'be9a5edd-aedc-4c12-aeb2-cbbe2ece595c',\n",
       "                        [{\"marker\": {\"color\": \"#1c1847\"}, \"textinfo\": \"value+percent previous\", \"textposition\": \"inside\", \"texttemplate\": \"%{value:,.2d}<br>%{percentPrevious}\", \"type\": \"funnel\", \"x\": [369496, 277122, 184748, 92374], \"xaxis\": \"x\", \"y\": [\"sales D\", \"sales C\", \"sales B\", \"sales A\"], \"yaxis\": \"y\"}, {\"marker\": {\"color\": \"#ff0000\"}, \"textinfo\": \"value+percent previous\", \"textposition\": \"inside\", \"type\": \"funnel\", \"x\": [4, 3, 2, 1], \"xaxis\": \"x2\", \"y\": [\"sales A\", \"sales B\", \"sales C\", \"sales D\"], \"yaxis\": \"y2\"}],\n",
       "                        {\"annotations\": [{\"font\": {\"size\": 16}, \"showarrow\": false, \"text\": \"US Funnel\", \"x\": 0.225, \"xanchor\": \"center\", \"xref\": \"paper\", \"y\": 1.0, \"yanchor\": \"bottom\", \"yref\": \"paper\"}, {\"font\": {\"size\": 16}, \"showarrow\": false, \"text\": \"Canada Funnel\", \"x\": 0.775, \"xanchor\": \"center\", \"xref\": \"paper\", \"y\": 1.0, \"yanchor\": \"bottom\", \"yref\": \"paper\"}], \"height\": 600, \"showlegend\": false, \"template\": {\"data\": {\"bar\": [{\"error_x\": {\"color\": \"#2a3f5f\"}, \"error_y\": {\"color\": \"#2a3f5f\"}, \"marker\": {\"line\": {\"color\": \"#E5ECF6\", \"width\": 0.5}}, \"type\": \"bar\"}], \"barpolar\": [{\"marker\": {\"line\": {\"color\": \"#E5ECF6\", \"width\": 0.5}}, \"type\": \"barpolar\"}], \"carpet\": [{\"aaxis\": {\"endlinecolor\": \"#2a3f5f\", \"gridcolor\": \"white\", \"linecolor\": \"white\", \"minorgridcolor\": \"white\", \"startlinecolor\": \"#2a3f5f\"}, \"baxis\": {\"endlinecolor\": \"#2a3f5f\", \"gridcolor\": \"white\", \"linecolor\": \"white\", \"minorgridcolor\": \"white\", \"startlinecolor\": \"#2a3f5f\"}, \"type\": \"carpet\"}], \"choropleth\": [{\"colorbar\": {\"outlinewidth\": 0, \"ticks\": \"\"}, \"type\": \"choropleth\"}], \"contour\": [{\"colorbar\": {\"outlinewidth\": 0, \"ticks\": \"\"}, \"colorscale\": [[0.0, \"#0d0887\"], [0.1111111111111111, \"#46039f\"], [0.2222222222222222, \"#7201a8\"], [0.3333333333333333, \"#9c179e\"], [0.4444444444444444, \"#bd3786\"], [0.5555555555555556, \"#d8576b\"], [0.6666666666666666, \"#ed7953\"], [0.7777777777777778, \"#fb9f3a\"], [0.8888888888888888, \"#fdca26\"], [1.0, \"#f0f921\"]], \"type\": \"contour\"}], \"contourcarpet\": [{\"colorbar\": {\"outlinewidth\": 0, \"ticks\": \"\"}, \"type\": \"contourcarpet\"}], \"heatmap\": [{\"colorbar\": {\"outlinewidth\": 0, \"ticks\": \"\"}, \"colorscale\": [[0.0, \"#0d0887\"], [0.1111111111111111, \"#46039f\"], [0.2222222222222222, \"#7201a8\"], [0.3333333333333333, \"#9c179e\"], [0.4444444444444444, \"#bd3786\"], [0.5555555555555556, \"#d8576b\"], [0.6666666666666666, \"#ed7953\"], [0.7777777777777778, \"#fb9f3a\"], [0.8888888888888888, \"#fdca26\"], [1.0, \"#f0f921\"]], \"type\": \"heatmap\"}], \"heatmapgl\": [{\"colorbar\": {\"outlinewidth\": 0, \"ticks\": \"\"}, \"colorscale\": [[0.0, \"#0d0887\"], [0.1111111111111111, \"#46039f\"], [0.2222222222222222, \"#7201a8\"], [0.3333333333333333, \"#9c179e\"], [0.4444444444444444, \"#bd3786\"], [0.5555555555555556, \"#d8576b\"], [0.6666666666666666, \"#ed7953\"], [0.7777777777777778, \"#fb9f3a\"], [0.8888888888888888, \"#fdca26\"], [1.0, \"#f0f921\"]], \"type\": \"heatmapgl\"}], \"histogram\": [{\"marker\": {\"colorbar\": {\"outlinewidth\": 0, \"ticks\": \"\"}}, \"type\": \"histogram\"}], \"histogram2d\": [{\"colorbar\": {\"outlinewidth\": 0, \"ticks\": \"\"}, \"colorscale\": [[0.0, \"#0d0887\"], [0.1111111111111111, \"#46039f\"], [0.2222222222222222, \"#7201a8\"], [0.3333333333333333, \"#9c179e\"], [0.4444444444444444, \"#bd3786\"], [0.5555555555555556, \"#d8576b\"], [0.6666666666666666, \"#ed7953\"], [0.7777777777777778, \"#fb9f3a\"], [0.8888888888888888, \"#fdca26\"], [1.0, \"#f0f921\"]], \"type\": \"histogram2d\"}], \"histogram2dcontour\": [{\"colorbar\": {\"outlinewidth\": 0, \"ticks\": \"\"}, \"colorscale\": [[0.0, \"#0d0887\"], [0.1111111111111111, \"#46039f\"], [0.2222222222222222, \"#7201a8\"], [0.3333333333333333, \"#9c179e\"], [0.4444444444444444, \"#bd3786\"], [0.5555555555555556, \"#d8576b\"], [0.6666666666666666, \"#ed7953\"], [0.7777777777777778, \"#fb9f3a\"], [0.8888888888888888, \"#fdca26\"], [1.0, \"#f0f921\"]], \"type\": \"histogram2dcontour\"}], \"mesh3d\": [{\"colorbar\": {\"outlinewidth\": 0, \"ticks\": \"\"}, \"type\": \"mesh3d\"}], \"parcoords\": [{\"line\": {\"colorbar\": {\"outlinewidth\": 0, \"ticks\": \"\"}}, \"type\": \"parcoords\"}], \"pie\": [{\"automargin\": true, \"type\": \"pie\"}], \"scatter\": [{\"marker\": {\"colorbar\": {\"outlinewidth\": 0, \"ticks\": \"\"}}, \"type\": \"scatter\"}], \"scatter3d\": [{\"line\": {\"colorbar\": {\"outlinewidth\": 0, \"ticks\": \"\"}}, \"marker\": {\"colorbar\": {\"outlinewidth\": 0, \"ticks\": \"\"}}, \"type\": \"scatter3d\"}], \"scattercarpet\": [{\"marker\": {\"colorbar\": {\"outlinewidth\": 0, \"ticks\": \"\"}}, \"type\": \"scattercarpet\"}], \"scattergeo\": [{\"marker\": {\"colorbar\": {\"outlinewidth\": 0, \"ticks\": \"\"}}, \"type\": \"scattergeo\"}], \"scattergl\": [{\"marker\": {\"colorbar\": {\"outlinewidth\": 0, \"ticks\": \"\"}}, \"type\": \"scattergl\"}], \"scattermapbox\": [{\"marker\": {\"colorbar\": {\"outlinewidth\": 0, \"ticks\": \"\"}}, \"type\": \"scattermapbox\"}], \"scatterpolar\": [{\"marker\": {\"colorbar\": {\"outlinewidth\": 0, \"ticks\": \"\"}}, \"type\": \"scatterpolar\"}], \"scatterpolargl\": [{\"marker\": {\"colorbar\": {\"outlinewidth\": 0, \"ticks\": \"\"}}, \"type\": \"scatterpolargl\"}], \"scatterternary\": [{\"marker\": {\"colorbar\": {\"outlinewidth\": 0, \"ticks\": \"\"}}, \"type\": \"scatterternary\"}], \"surface\": [{\"colorbar\": {\"outlinewidth\": 0, \"ticks\": \"\"}, \"colorscale\": [[0.0, \"#0d0887\"], [0.1111111111111111, \"#46039f\"], [0.2222222222222222, \"#7201a8\"], [0.3333333333333333, \"#9c179e\"], [0.4444444444444444, \"#bd3786\"], [0.5555555555555556, \"#d8576b\"], [0.6666666666666666, \"#ed7953\"], [0.7777777777777778, \"#fb9f3a\"], [0.8888888888888888, \"#fdca26\"], [1.0, \"#f0f921\"]], \"type\": \"surface\"}], \"table\": [{\"cells\": {\"fill\": {\"color\": \"#EBF0F8\"}, \"line\": {\"color\": \"white\"}}, \"header\": {\"fill\": {\"color\": \"#C8D4E3\"}, \"line\": {\"color\": \"white\"}}, \"type\": \"table\"}]}, \"layout\": {\"annotationdefaults\": {\"arrowcolor\": \"#2a3f5f\", \"arrowhead\": 0, \"arrowwidth\": 1}, \"coloraxis\": {\"colorbar\": {\"outlinewidth\": 0, \"ticks\": \"\"}}, \"colorscale\": {\"diverging\": [[0, \"#8e0152\"], [0.1, \"#c51b7d\"], [0.2, \"#de77ae\"], [0.3, \"#f1b6da\"], [0.4, \"#fde0ef\"], [0.5, \"#f7f7f7\"], [0.6, \"#e6f5d0\"], [0.7, \"#b8e186\"], [0.8, \"#7fbc41\"], [0.9, \"#4d9221\"], [1, \"#276419\"]], \"sequential\": [[0.0, \"#0d0887\"], [0.1111111111111111, \"#46039f\"], [0.2222222222222222, \"#7201a8\"], [0.3333333333333333, \"#9c179e\"], [0.4444444444444444, \"#bd3786\"], [0.5555555555555556, \"#d8576b\"], [0.6666666666666666, \"#ed7953\"], [0.7777777777777778, \"#fb9f3a\"], [0.8888888888888888, \"#fdca26\"], [1.0, \"#f0f921\"]], \"sequentialminus\": [[0.0, \"#0d0887\"], [0.1111111111111111, \"#46039f\"], [0.2222222222222222, \"#7201a8\"], [0.3333333333333333, \"#9c179e\"], [0.4444444444444444, \"#bd3786\"], [0.5555555555555556, \"#d8576b\"], [0.6666666666666666, \"#ed7953\"], [0.7777777777777778, \"#fb9f3a\"], [0.8888888888888888, \"#fdca26\"], [1.0, \"#f0f921\"]]}, \"colorway\": [\"#636efa\", \"#EF553B\", \"#00cc96\", \"#ab63fa\", \"#FFA15A\", \"#19d3f3\", \"#FF6692\", \"#B6E880\", \"#FF97FF\", \"#FECB52\"], \"font\": {\"color\": \"#2a3f5f\"}, \"geo\": {\"bgcolor\": \"white\", \"lakecolor\": \"white\", \"landcolor\": \"#E5ECF6\", \"showlakes\": true, \"showland\": true, \"subunitcolor\": \"white\"}, \"hoverlabel\": {\"align\": \"left\"}, \"hovermode\": \"closest\", \"mapbox\": {\"style\": \"light\"}, \"paper_bgcolor\": \"white\", \"plot_bgcolor\": \"#E5ECF6\", \"polar\": {\"angularaxis\": {\"gridcolor\": \"white\", \"linecolor\": \"white\", \"ticks\": \"\"}, \"bgcolor\": \"#E5ECF6\", \"radialaxis\": {\"gridcolor\": \"white\", \"linecolor\": \"white\", \"ticks\": \"\"}}, \"scene\": {\"xaxis\": {\"backgroundcolor\": \"#E5ECF6\", \"gridcolor\": \"white\", \"gridwidth\": 2, \"linecolor\": \"white\", \"showbackground\": true, \"ticks\": \"\", \"zerolinecolor\": \"white\"}, \"yaxis\": {\"backgroundcolor\": \"#E5ECF6\", \"gridcolor\": \"white\", \"gridwidth\": 2, \"linecolor\": \"white\", \"showbackground\": true, \"ticks\": \"\", \"zerolinecolor\": \"white\"}, \"zaxis\": {\"backgroundcolor\": \"#E5ECF6\", \"gridcolor\": \"white\", \"gridwidth\": 2, \"linecolor\": \"white\", \"showbackground\": true, \"ticks\": \"\", \"zerolinecolor\": \"white\"}}, \"shapedefaults\": {\"line\": {\"color\": \"#2a3f5f\"}}, \"ternary\": {\"aaxis\": {\"gridcolor\": \"white\", \"linecolor\": \"white\", \"ticks\": \"\"}, \"baxis\": {\"gridcolor\": \"white\", \"linecolor\": \"white\", \"ticks\": \"\"}, \"bgcolor\": \"#E5ECF6\", \"caxis\": {\"gridcolor\": \"white\", \"linecolor\": \"white\", \"ticks\": \"\"}}, \"title\": {\"x\": 0.05}, \"xaxis\": {\"automargin\": true, \"gridcolor\": \"white\", \"linecolor\": \"white\", \"ticks\": \"\", \"title\": {\"standoff\": 15}, \"zerolinecolor\": \"white\", \"zerolinewidth\": 2}, \"yaxis\": {\"automargin\": true, \"gridcolor\": \"white\", \"linecolor\": \"white\", \"ticks\": \"\", \"title\": {\"standoff\": 15}, \"zerolinecolor\": \"white\", \"zerolinewidth\": 2}}}, \"width\": 1000, \"xaxis\": {\"anchor\": \"y\", \"domain\": [0.0, 0.45]}, \"xaxis2\": {\"anchor\": \"y2\", \"domain\": [0.55, 1.0]}, \"yaxis\": {\"anchor\": \"x\", \"domain\": [0.0, 1.0]}, \"yaxis2\": {\"anchor\": \"x2\", \"domain\": [0.0, 1.0]}},\n",
       "                        {\"responsive\": true}\n",
       "                    ).then(function(){\n",
       "                            \n",
       "var gd = document.getElementById('be9a5edd-aedc-4c12-aeb2-cbbe2ece595c');\n",
       "var x = new MutationObserver(function (mutations, observer) {{\n",
       "        var display = window.getComputedStyle(gd).display;\n",
       "        if (!display || display === 'none') {{\n",
       "            console.log([gd, 'removed!']);\n",
       "            Plotly.purge(gd);\n",
       "            observer.disconnect();\n",
       "        }}\n",
       "}});\n",
       "\n",
       "// Listen for the removal of the full notebook cells\n",
       "var notebookContainer = gd.closest('#notebook-container');\n",
       "if (notebookContainer) {{\n",
       "    x.observe(notebookContainer, {childList: true});\n",
       "}}\n",
       "\n",
       "// Listen for the clearing of the current output cell\n",
       "var outputEl = gd.closest('.output');\n",
       "if (outputEl) {{\n",
       "    x.observe(outputEl, {childList: true});\n",
       "}}\n",
       "\n",
       "                        })\n",
       "                };\n",
       "                });\n",
       "            </script>\n",
       "        </div>"
      ]
     },
     "metadata": {},
     "output_type": "display_data"
    }
   ],
   "source": [
    "import plotly.graph_objects as go\n",
    "from plotly.subplots import make_subplots\n",
    "import pandas as pd\n",
    "\n",
    "df= pd.DataFrame({'id' : [1]*2+[15]+[20]+[21] +[2]*2+[12]+[50]+[25] + [3]*2+[9]+[11] + [4]*2 +[5]*2+[6]*2+[8]*1+[7]+[14], \n",
    "                 'Sales Entity' : ['sales B','sales C','sales C','sales B','sales D','sales C','sales D','sales D','sales D',\n",
    "                                   'sales A','sales A','sales A','sales A','sales A','sales C','sales C','sales B','sales D',\n",
    "                                  'sales B','sales B','sales B','sales C','sales A'],\n",
    "                'country' : ['US']*10 + ['Canada']*13})\n",
    "\n",
    "df1= df.groupby(['country','Sales Entity'])['id'].nunique().reset_index(name='count')\n",
    "\n",
    "USDF = df1[df1['country'] == 'US'].sort_values(['count'], ascending=[False])\n",
    "CNDF = df1[df1['country'] == 'Canada'].sort_values(['count'], ascending=[False])\n",
    "\n",
    "USDF['count'] = USDF['count']*92374\n",
    "fig = make_subplots(rows=1, cols=2,subplot_titles=(\"US Funnel\",\"Canada Funnel\"))\n",
    "\n",
    "\n",
    "fig.add_trace(\n",
    "    go.Funnel(\n",
    "    y = USDF['Sales Entity'],\n",
    "    x = USDF['count'],\n",
    "    textposition = \"inside\",\n",
    "    textinfo = \"value+percent previous\",\n",
    "    texttemplate = \"%{value:,.2d}<br>%{percentPrevious}\",\n",
    "    marker = {\"color\": \"#1c1847\"},\n",
    "#      yaxis = dict( showexponent = 'all', exponentformat = 'e' )\n",
    "),\n",
    "    row=1, col=1\n",
    ")\n",
    "\n",
    "fig.add_trace(\n",
    "    go.Funnel(\n",
    "    y = CNDF['Sales Entity'],\n",
    "    x = CNDF['count'],\n",
    "    textposition = \"inside\",\n",
    "    textinfo = \"value+percent previous\",\n",
    "    marker = {\"color\": \"#ff0000\"}\n",
    "),\n",
    "    row=1, col=2\n",
    ")\n",
    "\n",
    "fig.update_layout(showlegend=False,height=600, width=1000)\n",
    "fig.show()"
   ]
  },
  {
   "cell_type": "code",
   "execution_count": 3,
   "metadata": {},
   "outputs": [],
   "source": [
    "mode = \"markers+text\",\n",
    "    text = [\"A\", \"B\", \"C\"],\n",
    "    texttemplate = \"%{text}<br>(%{a:.2f}, %{b:.2f}, %{c:.2f})\","
   ]
  },
  {
   "cell_type": "code",
   "execution_count": 4,
   "metadata": {},
   "outputs": [
    {
     "data": {
      "text/html": [
       "<div>\n",
       "<style scoped>\n",
       "    .dataframe tbody tr th:only-of-type {\n",
       "        vertical-align: middle;\n",
       "    }\n",
       "\n",
       "    .dataframe tbody tr th {\n",
       "        vertical-align: top;\n",
       "    }\n",
       "\n",
       "    .dataframe thead th {\n",
       "        text-align: right;\n",
       "    }\n",
       "</style>\n",
       "<table border=\"1\" class=\"dataframe\">\n",
       "  <thead>\n",
       "    <tr style=\"text-align: right;\">\n",
       "      <th></th>\n",
       "      <th>country</th>\n",
       "      <th>Sales Entity</th>\n",
       "      <th>count</th>\n",
       "    </tr>\n",
       "  </thead>\n",
       "  <tbody>\n",
       "    <tr>\n",
       "      <td>0</td>\n",
       "      <td>Canada</td>\n",
       "      <td>sales A</td>\n",
       "      <td>4</td>\n",
       "    </tr>\n",
       "    <tr>\n",
       "      <td>1</td>\n",
       "      <td>Canada</td>\n",
       "      <td>sales B</td>\n",
       "      <td>3</td>\n",
       "    </tr>\n",
       "    <tr>\n",
       "      <td>2</td>\n",
       "      <td>Canada</td>\n",
       "      <td>sales C</td>\n",
       "      <td>2</td>\n",
       "    </tr>\n",
       "    <tr>\n",
       "      <td>3</td>\n",
       "      <td>Canada</td>\n",
       "      <td>sales D</td>\n",
       "      <td>1</td>\n",
       "    </tr>\n",
       "    <tr>\n",
       "      <td>4</td>\n",
       "      <td>US</td>\n",
       "      <td>sales A</td>\n",
       "      <td>1</td>\n",
       "    </tr>\n",
       "    <tr>\n",
       "      <td>5</td>\n",
       "      <td>US</td>\n",
       "      <td>sales B</td>\n",
       "      <td>2</td>\n",
       "    </tr>\n",
       "    <tr>\n",
       "      <td>6</td>\n",
       "      <td>US</td>\n",
       "      <td>sales C</td>\n",
       "      <td>3</td>\n",
       "    </tr>\n",
       "    <tr>\n",
       "      <td>7</td>\n",
       "      <td>US</td>\n",
       "      <td>sales D</td>\n",
       "      <td>4</td>\n",
       "    </tr>\n",
       "  </tbody>\n",
       "</table>\n",
       "</div>"
      ],
      "text/plain": [
       "  country Sales Entity  count\n",
       "0  Canada      sales A      4\n",
       "1  Canada      sales B      3\n",
       "2  Canada      sales C      2\n",
       "3  Canada      sales D      1\n",
       "4      US      sales A      1\n",
       "5      US      sales B      2\n",
       "6      US      sales C      3\n",
       "7      US      sales D      4"
      ]
     },
     "execution_count": 4,
     "metadata": {},
     "output_type": "execute_result"
    }
   ],
   "source": [
    "df1"
   ]
  },
  {
   "cell_type": "code",
   "execution_count": 5,
   "metadata": {},
   "outputs": [
    {
     "data": {
      "text/html": [
       "<div>\n",
       "<style scoped>\n",
       "    .dataframe tbody tr th:only-of-type {\n",
       "        vertical-align: middle;\n",
       "    }\n",
       "\n",
       "    .dataframe tbody tr th {\n",
       "        vertical-align: top;\n",
       "    }\n",
       "\n",
       "    .dataframe thead th {\n",
       "        text-align: right;\n",
       "    }\n",
       "</style>\n",
       "<table border=\"1\" class=\"dataframe\">\n",
       "  <thead>\n",
       "    <tr style=\"text-align: right;\">\n",
       "      <th></th>\n",
       "      <th>country</th>\n",
       "      <th>Sales Entity</th>\n",
       "      <th>count</th>\n",
       "    </tr>\n",
       "  </thead>\n",
       "  <tbody>\n",
       "    <tr>\n",
       "      <td>7</td>\n",
       "      <td>US</td>\n",
       "      <td>sales D</td>\n",
       "      <td>4</td>\n",
       "    </tr>\n",
       "    <tr>\n",
       "      <td>6</td>\n",
       "      <td>US</td>\n",
       "      <td>sales C</td>\n",
       "      <td>3</td>\n",
       "    </tr>\n",
       "    <tr>\n",
       "      <td>5</td>\n",
       "      <td>US</td>\n",
       "      <td>sales B</td>\n",
       "      <td>2</td>\n",
       "    </tr>\n",
       "    <tr>\n",
       "      <td>4</td>\n",
       "      <td>US</td>\n",
       "      <td>sales A</td>\n",
       "      <td>1</td>\n",
       "    </tr>\n",
       "  </tbody>\n",
       "</table>\n",
       "</div>"
      ],
      "text/plain": [
       "  country Sales Entity  count\n",
       "7      US      sales D      4\n",
       "6      US      sales C      3\n",
       "5      US      sales B      2\n",
       "4      US      sales A      1"
      ]
     },
     "execution_count": 5,
     "metadata": {},
     "output_type": "execute_result"
    }
   ],
   "source": [
    "df1[df1['country'] == 'US'].sort_values(['count'], ascending=[False])"
   ]
  },
  {
   "cell_type": "code",
   "execution_count": 6,
   "metadata": {},
   "outputs": [
    {
     "data": {
      "text/html": [
       "<div>\n",
       "<style scoped>\n",
       "    .dataframe tbody tr th:only-of-type {\n",
       "        vertical-align: middle;\n",
       "    }\n",
       "\n",
       "    .dataframe tbody tr th {\n",
       "        vertical-align: top;\n",
       "    }\n",
       "\n",
       "    .dataframe thead th {\n",
       "        text-align: right;\n",
       "    }\n",
       "</style>\n",
       "<table border=\"1\" class=\"dataframe\">\n",
       "  <thead>\n",
       "    <tr style=\"text-align: right;\">\n",
       "      <th></th>\n",
       "      <th>country</th>\n",
       "      <th>Sales Entity</th>\n",
       "      <th>count</th>\n",
       "    </tr>\n",
       "  </thead>\n",
       "  <tbody>\n",
       "    <tr>\n",
       "      <td>0</td>\n",
       "      <td>Canada</td>\n",
       "      <td>sales A</td>\n",
       "      <td>4</td>\n",
       "    </tr>\n",
       "    <tr>\n",
       "      <td>1</td>\n",
       "      <td>Canada</td>\n",
       "      <td>sales B</td>\n",
       "      <td>3</td>\n",
       "    </tr>\n",
       "    <tr>\n",
       "      <td>2</td>\n",
       "      <td>Canada</td>\n",
       "      <td>sales C</td>\n",
       "      <td>2</td>\n",
       "    </tr>\n",
       "    <tr>\n",
       "      <td>3</td>\n",
       "      <td>Canada</td>\n",
       "      <td>sales D</td>\n",
       "      <td>1</td>\n",
       "    </tr>\n",
       "  </tbody>\n",
       "</table>\n",
       "</div>"
      ],
      "text/plain": [
       "  country Sales Entity  count\n",
       "0  Canada      sales A      4\n",
       "1  Canada      sales B      3\n",
       "2  Canada      sales C      2\n",
       "3  Canada      sales D      1"
      ]
     },
     "execution_count": 6,
     "metadata": {},
     "output_type": "execute_result"
    }
   ],
   "source": [
    "df1[df1['country'] == 'Canada'].sort_values(['count'], ascending=[False])"
   ]
  },
  {
   "cell_type": "code",
   "execution_count": 31,
   "metadata": {},
   "outputs": [
    {
     "name": "stdout",
     "output_type": "stream",
     "text": [
      "Name John Doe\n",
      "Email john.doe@exabeam.com\n",
      "Name Martina jackson\n",
      "Email Martina.jackson@exabeam.com\n",
      "Name Steve Bob\n",
      "Email steve.bob@exabeam.com\n",
      "Name John Doe\n",
      "Email john.doe@exabeam.com\n",
      "Name Steve Bob\n",
      "Email steve.bob@exabeam.com\n",
      "Name John Doe\n",
      "Email john.doe@exabeam.com\n"
     ]
    }
   ],
   "source": [
    "dic = {}\n",
    "previous_name  = \"\"\n",
    "with open('contacts.txt', 'r') as file:\n",
    "    for line in file:\n",
    "        content_type,content = list(map(str.strip,line.split(':')))\n",
    "        print(content_type,content)\n",
    "        if content_type == 'Name':\n",
    "            previous_name = content\n",
    "        if content_type == 'Email':\n",
    "            if previous_name in dic and \n",
    "            \n",
    "            dic[previous_name] = [content,0]\n"
   ]
  },
  {
   "cell_type": "code",
   "execution_count": 32,
   "metadata": {},
   "outputs": [
    {
     "data": {
      "text/plain": [
       "{'John Doe': ['john.doe@exabeam.com', 0],\n",
       " 'Martina jackson': ['Martina.jackson@exabeam.com', 0],\n",
       " 'Steve Bob': ['steve.bob@exabeam.com', 0]}"
      ]
     },
     "execution_count": 32,
     "metadata": {},
     "output_type": "execute_result"
    }
   ],
   "source": [
    "dic"
   ]
  },
  {
   "cell_type": "code",
   "execution_count": 45,
   "metadata": {},
   "outputs": [
    {
     "ename": "SyntaxError",
     "evalue": "unexpected character after line continuation character (<ipython-input-45-24940c450759>, line 1)",
     "output_type": "error",
     "traceback": [
      "\u001b[1;36m  File \u001b[1;32m\"<ipython-input-45-24940c450759>\"\u001b[1;36m, line \u001b[1;32m1\u001b[0m\n\u001b[1;33m    C:\\ProgramData\\Anaconda3\\lib\\site-packages\\plotly\\graph_objs\\_funnel.py\u001b[0m\n\u001b[1;37m                                                                           ^\u001b[0m\n\u001b[1;31mSyntaxError\u001b[0m\u001b[1;31m:\u001b[0m unexpected character after line continuation character\n"
     ]
    }
   ],
   "source": [
    "C:\\ProgramData\\Anaconda3\\lib\\site-packages\\plotly\\graph_objs\\_funnel.py"
   ]
  },
  {
   "cell_type": "code",
   "execution_count": null,
   "metadata": {},
   "outputs": [],
   "source": []
  }
 ],
 "metadata": {
  "kernelspec": {
   "display_name": "Python 3",
   "language": "python",
   "name": "python3"
  },
  "language_info": {
   "codemirror_mode": {
    "name": "ipython",
    "version": 3
   },
   "file_extension": ".py",
   "mimetype": "text/x-python",
   "name": "python",
   "nbconvert_exporter": "python",
   "pygments_lexer": "ipython3",
   "version": "3.7.4"
  }
 },
 "nbformat": 4,
 "nbformat_minor": 2
}
