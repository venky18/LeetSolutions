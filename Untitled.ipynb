{
 "cells": [
  {
   "cell_type": "code",
   "execution_count": 34,
   "metadata": {},
   "outputs": [
    {
     "name": "stdout",
     "output_type": "stream",
     "text": [
      "2 5\n"
     ]
    }
   ],
   "source": [
    "lst = ['db', 'ca', 'db', 'ae', 'ec', 'sa']    \n",
    "string = \"dbaeec\"\n",
    "for i in range(len(lst)-len(string)//2):\n",
    "    if \"\".join(lst[i:i+len(string)//2]) == string:\n",
    "        print(i,i+len(string)//2)"
   ]
  },
  {
   "cell_type": "code",
   "execution_count": 22,
   "metadata": {},
   "outputs": [
    {
     "data": {
      "text/plain": [
       "1"
      ]
     },
     "execution_count": 22,
     "metadata": {},
     "output_type": "execute_result"
    }
   ],
   "source": [
    "df = pd.DataFrame([[1,0,0],[4,5,0],[7,8,0]])\n",
    "# df.astype(bool).sum(axis=0).astype(bool).sum(axis=0)\n",
    "df.astype(bool).sum(axis=0).isin([0]).sum()\n",
    "\n"
   ]
  },
  {
   "cell_type": "code",
   "execution_count": 7,
   "metadata": {},
   "outputs": [
    {
     "data": {
      "text/html": [
       "<style  type=\"text/css\" >\n",
       "#T_26935fed_066b_11eb_90f1_dc4a3eda69f5row0_col0,#T_26935fed_066b_11eb_90f1_dc4a3eda69f5row0_col1,#T_26935fed_066b_11eb_90f1_dc4a3eda69f5row3_col0,#T_26935fed_066b_11eb_90f1_dc4a3eda69f5row4_col0,#T_26935fed_066b_11eb_90f1_dc4a3eda69f5row4_col1,#T_26935fed_066b_11eb_90f1_dc4a3eda69f5row6_col0,#T_26935fed_066b_11eb_90f1_dc4a3eda69f5row7_col2,#T_26935fed_066b_11eb_90f1_dc4a3eda69f5row8_col0,#T_26935fed_066b_11eb_90f1_dc4a3eda69f5row8_col2{\n",
       "            background-color:  blue;\n",
       "             color:  white;\n",
       "        }#T_26935fed_066b_11eb_90f1_dc4a3eda69f5row0_col2,#T_26935fed_066b_11eb_90f1_dc4a3eda69f5row1_col2,#T_26935fed_066b_11eb_90f1_dc4a3eda69f5row2_col0,#T_26935fed_066b_11eb_90f1_dc4a3eda69f5row2_col1,#T_26935fed_066b_11eb_90f1_dc4a3eda69f5row2_col2,#T_26935fed_066b_11eb_90f1_dc4a3eda69f5row3_col1,#T_26935fed_066b_11eb_90f1_dc4a3eda69f5row4_col2,#T_26935fed_066b_11eb_90f1_dc4a3eda69f5row5_col1,#T_26935fed_066b_11eb_90f1_dc4a3eda69f5row6_col1,#T_26935fed_066b_11eb_90f1_dc4a3eda69f5row7_col0,#T_26935fed_066b_11eb_90f1_dc4a3eda69f5row7_col1,#T_26935fed_066b_11eb_90f1_dc4a3eda69f5row8_col1,#T_26935fed_066b_11eb_90f1_dc4a3eda69f5row9_col0,#T_26935fed_066b_11eb_90f1_dc4a3eda69f5row9_col2{\n",
       "            background-color:  red;\n",
       "             color:  white;\n",
       "        }#T_26935fed_066b_11eb_90f1_dc4a3eda69f5row1_col0,#T_26935fed_066b_11eb_90f1_dc4a3eda69f5row1_col1,#T_26935fed_066b_11eb_90f1_dc4a3eda69f5row3_col2,#T_26935fed_066b_11eb_90f1_dc4a3eda69f5row5_col0,#T_26935fed_066b_11eb_90f1_dc4a3eda69f5row5_col2,#T_26935fed_066b_11eb_90f1_dc4a3eda69f5row6_col2,#T_26935fed_066b_11eb_90f1_dc4a3eda69f5row9_col1{\n",
       "            background-color:  white;\n",
       "             color:  black;\n",
       "        }</style><table id=\"T_26935fed_066b_11eb_90f1_dc4a3eda69f5\" ><thead>    <tr>        <th class=\"blank level0\" ></th>        <th class=\"col_heading level0 col0\" >0</th>        <th class=\"col_heading level0 col1\" >1</th>        <th class=\"col_heading level0 col2\" >2</th>    </tr></thead><tbody>\n",
       "                <tr>\n",
       "                        <th id=\"T_26935fed_066b_11eb_90f1_dc4a3eda69f5level0_row0\" class=\"row_heading level0 row0\" >0</th>\n",
       "                        <td id=\"T_26935fed_066b_11eb_90f1_dc4a3eda69f5row0_col0\" class=\"data row0 col0\" >110.718803</td>\n",
       "                        <td id=\"T_26935fed_066b_11eb_90f1_dc4a3eda69f5row0_col1\" class=\"data row0 col1\" >119.821042</td>\n",
       "                        <td id=\"T_26935fed_066b_11eb_90f1_dc4a3eda69f5row0_col2\" class=\"data row0 col2\" >-52.593518</td>\n",
       "            </tr>\n",
       "            <tr>\n",
       "                        <th id=\"T_26935fed_066b_11eb_90f1_dc4a3eda69f5level0_row1\" class=\"row_heading level0 row1\" >1</th>\n",
       "                        <td id=\"T_26935fed_066b_11eb_90f1_dc4a3eda69f5row1_col0\" class=\"data row1 col0\" >65.180254</td>\n",
       "                        <td id=\"T_26935fed_066b_11eb_90f1_dc4a3eda69f5row1_col1\" class=\"data row1 col1\" >33.518722</td>\n",
       "                        <td id=\"T_26935fed_066b_11eb_90f1_dc4a3eda69f5row1_col2\" class=\"data row1 col2\" >-69.893688</td>\n",
       "            </tr>\n",
       "            <tr>\n",
       "                        <th id=\"T_26935fed_066b_11eb_90f1_dc4a3eda69f5level0_row2\" class=\"row_heading level0 row2\" >2</th>\n",
       "                        <td id=\"T_26935fed_066b_11eb_90f1_dc4a3eda69f5row2_col0\" class=\"data row2 col0\" >-135.652788</td>\n",
       "                        <td id=\"T_26935fed_066b_11eb_90f1_dc4a3eda69f5row2_col1\" class=\"data row2 col1\" >-64.711718</td>\n",
       "                        <td id=\"T_26935fed_066b_11eb_90f1_dc4a3eda69f5row2_col2\" class=\"data row2 col2\" >-241.717819</td>\n",
       "            </tr>\n",
       "            <tr>\n",
       "                        <th id=\"T_26935fed_066b_11eb_90f1_dc4a3eda69f5level0_row3\" class=\"row_heading level0 row3\" >3</th>\n",
       "                        <td id=\"T_26935fed_066b_11eb_90f1_dc4a3eda69f5row3_col0\" class=\"data row3 col0\" >237.781393</td>\n",
       "                        <td id=\"T_26935fed_066b_11eb_90f1_dc4a3eda69f5row3_col1\" class=\"data row3 col1\" >-56.865142</td>\n",
       "                        <td id=\"T_26935fed_066b_11eb_90f1_dc4a3eda69f5row3_col2\" class=\"data row3 col2\" >15.969767</td>\n",
       "            </tr>\n",
       "            <tr>\n",
       "                        <th id=\"T_26935fed_066b_11eb_90f1_dc4a3eda69f5level0_row4\" class=\"row_heading level0 row4\" >4</th>\n",
       "                        <td id=\"T_26935fed_066b_11eb_90f1_dc4a3eda69f5row4_col0\" class=\"data row4 col0\" >141.585158</td>\n",
       "                        <td id=\"T_26935fed_066b_11eb_90f1_dc4a3eda69f5row4_col1\" class=\"data row4 col1\" >138.904568</td>\n",
       "                        <td id=\"T_26935fed_066b_11eb_90f1_dc4a3eda69f5row4_col2\" class=\"data row4 col2\" >-115.155063</td>\n",
       "            </tr>\n",
       "            <tr>\n",
       "                        <th id=\"T_26935fed_066b_11eb_90f1_dc4a3eda69f5level0_row5\" class=\"row_heading level0 row5\" >5</th>\n",
       "                        <td id=\"T_26935fed_066b_11eb_90f1_dc4a3eda69f5row5_col0\" class=\"data row5 col0\" >10.030938</td>\n",
       "                        <td id=\"T_26935fed_066b_11eb_90f1_dc4a3eda69f5row5_col1\" class=\"data row5 col1\" >-59.274415</td>\n",
       "                        <td id=\"T_26935fed_066b_11eb_90f1_dc4a3eda69f5row5_col2\" class=\"data row5 col2\" >73.328127</td>\n",
       "            </tr>\n",
       "            <tr>\n",
       "                        <th id=\"T_26935fed_066b_11eb_90f1_dc4a3eda69f5level0_row6\" class=\"row_heading level0 row6\" >6</th>\n",
       "                        <td id=\"T_26935fed_066b_11eb_90f1_dc4a3eda69f5row6_col0\" class=\"data row6 col0\" >106.937681</td>\n",
       "                        <td id=\"T_26935fed_066b_11eb_90f1_dc4a3eda69f5row6_col1\" class=\"data row6 col1\" >-3.604859</td>\n",
       "                        <td id=\"T_26935fed_066b_11eb_90f1_dc4a3eda69f5row6_col2\" class=\"data row6 col2\" >44.418938</td>\n",
       "            </tr>\n",
       "            <tr>\n",
       "                        <th id=\"T_26935fed_066b_11eb_90f1_dc4a3eda69f5level0_row7\" class=\"row_heading level0 row7\" >7</th>\n",
       "                        <td id=\"T_26935fed_066b_11eb_90f1_dc4a3eda69f5row7_col0\" class=\"data row7 col0\" >-49.478211</td>\n",
       "                        <td id=\"T_26935fed_066b_11eb_90f1_dc4a3eda69f5row7_col1\" class=\"data row7 col1\" >-91.574908</td>\n",
       "                        <td id=\"T_26935fed_066b_11eb_90f1_dc4a3eda69f5row7_col2\" class=\"data row7 col2\" >160.340627</td>\n",
       "            </tr>\n",
       "            <tr>\n",
       "                        <th id=\"T_26935fed_066b_11eb_90f1_dc4a3eda69f5level0_row8\" class=\"row_heading level0 row8\" >8</th>\n",
       "                        <td id=\"T_26935fed_066b_11eb_90f1_dc4a3eda69f5row8_col0\" class=\"data row8 col0\" >170.744019</td>\n",
       "                        <td id=\"T_26935fed_066b_11eb_90f1_dc4a3eda69f5row8_col1\" class=\"data row8 col1\" >-85.764809</td>\n",
       "                        <td id=\"T_26935fed_066b_11eb_90f1_dc4a3eda69f5row8_col2\" class=\"data row8 col2\" >246.141857</td>\n",
       "            </tr>\n",
       "            <tr>\n",
       "                        <th id=\"T_26935fed_066b_11eb_90f1_dc4a3eda69f5level0_row9\" class=\"row_heading level0 row9\" >9</th>\n",
       "                        <td id=\"T_26935fed_066b_11eb_90f1_dc4a3eda69f5row9_col0\" class=\"data row9 col0\" >-94.246832</td>\n",
       "                        <td id=\"T_26935fed_066b_11eb_90f1_dc4a3eda69f5row9_col1\" class=\"data row9 col1\" >81.069700</td>\n",
       "                        <td id=\"T_26935fed_066b_11eb_90f1_dc4a3eda69f5row9_col2\" class=\"data row9 col2\" >-113.460438</td>\n",
       "            </tr>\n",
       "    </tbody></table>"
      ],
      "text/plain": [
       "<pandas.io.formats.style.Styler at 0xa3346b8>"
      ]
     },
     "execution_count": 7,
     "metadata": {},
     "output_type": "execute_result"
    }
   ],
   "source": [
    "import pandas as pd\n",
    "df = pd.read_clipboard(sep='\\s+')\n",
    "def highlight_number(row):\n",
    "    arr = []\n",
    "    for cell in row:\n",
    "        if  cell <= 0:\n",
    "            arr.append('background-color: red; color: white')\n",
    "        elif cell >= 100:\n",
    "            arr.append('background-color: blue; color: white')\n",
    "        else:\n",
    "            arr.append('background-color: white; color: black')\n",
    "    return arr\n",
    "\n",
    "\n",
    "df.style.apply(highlight_number)"
   ]
  },
  {
   "cell_type": "code",
   "execution_count": 76,
   "metadata": {},
   "outputs": [
    {
     "data": {
      "image/png": "[encoded data removed]",
      "text/plain": [
       "<Figure size 432x288 with 1 Axes>"
      ]
     },
     "metadata": {
      "needs_background": "light"
     },
     "output_type": "display_data"
    }
   ],
   "source": [
    "df.resample('1H').agg({'openbid': 'first', \n",
    "                                 'highbid': 'max', \n",
    "                                 'lowbid': 'min', \n",
    "                                 'closebid': 'last'})"
   ]
  },
  {
   "cell_type": "code",
   "execution_count": 28,
   "metadata": {},
   "outputs": [
    {
     "name": "stdout",
     "output_type": "stream",
     "text": [
      "['👴', '👴🏻', '👴🏼', '👴🏽', '👴🏾', '👴🏿', '👩', '🦰', '🦱', '🦳', '🦲', '🧑', '👨', '👩', '😂', '😀', '😃', '😄', '😁', '😆', '😅', '🤣', '😂', '🙂', '🙃', '😉', '😊', '😇', '🥰', '😍', '🤩', '😘', '😗', '☺', '😚', '😙', '😋', '😛', '😜', '🤪', '😝', '🤑', '🤗', '🤭', '🤫', '🤔', '🤐', '🤨', '😐', '😑', '😶', '😏', '😒', '🙄', '😬', '🤥', '😌', '😔', '😪', '🤤', '😴', '😷', '🤒', '🤕', '🤢', '🤮', '🤧', '🥵', '🥶', '🥴', '😵', '🤯', '🤠', '🥳', '😎', '🤓', '🧐', '😕', '😟', '🙁', '☹', '😮', '😯', '😲', '😳', '🥺', '😦', '😧', '😨', '😰', '😥', '😢', '😭', '😱', '😖', '😣', '😞', '😓', '😩', '😫', '🥱', '😤', '😡', '😠', '🤬', '😈', '👿', '💀', '☠', '💩', '🤡', '👹', '👺', '👻', '👽', '👾', '🤖', '😺', '😸', '😹', '😻', '😼', '😽', '🙀', '😿', '😾', '🙈', '🙉', '🙊', '💋', '💌', '💘', '💝', '💖', '💗', '💓', '💞', '💕', '💟', '❣', '💔', '❤', '🧡', '💛', '💚', '💙', '💜', '🤎', '🖤', '🤍', '💯', '💢', '💥', '💫', '💦', '💨', '🕳', '💣', '💬', '👁\\u200d🗨', '🗨', '🗯', '💭', '💤', '🥰', '😂', '😍', '🍓', '🐵', '🚮', '👩\\u200d🏫', '✊🏾', '👦', '💻', '😷', '🦠']\n"
     ]
    }
   ],
   "source": [
    "from urllib.request import urlopen\n",
    "import requests\n",
    "from bs4 import BeautifulSoup\n",
    "import re\n",
    "import os\n",
    "\n",
    "list0 = []\n",
    "\n",
    "site_url = \"https://www.emojiall.com/zh-hant/categories/A\"\n",
    "get_url = requests.get(site_url)\n",
    "soup = BeautifulSoup(get_url.text, \"lxml\")\n",
    "\n",
    "for script in soup([\"span\"]):\n",
    "    script.extract()\n",
    "\n",
    "emojis = soup.select('.emoji_font')\n",
    "words = soup.select('.emoji_name_truncate')\n",
    "\n",
    "for emoji0 in emojis:\n",
    "    emoji1 = emoji0.getText()\n",
    "    if not repr(emoji1).startswith(r\"'\\U\"):\n",
    "        list0.append(emoji1)\n",
    "    else:\n",
    "        continue\n",
    "print(list0)"
   ]
  },
  {
   "cell_type": "code",
   "execution_count": 15,
   "metadata": {},
   "outputs": [
    {
     "data": {
      "image/png": "[encoded data removed]",
      "text/plain": [
       "<Figure size 432x288 with 1 Axes>"
      ]
     },
     "metadata": {
      "needs_background": "light"
     },
     "output_type": "display_data"
    }
   ],
   "source": [
    "\n",
    "import matplotlib.pyplot as plt\n",
    "x = [1,2,3,4,5]\n",
    "y = [5,4,3,2,1]\n",
    "c = [0,0,1,0,1]\n",
    "\n",
    "unique = list(set(c))\n",
    "colors = ['red','green']\n",
    "for i, u in enumerate(unique):\n",
    "    xi = [x[j] for j  in range(len(x)) if c[j] == u]\n",
    "    yi = [y[j] for j  in range(len(x)) if c[j] == u]\n",
    "    plt.scatter(xi, yi, c=colors[i], label=str(u))\n",
    "plt.legend()\n",
    "\n",
    "plt.show()\n"
   ]
  },
  {
   "cell_type": "code",
   "execution_count": 5,
   "metadata": {},
   "outputs": [
    {
     "data": {
      "text/plain": [
       "[{'hour': 12, 'name': 'pravin', 'year': 1997, 'age': 23},\n",
       " {'hour': 12, 'name': 'navin', 'year': 1995, 'age': 25},\n",
       " {'hour': 12, 'name': 'prashant', 'year': 1989, 'age': 30}]"
      ]
     },
     "execution_count": 5,
     "metadata": {},
     "output_type": "execute_result"
    }
   ],
   "source": [
    "import json\n",
    "x = [\n",
    "   ['hour','name','year','age'],\n",
    "   [12,'pravin',1997,23],\n",
    "   [12,'navin',1995,25],\n",
    "   [12,'prashant',1989,30]\n",
    "]\n",
    "JSON_List = []\n",
    "for i in range(1,len(x)):\n",
    "    JSON_List.append(dict(zip(x[0],x[i])))\n",
    "JSON_List"
   ]
  },
  {
   "cell_type": "code",
   "execution_count": 104,
   "metadata": {},
   "outputs": [
    {
     "data": {
      "text/plain": [
       "['123',\n",
       " '1234',\n",
       " '12345',\n",
       " '123456',\n",
       " '1234567',\n",
       " '12345678',\n",
       " '123456789',\n",
       " '234',\n",
       " '2345',\n",
       " '23456',\n",
       " '234567',\n",
       " '2345678',\n",
       " '23456789',\n",
       " '345',\n",
       " '3456',\n",
       " '34567',\n",
       " '345678',\n",
       " '3456789',\n",
       " '456',\n",
       " '4567',\n",
       " '45678',\n",
       " '456789',\n",
       " '567',\n",
       " '5678',\n",
       " '56789',\n",
       " '678',\n",
       " '6789',\n",
       " '789']"
      ]
     },
     "execution_count": 104,
     "metadata": {},
     "output_type": "execute_result"
    }
   ],
   "source": [
    "sorted('123456789'[i:j+1] for i in range (1) for j in range(i+1,9) if 100<= int('123456789'[i:j+1]) <=3000000000)\n",
    "\n",
    "\n",
    "# from itertools import combinations\n",
    "# # sorted('123456789'[x:y+1] for x, y in combinations(range(9), r=2) if 100<= int('123456789'[x:y+1]) <=300 )\n",
    "\n",
    "# [x for x in combinations('123456789', 2)]\n",
    "\n",
    "# for i in range (10):\n",
    "#     for j in range(i+1,9):\n",
    "        \n",
    "\n",
    "# sorted(list(int(\"123456789\"[i:j+1]) for i in range (10) for j in range(i,10) if low<=int(\"123456789\"[i:j+1])<=high ))"
   ]
  },
  {
   "cell_type": "code",
   "execution_count": 96,
   "metadata": {},
   "outputs": [
    {
     "ename": "NameError",
     "evalue": "name 'x' is not defined",
     "output_type": "error",
     "traceback": [
      "\u001b[1;31m---------------------------------------------------------------------------\u001b[0m",
      "\u001b[1;31mNameError\u001b[0m                                 Traceback (most recent call last)",
      "\u001b[1;32m<ipython-input-96-077bded864a2>\u001b[0m in \u001b[0;36m<module>\u001b[1;34m\u001b[0m\n\u001b[1;32m----> 1\u001b[1;33m \u001b[1;34m'123456789'\u001b[0m\u001b[1;33m[\u001b[0m\u001b[0mx\u001b[0m\u001b[1;33m:\u001b[0m\u001b[0my\u001b[0m\u001b[1;33m+\u001b[0m\u001b[1;36m1\u001b[0m\u001b[1;33m]\u001b[0m\u001b[1;33m\u001b[0m\u001b[1;33m\u001b[0m\u001b[0m\n\u001b[0m",
      "\u001b[1;31mNameError\u001b[0m: name 'x' is not defined"
     ]
    }
   ],
   "source": [
    "'123456789'[x:y+1]"
   ]
  },
  {
   "cell_type": "code",
   "execution_count": 48,
   "metadata": {},
   "outputs": [
    {
     "name": "stdout",
     "output_type": "stream",
     "text": [
      "date    datetime64[ns]\n",
      "a              float64\n",
      "b                int64\n",
      "dtype: object\n"
     ]
    },
    {
     "ename": "TypeError",
     "evalue": "Only valid with DatetimeIndex, TimedeltaIndex or PeriodIndex, but got an instance of 'Index'",
     "output_type": "error",
     "traceback": [
      "\u001b[1;31m---------------------------------------------------------------------------\u001b[0m",
      "\u001b[1;31mTypeError\u001b[0m                                 Traceback (most recent call last)",
      "\u001b[1;32m<ipython-input-48-e5a776255128>\u001b[0m in \u001b[0;36m<module>\u001b[1;34m\u001b[0m\n\u001b[0;32m     21\u001b[0m \u001b[1;31m#     return top / bottom\u001b[0m\u001b[1;33m\u001b[0m\u001b[1;33m\u001b[0m\u001b[1;33m\u001b[0m\u001b[0m\n\u001b[0;32m     22\u001b[0m \u001b[1;33m\u001b[0m\u001b[0m\n\u001b[1;32m---> 23\u001b[1;33m \u001b[0mdf2\u001b[0m \u001b[1;33m=\u001b[0m \u001b[0mdf\u001b[0m\u001b[1;33m.\u001b[0m\u001b[0mresample\u001b[0m\u001b[1;33m(\u001b[0m\u001b[1;34m\"5s\"\u001b[0m\u001b[1;33m,\u001b[0m\u001b[0maxis\u001b[0m\u001b[1;33m=\u001b[0m\u001b[1;36m1\u001b[0m\u001b[1;33m)\u001b[0m\u001b[1;33m\u001b[0m\u001b[1;33m\u001b[0m\u001b[0m\n\u001b[0m\u001b[0;32m     24\u001b[0m \u001b[1;31m# print(\"ccc\",df.index.dtype)\u001b[0m\u001b[1;33m\u001b[0m\u001b[1;33m\u001b[0m\u001b[1;33m\u001b[0m\u001b[0m\n",
      "\u001b[1;32mc:\\program files (x86)\\python38-32\\lib\\site-packages\\pandas\\core\\generic.py\u001b[0m in \u001b[0;36mresample\u001b[1;34m(self, rule, axis, closed, label, convention, kind, loffset, base, on, level, origin, offset)\u001b[0m\n\u001b[0;32m   8072\u001b[0m \u001b[1;33m\u001b[0m\u001b[0m\n\u001b[0;32m   8073\u001b[0m         \u001b[0maxis\u001b[0m \u001b[1;33m=\u001b[0m \u001b[0mself\u001b[0m\u001b[1;33m.\u001b[0m\u001b[0m_get_axis_number\u001b[0m\u001b[1;33m(\u001b[0m\u001b[0maxis\u001b[0m\u001b[1;33m)\u001b[0m\u001b[1;33m\u001b[0m\u001b[1;33m\u001b[0m\u001b[0m\n\u001b[1;32m-> 8074\u001b[1;33m         return get_resampler(\n\u001b[0m\u001b[0;32m   8075\u001b[0m             \u001b[0mself\u001b[0m\u001b[1;33m,\u001b[0m\u001b[1;33m\u001b[0m\u001b[1;33m\u001b[0m\u001b[0m\n\u001b[0;32m   8076\u001b[0m             \u001b[0mfreq\u001b[0m\u001b[1;33m=\u001b[0m\u001b[0mrule\u001b[0m\u001b[1;33m,\u001b[0m\u001b[1;33m\u001b[0m\u001b[1;33m\u001b[0m\u001b[0m\n",
      "\u001b[1;32mc:\\program files (x86)\\python38-32\\lib\\site-packages\\pandas\\core\\resample.py\u001b[0m in \u001b[0;36mget_resampler\u001b[1;34m(obj, kind, **kwds)\u001b[0m\n\u001b[0;32m   1267\u001b[0m     \"\"\"\n\u001b[0;32m   1268\u001b[0m     \u001b[0mtg\u001b[0m \u001b[1;33m=\u001b[0m \u001b[0mTimeGrouper\u001b[0m\u001b[1;33m(\u001b[0m\u001b[1;33m**\u001b[0m\u001b[0mkwds\u001b[0m\u001b[1;33m)\u001b[0m\u001b[1;33m\u001b[0m\u001b[1;33m\u001b[0m\u001b[0m\n\u001b[1;32m-> 1269\u001b[1;33m     \u001b[1;32mreturn\u001b[0m \u001b[0mtg\u001b[0m\u001b[1;33m.\u001b[0m\u001b[0m_get_resampler\u001b[0m\u001b[1;33m(\u001b[0m\u001b[0mobj\u001b[0m\u001b[1;33m,\u001b[0m \u001b[0mkind\u001b[0m\u001b[1;33m=\u001b[0m\u001b[0mkind\u001b[0m\u001b[1;33m)\u001b[0m\u001b[1;33m\u001b[0m\u001b[1;33m\u001b[0m\u001b[0m\n\u001b[0m\u001b[0;32m   1270\u001b[0m \u001b[1;33m\u001b[0m\u001b[0m\n\u001b[0;32m   1271\u001b[0m \u001b[1;33m\u001b[0m\u001b[0m\n",
      "\u001b[1;32mc:\\program files (x86)\\python38-32\\lib\\site-packages\\pandas\\core\\resample.py\u001b[0m in \u001b[0;36m_get_resampler\u001b[1;34m(self, obj, kind)\u001b[0m\n\u001b[0;32m   1432\u001b[0m             \u001b[1;32mreturn\u001b[0m \u001b[0mTimedeltaIndexResampler\u001b[0m\u001b[1;33m(\u001b[0m\u001b[0mobj\u001b[0m\u001b[1;33m,\u001b[0m \u001b[0mgroupby\u001b[0m\u001b[1;33m=\u001b[0m\u001b[0mself\u001b[0m\u001b[1;33m,\u001b[0m \u001b[0maxis\u001b[0m\u001b[1;33m=\u001b[0m\u001b[0mself\u001b[0m\u001b[1;33m.\u001b[0m\u001b[0maxis\u001b[0m\u001b[1;33m)\u001b[0m\u001b[1;33m\u001b[0m\u001b[1;33m\u001b[0m\u001b[0m\n\u001b[0;32m   1433\u001b[0m \u001b[1;33m\u001b[0m\u001b[0m\n\u001b[1;32m-> 1434\u001b[1;33m         raise TypeError(\n\u001b[0m\u001b[0;32m   1435\u001b[0m             \u001b[1;34m\"Only valid with DatetimeIndex, \"\u001b[0m\u001b[1;33m\u001b[0m\u001b[1;33m\u001b[0m\u001b[0m\n\u001b[0;32m   1436\u001b[0m             \u001b[1;34m\"TimedeltaIndex or PeriodIndex, \"\u001b[0m\u001b[1;33m\u001b[0m\u001b[1;33m\u001b[0m\u001b[0m\n",
      "\u001b[1;31mTypeError\u001b[0m: Only valid with DatetimeIndex, TimedeltaIndex or PeriodIndex, but got an instance of 'Index'"
     ]
    }
   ],
   "source": [
    "import pandas as pd\n",
    "df = pd.DataFrame(\n",
    "[['2020-09-07 01:20:24.738686', 7175.0, 21],\n",
    "['2020-09-07 01:45:27.540590', 7150.0,  7],\n",
    "['2020-09-07 03:48:49.120607', 7125.0,  4],\n",
    "['2020-09-07 04:45:50.972042', 7125.0,  6],\n",
    "['2020-09-07 05:36:23.139612', 7125.0,  2]],columns = ['date','a','b'])\n",
    "df['date'] = pd.to_datetime(df['date'])\n",
    "print(df.dtypes)\n",
    "df.index = pd.DatetimeIndex(pd.to_datetime(df['date']))\n",
    "# df = df.drop(['date'], axis=1)\n",
    "# df.index = pd.to_datetime(df.index)\n",
    "# df.index.dtype\n",
    "# def vwap(data):\n",
    "#     price = data.P\n",
    "#     quantity = data.Q\n",
    "\n",
    "#     top = sum(price * quantity)\n",
    "#     bottom = sum(quantity)\n",
    "\n",
    "#     return top / bottom\n",
    "\n",
    "df2 = df.resample(\"5s\",axis=1)\n",
    "# print(\"ccc\",df.index.dtype)"
   ]
  },
  {
   "cell_type": "code",
   "execution_count": 13,
   "metadata": {},
   "outputs": [
    {
     "data": {
      "text/plain": [
       "'<!DOCTYPE html>\\n<!--[if lt IE 7]> <html lang=\"en-us\" class=\"a-no-js a-lt-ie9 a-lt-ie8 a-lt-ie7\"> <![endif]-->\\n<!--[if IE 7]>    <html lang=\"en-us\" class=\"a-no-js a-lt-ie9 a-lt-ie8\"> <![endif]-->\\n<!--[if IE 8]>    <html lang=\"en-us\" class=\"a-no-js a-lt-ie9\"> <![endif]-->\\n<!--[if gt IE 8]><!-->\\n<html class=\"a-no-js\" lang=\"en-us\"><!--<![endif]--><head>\\n<meta http-equiv=\"content-type\" content=\"text/html; charset=UTF-8\">\\n<meta charset=\"utf-8\">\\n<meta http-equiv=\"X-UA-Compatible\" content=\"IE=edge,chrome=1\">\\n<title dir=\"ltr\">Robot Check</title>\\n<meta name=\"viewport\" content=\"width=device-width\">\\n<link rel=\"stylesheet\" href=\"https://images-na.ssl-images-amazon.com/images/G/01/AUIClients/AmazonUI-3c913031596ca78a3768f4e934b1cc02ce238101.secure.min._V1_.css\">\\n<script>\\n\\nif (true === true) {\\n    var ue_t0 = (+ new Date()),\\n        ue_csm = window,\\n        ue = { t0: ue_t0, d: function() { return (+new Date() - ue_t0); } },\\n        ue_furl = \"fls-na.amazon.com\",\\n        ue_mid = \"ATVPDKIKX0DER\",\\n        ue_sid = (document.cookie.match(/session-id=([0-9-]+)/) || [])[1],\\n        ue_sn = \"opfcaptcha.amazon.com\",\\n        ue_id = \\'XX3M0RBXSWY1549G4556\\';\\n}\\n</script>\\n</head>\\n<body>\\n\\n<!--\\n        To discuss automated access to Amazon data please contact api-services-support@amazon.com.\\n        For information about migrating to our APIs refer to our Marketplace APIs at https://developer.amazonservices.com/ref=rm_c_sv, or our Product Advertising API at https://affiliate-program.amazon.com/gp/advertising/api/detail/main.html/ref=rm_c_ac for advertising use cases.\\n-->\\n\\n<!--\\nCorreios.DoNotSend\\n-->\\n\\n<div class=\"a-container a-padding-double-large\" style=\"min-width:350px;padding:44px 0 !important\">\\n\\n    <div class=\"a-row a-spacing-double-large\" style=\"width: 350px; margin: 0 auto\">\\n\\n        <div class=\"a-row a-spacing-medium a-text-center\"><i class=\"a-icon a-logo\"></i></div>\\n\\n        <div class=\"a-box a-alert a-alert-info a-spacing-base\">\\n            <div class=\"a-box-inner\">\\n                <i class=\"a-icon a-icon-alert\"></i>\\n                <h4>Enter the characters you see below</h4>\\n                <p class=\"a-last\">Sorry, we just need to make sure you\\'re not a robot. For best results, please make sure your browser is accepting cookies.</p>\\n                </div>\\n            </div>\\n\\n            <div class=\"a-section\">\\n\\n                <div class=\"a-box a-color-offset-background\">\\n                    <div class=\"a-box-inner a-padding-extra-large\">\\n\\n                        <form method=\"get\" action=\"/errors/validateCaptcha\" name=\"\">\\n                            <input type=hidden name=\"amzn\" value=\"cLBjjm19Wpx4FLCs4g/8RA==\" /><input type=hidden name=\"amzn-r\" value=\"&#047;Python&#045;Crash&#045;Course&#045;2nd&#045;Edition&#047;dp&#047;1593279280&#047;\" />\\n                            <div class=\"a-row a-spacing-large\">\\n                                <div class=\"a-box\">\\n                                    <div class=\"a-box-inner\">\\n                                        <h4>Type the characters you see in this image:</h4>\\n                                        <div class=\"a-row a-text-center\">\\n                                            <img src=\"https://images-na.ssl-images-amazon.com/captcha/tinytuux/Captcha_ozlalmcwrn.jpg\">\\n                                        </div>\\n                                        <div class=\"a-row a-spacing-base\">\\n                                            <div class=\"a-row\">\\n                                                <div class=\"a-column a-span6\">\\n                                                </div>\\n                                                <div class=\"a-column a-span6 a-span-last a-text-right\">\\n                                                    <a onclick=\"window.location.reload()\">Try different image</a>\\n                                                </div>\\n                                            </div>\\n                                            <input autocomplete=\"off\" spellcheck=\"false\" placeholder=\"Type characters\" id=\"captchacharacters\" name=\"field-keywords\" class=\"a-span12\" autocapitalize=\"off\" autocorrect=\"off\" type=\"text\">\\n                                        </div>\\n                                    </div>\\n                                </div>\\n                            </div>\\n\\n                            <div class=\"a-section a-spacing-extra-large\">\\n\\n                                <div class=\"a-row\">\\n                                    <span class=\"a-button a-button-primary a-span12\">\\n                                        <span class=\"a-button-inner\">\\n                                            <button type=\"submit\" class=\"a-button-text\">Continue shopping</button>\\n                                        </span>\\n                                    </span>\\n                                </div>\\n\\n                            </div>\\n                        </form>\\n\\n                    </div>\\n                </div>\\n\\n            </div>\\n\\n        </div>\\n\\n        <div class=\"a-divider a-divider-section\"><div class=\"a-divider-inner\"></div></div>\\n\\n        <div class=\"a-text-center a-spacing-small a-size-mini\">\\n            <a href=\"https://www.amazon.com/gp/help/customer/display.html/ref=footer_cou?ie=UTF8&nodeId=508088\">Conditions of Use</a>\\n            <span class=\"a-letter-space\"></span>\\n            <span class=\"a-letter-space\"></span>\\n            <span class=\"a-letter-space\"></span>\\n            <span class=\"a-letter-space\"></span>\\n            <a href=\"https://www.amazon.com/gp/help/customer/display.html/ref=footer_privacy?ie=UTF8&nodeId=468496\">Privacy Policy</a>\\n        </div>\\n        <div class=\"a-text-center a-size-mini a-color-secondary\">\\n          &copy; 1996-2014, Amazon.com, Inc. or its affiliates\\n          <script>\\n           if (true === true) {\\n             document.write(\\'<img src=\"https://fls-na.amaz\\'+\\'on.com/\\'+\\'1/oc-csi/1/OP/requestId=XX3M0RBXSWY1549G4556&js=1\" />\\');\\n           };\\n          </script>\\n          <noscript>\\n            <img src=\"https://fls-na.amazon.com/1/oc-csi/1/OP/requestId=XX3M0RBXSWY1549G4556&js=0\" />\\n          </noscript>\\n        </div>\\n    </div>\\n    <script>\\n    if (true === true) {\\n        var head = document.getElementsByTagName(\\'head\\')[0],\\n            prefix = \"https://images-na.ssl-images-amazon.com/images/G/01/csminstrumentation/\",\\n            elem = document.createElement(\"script\");\\n        elem.src = prefix + \"csm-captcha-instrumentation.min.js\";\\n        head.appendChild(elem);\\n\\n        elem = document.createElement(\"script\");\\n        elem.src = prefix + \"rd-script-6d68177fa6061598e9509dc4b5bdd08d.js\";\\n        head.appendChild(elem);\\n    }\\n    </script>\\n</body></html>\\n'"
      ]
     },
     "execution_count": 13,
     "metadata": {},
     "output_type": "execute_result"
    }
   ],
   "source": [
    "import requests\n",
    "from bs4 import BeautifulSoup\n",
    "\n",
    "# page = requests.get(\"https://www.amazon.com/Python-Crash-Course-2nd-Edition/dp/1593279280/\",headers={\"User-Agent\":\"Defined\"})\n",
    "# page.text\n",
    "\n",
    "headers = {\"User-Agent\": \"Mozilla/5.0 (Windows NT 10.0; Win64; x64) AppleWebKit/537.36 (KHTML, like Gecko) Chrome/85.0.4183.102 Safari/537.36\"}\n",
    "\n",
    "URL = \"https://www.amazon.com/Python-Crash-Course-2nd-Edition/dp/1593279280/\"\n",
    "page = requests.get(URL,headers=headers)\n",
    "page.text"
   ]
  },
  {
   "cell_type": "code",
   "execution_count": 38,
   "metadata": {},
   "outputs": [
    {
     "data": {
      "text/html": [
       "<div>\n",
       "<style scoped>\n",
       "    .dataframe tbody tr th:only-of-type {\n",
       "        vertical-align: middle;\n",
       "    }\n",
       "\n",
       "    .dataframe tbody tr th {\n",
       "        vertical-align: top;\n",
       "    }\n",
       "\n",
       "    .dataframe thead th {\n",
       "        text-align: right;\n",
       "    }\n",
       "</style>\n",
       "<table border=\"1\" class=\"dataframe\">\n",
       "  <thead>\n",
       "    <tr style=\"text-align: right;\">\n",
       "      <th></th>\n",
       "      <th>comments</th>\n",
       "      <th>yy</th>\n",
       "    </tr>\n",
       "  </thead>\n",
       "  <tbody>\n",
       "    <tr>\n",
       "      <th>0</th>\n",
       "      <td>Apple</td>\n",
       "      <td>2</td>\n",
       "    </tr>\n",
       "    <tr>\n",
       "      <th>1</th>\n",
       "      <td>@philip 🤩🤩</td>\n",
       "      <td>2</td>\n",
       "    </tr>\n",
       "    <tr>\n",
       "      <th>2</th>\n",
       "      <td>Rocky Mountain ❤️</td>\n",
       "      <td>2</td>\n",
       "    </tr>\n",
       "  </tbody>\n",
       "</table>\n",
       "</div>"
      ],
      "text/plain": [
       "            comments  yy\n",
       "0              Apple   2\n",
       "1        @philip 🤩🤩    2\n",
       "2  Rocky Mountain ❤️   2"
      ]
     },
     "execution_count": 38,
     "metadata": {},
     "output_type": "execute_result"
    }
   ],
   "source": [
    "import pandas as pd \n",
    "import emoji\n",
    "df = pd.DataFrame([['Apple'],['@philip 🤩🤩 '],['Rocky Mountain ❤️']],columns = ['comments'])\n",
    "\n",
    "# df['emojis'] = df['comments'].apply(lambda row: ''.join(c for c in row if c in emoji.UNICODE_EMOJI))\n",
    "# df\n",
    "\n",
    "def extract_emojis(text):\n",
    "    ans = ''.join(c for c in text if c in emoji.UNICODE_EMOJI)\n",
    "    print(ans)\n",
    "    return ''.join(c for c in text if c in emoji.UNICODE_EMOJI)\n",
    "\n",
    "# df['emoji_apply'] = df['comments'].apply(extract_emojis)\n",
    "# df\n",
    "i=0\n",
    "for text in df['comments']:\n",
    "#     df['xx']=extract_emojis(text)\n",
    "    df['yy'] = i\n",
    "    i+=1\n",
    "df"
   ]
  },
  {
   "cell_type": "code",
   "execution_count": 36,
   "metadata": {},
   "outputs": [
    {
     "name": "stdout",
     "output_type": "stream",
     "text": [
      "0000001234\n",
      "233431234234\n",
      "0000000000\n"
     ]
    },
    {
     "data": {
      "text/plain": [
       "['0000001234', '233431234234', '0000000000']"
      ]
     },
     "execution_count": 36,
     "metadata": {},
     "output_type": "execute_result"
    }
   ],
   "source": [
    "phone_numbers = [\"000-000-1234\",\"2334-312-34234\",\"000-000-0000\"]\n",
    "\n",
    "for number in phone_numbers:\n",
    "   x = list(filter(str.isdigit, number.strip()))\n",
    "   t = \"\".join(x)\n",
    "   print(t)\n",
    "\n",
    "\n",
    "[\"\".join(list(filter(str.isdigit, number.strip()))) for number in phone_numbers]"
   ]
  },
  {
   "cell_type": "code",
   "execution_count": 36,
   "metadata": {},
   "outputs": [
    {
     "ename": "AttributeError",
     "evalue": "'str' object has no attribute 'find_elements_by_xpath'",
     "output_type": "error",
     "traceback": [
      "\u001b[1;31m---------------------------------------------------------------------------\u001b[0m",
      "\u001b[1;31mAttributeError\u001b[0m                            Traceback (most recent call last)",
      "\u001b[1;32m<ipython-input-36-b290088f9fd3>\u001b[0m in \u001b[0;36m<module>\u001b[1;34m\u001b[0m\n\u001b[0;32m      4\u001b[0m \u001b[1;33m\u001b[0m\u001b[0m\n\u001b[0;32m      5\u001b[0m \u001b[0mxpath_section_elements\u001b[0m \u001b[1;33m=\u001b[0m \u001b[1;34m'//td[contains(@class, \"value\")]'\u001b[0m\u001b[1;33m\u001b[0m\u001b[1;33m\u001b[0m\u001b[0m\n\u001b[1;32m----> 6\u001b[1;33m \u001b[0minfo_section_elements\u001b[0m \u001b[1;33m=\u001b[0m \u001b[0minfo_section\u001b[0m\u001b[1;33m.\u001b[0m\u001b[0mfind_elements_by_xpath\u001b[0m\u001b[1;33m(\u001b[0m\u001b[0mxpath_section_elements\u001b[0m\u001b[1;33m)\u001b[0m\u001b[1;33m\u001b[0m\u001b[1;33m\u001b[0m\u001b[0m\n\u001b[0m\u001b[0;32m      7\u001b[0m \u001b[1;33m\u001b[0m\u001b[0m\n\u001b[0;32m      8\u001b[0m \u001b[0mtransaction_amount\u001b[0m \u001b[1;33m=\u001b[0m \u001b[0minfo_section_elements\u001b[0m\u001b[1;33m[\u001b[0m\u001b[1;36m0\u001b[0m\u001b[1;33m]\u001b[0m\u001b[1;33m.\u001b[0m\u001b[0mtext\u001b[0m\u001b[1;33m\u001b[0m\u001b[1;33m\u001b[0m\u001b[0m\n",
      "\u001b[1;31mAttributeError\u001b[0m: 'str' object has no attribute 'find_elements_by_xpath'"
     ]
    }
   ],
   "source": [
    "info_section='''<table class=\"history-item-content-success-table-280\"><tbody><tr class=\"history-item-content-success-table-row-281\"><td class=\"history-item-content-success-table-title-282\">Сумма платежа</td><td class=\"history-item-content-success-table-value-283\">1,50&nbsp;$</td></tr><tr class=\"history-item-content-success-table-row-281\"><td class=\"history-item-content-success-table-title-282\">Комиссия</td><td class=\"history-item-content-success-table-value-283\">0&nbsp;$</td></tr><tr class=\"history-item-content-success-table-row-281\"><td class=\"history-item-content-success-table-total-title-284\">Итого</td><td class=\"history-item-content-success-table-total-value-285\">1,50&nbsp;$</td></tr></tbody></table>'''\n",
    "details_section = '''\n",
    "<div class=\"history-item-content-success-details-278\"><h2 class=\"history-item-content-success-title-279\">Подробные реквизиты</h2><table class=\"history-item-content-success-table-280\"><tbody><tr class=\"history-item-content-success-table-row-281\"><td class=\"history-item-content-success-table-title-282\">Дата платежа</td><td class=\"history-item-content-success-table-value-283\">25.02.2020 в 15:08</td></tr><tr class=\"history-item-content-success-table-row-281\"><td class=\"history-item-content-success-table-title-282\">Номер квитанции</td><td class=\"history-item-content-success-table-value-283\">17793971110</td></tr><tr class=\"history-item-content-success-table-row-281\"><td class=\"history-item-content-success-table-title-282\">Номер телефона</td><td class=\"history-item-content-success-table-value-283\">380978083255</td></tr></tbody></table></div>'''\n",
    "\n",
    "xpath_section_elements = '//td[contains(@class, \"value\")]'\n",
    "info_section_elements = info_section.find_elements_by_xpath(xpath_section_elements)\n",
    "\n",
    "transaction_amount = info_section_elements[0].text\n",
    "details_section_elements = details_section.find_elements_by_xpath(xpath_section_elements)\n",
    "transaction_date = details_section_elements[0].text\n",
    "\n",
    "print(transaction_amount, transaction_date)\n",
    "# 1,50 $ 1,50 $"
   ]
  },
  {
   "cell_type": "code",
   "execution_count": 37,
   "metadata": {},
   "outputs": [],
   "source": [
    "import requests\n",
    "r = requests.get('https://paste.ubuntu.com/p/pgSZ2r9vWW/plain/')\n",
    "r"
   ]
  },
  {
   "cell_type": "code",
   "execution_count": 40,
   "metadata": {},
   "outputs": [
    {
     "data": {
      "text/plain": [
       "'\\n<html>\\n<head>\\n  <title>OpenID transaction in progress</title>\\n</head>\\n<body onload=\"document.forms[0].submit();\">\\n<form accept-charset=\"UTF-8\" action=\"https://login.launchpad.net/+openid\" enctype=\"application/x-www-form-urlencoded\" id=\"openid_message\" method=\"post\"><input name=\"openid.ax.type.fullname\" type=\"hidden\" value=\"http://axschema.org/namePerson\" /><input name=\"openid.ax.type.lastname\" type=\"hidden\" value=\"http://axschema.org/namePerson/last\" /><input name=\"openid.ax.type.firstname\" type=\"hidden\" value=\"http://axschema.org/namePerson/first\" /><input name=\"openid.ns\" type=\"hidden\" value=\"http://specs.openid.net/auth/2.0\" /><input name=\"openid.realm\" type=\"hidden\" value=\"http://paste.ubuntu.com/\" /><input name=\"openid.lp.query_membership\" type=\"hidden\" value=\"canonical\" /><input name=\"openid.return_to\" type=\"hidden\" value=\"http://paste.ubuntu.com/openid/complete/?next=%2Fp%2FpgSZ2r9vWW%2Fplain%2F&amp;janrain_nonce=2020-09-13T07%3A05%3A49Zxkv5rG\" /><input name=\"openid.ax.required\" type=\"hidden\" value=\"email,fullname,old_email,firstname,old_nickname,lastname,old_fullname,nickname\" /><input name=\"openid.ax.mode\" type=\"hidden\" value=\"fetch_request\" /><input name=\"openid.claimed_id\" type=\"hidden\" value=\"http://specs.openid.net/auth/2.0/identifier_select\" /><input name=\"openid.ax.type.email\" type=\"hidden\" value=\"http://axschema.org/contact/email\" /><input name=\"openid.mode\" type=\"hidden\" value=\"checkid_setup\" /><input name=\"openid.ax.type.old_email\" type=\"hidden\" value=\"http://schema.openid.net/contact/email\" /><input name=\"openid.ns.ax\" type=\"hidden\" value=\"http://openid.net/srv/ax/1.0\" /><input name=\"openid.ax.type.nickname\" type=\"hidden\" value=\"http://axschema.org/namePerson/friendly\" /><input name=\"openid.ax.type.old_nickname\" type=\"hidden\" value=\"http://schema.openid.net/namePerson/friendly\" /><input name=\"openid.assoc_handle\" type=\"hidden\" value=\"{HMAC-SHA1}{5f519543}{QamEDg==}\" /><input name=\"openid.ax.type.old_fullname\" type=\"hidden\" value=\"http://schema.openid.net/namePerson\" /><input name=\"openid.ns.lp\" type=\"hidden\" value=\"http://ns.launchpad.net/2007/openid-teams\" /><input name=\"openid.identity\" type=\"hidden\" value=\"http://specs.openid.net/auth/2.0/identifier_select\" /><input type=\"submit\" value=\"Continue\" /></form>\\n<script>\\nvar elements = document.forms[0].elements;\\nfor (var i = 0; i < elements.length; i++) {\\n  elements[i].style.display = \"none\";\\n}\\n</script>\\n</body>\\n</html>\\n'"
      ]
     },
     "execution_count": 40,
     "metadata": {},
     "output_type": "execute_result"
    }
   ],
   "source": [
    "r.text"
   ]
  },
  {
   "cell_type": "code",
   "execution_count": 14,
   "metadata": {},
   "outputs": [
    {
     "data": {
      "text/plain": [
       "3"
      ]
     },
     "execution_count": 14,
     "metadata": {},
     "output_type": "execute_result"
    }
   ],
   "source": [
    "sum(map(int,str(1.2).split('.')))"
   ]
  },
  {
   "cell_type": "code",
   "execution_count": 7,
   "metadata": {},
   "outputs": [
    {
     "data": {
      "text/plain": [
       "[1, 2, 3, 42, 56, 1, 52, 53, 4, 55, 1, 4, 5]"
      ]
     },
     "execution_count": 7,
     "metadata": {},
     "output_type": "execute_result"
    }
   ],
   "source": [
    "my_list  = [{\"sessions\": [1,2,3,42,56]}, {\"sessions\": [1,52,53,4,55]},{\"sessions\": [1,4,5]}]\n",
    "listed_sessions =[ s for s in [j[\"sessions\"] for j in my_list for item in j]]\n",
    "\n",
    "# print(listed_sessions)\n",
    "[x  for sess in my_list for x in sess['sessions']]"
   ]
  },
  {
   "cell_type": "code",
   "execution_count": 12,
   "metadata": {},
   "outputs": [
    {
     "name": "stdout",
     "output_type": "stream",
     "text": [
      "0\n"
     ]
    },
    {
     "data": {
      "text/plain": [
       "0"
      ]
     },
     "execution_count": 12,
     "metadata": {},
     "output_type": "execute_result"
    }
   ],
   "source": [
    "def agatc(s):\n",
    "    maxrep = 0\n",
    "    temp = 0\n",
    "    for i in range(len(s) - 3):\n",
    "        if s[i:i+5] == \"AGATC\":\n",
    "            temp += 1\n",
    "            print(i)\n",
    "            i += 3\n",
    "    return maxrep\n",
    "agatc(\"AGATC\")"
   ]
  },
  {
   "cell_type": "code",
   "execution_count": null,
   "metadata": {},
   "outputs": [],
   "source": []
  },
  {
   "cell_type": "code",
   "execution_count": null,
   "metadata": {},
   "outputs": [],
   "source": []
  },
  {
   "cell_type": "code",
   "execution_count": 15,
   "metadata": {},
   "outputs": [
    {
     "name": "stdout",
     "output_type": "stream",
     "text": [
      "3\n",
      "23232\n",
      "654654\n"
     ]
    },
    {
     "ename": "IndexError",
     "evalue": "list assignment index out of range",
     "output_type": "error",
     "traceback": [
      "\u001b[1;31m---------------------------------------------------------------------------\u001b[0m",
      "\u001b[1;31mIndexError\u001b[0m                                Traceback (most recent call last)",
      "\u001b[1;32m<ipython-input-15-fbc170a43ca2>\u001b[0m in \u001b[0;36m<module>\u001b[1;34m\u001b[0m\n\u001b[0;32m      4\u001b[0m         \u001b[0mp\u001b[0m\u001b[1;33m=\u001b[0m\u001b[0ml\u001b[0m\u001b[1;33m[\u001b[0m\u001b[1;33m:\u001b[0m\u001b[1;33m]\u001b[0m\u001b[1;33m\u001b[0m\u001b[1;33m\u001b[0m\u001b[0m\n\u001b[0;32m      5\u001b[0m         \u001b[1;32mfor\u001b[0m \u001b[0mj\u001b[0m \u001b[1;32min\u001b[0m \u001b[0mrange\u001b[0m\u001b[1;33m(\u001b[0m\u001b[0mn\u001b[0m\u001b[1;33m)\u001b[0m\u001b[1;33m:\u001b[0m\u001b[1;33m\u001b[0m\u001b[1;33m\u001b[0m\u001b[0m\n\u001b[1;32m----> 6\u001b[1;33m             \u001b[0mp\u001b[0m\u001b[1;33m[\u001b[0m\u001b[0ml\u001b[0m\u001b[1;33m[\u001b[0m\u001b[0mj\u001b[0m\u001b[1;33m]\u001b[0m\u001b[1;33m-\u001b[0m\u001b[1;36m1\u001b[0m\u001b[1;33m]\u001b[0m\u001b[1;33m=\u001b[0m\u001b[0mj\u001b[0m\u001b[1;33m+\u001b[0m\u001b[1;36m1\u001b[0m\u001b[1;33m\u001b[0m\u001b[1;33m\u001b[0m\u001b[0m\n\u001b[0m\u001b[0;32m      7\u001b[0m         \u001b[1;32mif\u001b[0m\u001b[1;33m(\u001b[0m\u001b[0mp\u001b[0m\u001b[1;33m==\u001b[0m\u001b[0ml\u001b[0m\u001b[1;33m)\u001b[0m\u001b[1;33m:\u001b[0m\u001b[1;33m\u001b[0m\u001b[1;33m\u001b[0m\u001b[0m\n\u001b[0;32m      8\u001b[0m             \u001b[0mprint\u001b[0m\u001b[1;33m(\u001b[0m\u001b[1;34m\"ambiguous\"\u001b[0m\u001b[1;33m)\u001b[0m\u001b[1;33m\u001b[0m\u001b[1;33m\u001b[0m\u001b[0m\n",
      "\u001b[1;31mIndexError\u001b[0m: list assignment index out of range"
     ]
    }
   ],
   "source": [
    "for i in range(int(input())):\n",
    "        n=int(input())\n",
    "        l=list(map(int,input().split()))\n",
    "        p=l[:]\n",
    "        for j in range(n):\n",
    "            p[l[j]-1]=j+1\n",
    "        if(p==l):\n",
    "            print(\"ambiguous\")\n",
    "        else:\n",
    "            print(\"not ambiguous\")"
   ]
  },
  {
   "cell_type": "code",
   "execution_count": 30,
   "metadata": {},
   "outputs": [],
   "source": [
    "image = [[7, 4, 0, 1], \n",
    "         [5, 6, 2, 2], \n",
    "         [6, 10, 7, 8], \n",
    "         [1, 4, 2, 0]]\n",
    "\n",
    "h = list(range(1,len(image)-1))\n",
    "w = list(range(1,len(image[0])-1))\n",
    "\n",
    "def square_sum(image,i,j):\n",
    "    sum = image[i-1][j-1] + image[i-1][j] + image[i][j-1] + image[i+1][j] + image[i][j+1] + image[i+1][j+1] + image[i][j] + image[i-1][j+1] + image[i+1][j-1] \n",
    "    return sum//9\n",
    "\n",
    "new_image = []\n",
    "\n",
    "for i in h:\n",
    "    temp_row = []\n",
    "    for j in w:\n",
    "        temp_row.append(square_sum(image,i,j))\n",
    "    new_image.append(temp_row)"
   ]
  },
  {
   "cell_type": "code",
   "execution_count": 41,
   "metadata": {},
   "outputs": [],
   "source": [
    "A = '''[{\"gestionnaire\": \"AAAAt\", \"id\": \"Affl.0\", \"idObjet\": \"BBB\", \"nature\": \"03\", \"precisione\": \"010\"\n",
    "    , \"producteur\": \"CCCC\", \"qualiteCategorisation\": \"01\", \"representation\": {\"href\": \"GEOMETRIE.DDD\"}, \"reseau\": \"DECH\", \"thematiquee\": \"10\"}]'''"
   ]
  },
  {
   "cell_type": "code",
   "execution_count": 53,
   "metadata": {},
   "outputs": [
    {
     "name": "stdout",
     "output_type": "stream",
     "text": [
      "Affl.0\n",
      "BBB\n"
     ]
    }
   ],
   "source": [
    "import json\n",
    "x = json.loads(A)\n",
    "print(x[0]['id'])\n",
    "print(x[0]['idObjet'])"
   ]
  },
  {
   "cell_type": "code",
   "execution_count": 54,
   "metadata": {},
   "outputs": [],
   "source": [
    "A = [{'gestionnaire': \"AAAAt\", 'id': 'Affl.0', 'idObjet': 'BBB', 'nature': '03', 'precisione': '010'\n",
    "    , 'producteur': \"CCCC\", 'qualiteCategorisation': '01', 'representation': {'href': 'GEOMETRIE.DDD'}, 'reseau': 'DECH', 'thematiquee': '10'}]"
   ]
  },
  {
   "cell_type": "code",
   "execution_count": 58,
   "metadata": {},
   "outputs": [
    {
     "name": "stdout",
     "output_type": "stream",
     "text": [
      "AAAAt\n",
      "Affl.0\n",
      "BBB\n",
      "03\n",
      "010\n",
      "CCCC\n",
      "01\n",
      "{'href': 'GEOMETRIE.DDD'}\n",
      "DECH\n",
      "10\n"
     ]
    }
   ],
   "source": [
    "mydict = A[0]\n",
    "for elem in mydict.values():\n",
    "      print(elem)"
   ]
  },
  {
   "cell_type": "code",
   "execution_count": 11,
   "metadata": {},
   "outputs": [
    {
     "name": "stdout",
     "output_type": "stream",
     "text": [
      "490 food left\n",
      "480 food left\n",
      "470 food left\n",
      "460 food left\n",
      "450 food left\n",
      "440 food left\n",
      "430 food left\n",
      "420 food left\n",
      "410 food left\n",
      "400 food left\n",
      "390 food left\n",
      "380 food left\n",
      "370 food left\n",
      "360 food left\n",
      "350 food left\n",
      "340 food left\n",
      "330 food left\n",
      "320 food left\n",
      "310 food left\n",
      "300 food left\n",
      "290 food left\n",
      "280 food left\n",
      "270 food left\n",
      "260 food left\n",
      "250 food left\n",
      "240 food left\n",
      "230 food left\n",
      "220 food left\n",
      "210 food left\n",
      "200 food left\n",
      "190 food left\n",
      "180 food left\n",
      "170 food left\n",
      "160 food left\n",
      "150 food left\n",
      "140 food left\n",
      "130 food left\n",
      "120 food left\n",
      "110 food left\n",
      "100 food left\n",
      "90 food left\n",
      "80 food left\n",
      "70 food left\n",
      "60 food left\n",
      "50 food left\n",
      "40 food left\n",
      "30 food left\n",
      "20 food left\n",
      "10 food left\n",
      "0 food left\n",
      "-10 food left\n",
      "give food?no\n",
      "u making me dead\n",
      "My time has come !!! +  \n"
     ]
    }
   ],
   "source": [
    "import time\n",
    "from threading import Thread\n",
    "\n",
    "class titan:\n",
    "\n",
    "    food = 500    \n",
    "    def foo(self):\n",
    "        # maybe you should do a loop here?\n",
    "        while True:\n",
    "\n",
    "            # normally, you should alter instance property rather than class property.\n",
    "            # so it's better to update self.food, rather than titan.food .\n",
    "            self.food = self.food - 10\n",
    "            print(self.food, 'food left')\n",
    "            time.sleep(.5)\n",
    "            # maybe you want to exit if food is <0?\n",
    "            if self.food < 0:\n",
    "                break\n",
    "\n",
    "    def ask(self):\n",
    "        # maybe you also want a loop here?\n",
    "        while True:\n",
    "            if self.food < 400:\n",
    "                x = input(\"give food?\")\n",
    "                if x == 'yes':\n",
    "                    self.food = self.food + 100\n",
    "                    print('food refilled!----->>>>', self.food)\n",
    "                elif x == 'no':\n",
    "                    print('u making me dead')\n",
    "                else:\n",
    "                    print('enter valid input')\n",
    "\n",
    "            # shouldn't use elif here, because if food < 0,\n",
    "            # it will also satisfy food<400, \n",
    "            # thus the elif block will never be executed.\n",
    "            if self.food < 0:\n",
    "                print(\"My time has come !!! +  \")\n",
    "                break\n",
    "       \n",
    "\n",
    "a = titan()\n",
    "\n",
    "p1 = Thread(target=a.foo)\n",
    "p2 = Thread(target=a.ask)\n",
    "p1.start()\n",
    "p2.start()\n",
    "p1.join()\n",
    "p2.join()"
   ]
  },
  {
   "cell_type": "code",
   "execution_count": 174,
   "metadata": {},
   "outputs": [],
   "source": [
    "s = '''[{affectedRows:0,data:[{CONSOLEAREA:\"PU011\",ACTIVE:false,ISWARNING:0,PLCNAME:\"面漆1线\",PLC:\"LF2911\",ESTOPAREA:\"B.5\",INTERVALEND_ID:\"Morning Shift\",TEXT:\"位置无效自由\",DEVICENOTRELEVANT:false,FUNCTIONGROUPDESCRIPTION:\"防爆区滚床\",RECORDID:157193737,PANELAREA:\"S02\",FUNCTIONGROUP:\"RB320\",MESSAGETYPE:\"T\",ADDRESS:\"DB2308.DBX8.3\",VARIABLE_NAME:\"LF2911:Faults.S02.RB320.InvalidFree.Value\",TSBEGIN:new Date(1598488770565),TSEND:new Date(1598488883573),DURATION:\"000 00:01:53\",MESSAGEGROUP:\"FM\",INTERVALBEGIN_ID:\"Morning Shift\"},{CONSOLEAREA:\"PU011\",ACTIVE:false,ISWARNING:0,PLCNAME:\"面漆1线\",PLC:\"LF2911\",ESTOPAREA:\"B.5\",INTERVALEND_ID:\"Morning Shift\",TEXT:\"位置无效自由\",DEVICENOTRELEVANT:false,FUNCTIONGROUPDESCRIPTION:\"防爆区滚床\",RECORDID:157187739,PANELAREA:\"S02\",FUNCTIONGROUP:\"RB320\",MESSAGETYPE:\"T\",ADDRESS:\"DB2308.DBX8.3\",VARIABLE_NAME:\"LF2911:Faults.S02.RB320.InvalidFree.Value\",TSBEGIN:new Date(1598486907836),TSEND:new Date(1598486952947),DURATION:\"000 00:00:45\",MESSAGEGROUP:\"FM\",INTERVALBEGIN_ID:\"Morning Shift\"},{CONSOLEAREA:\"PU011\",ACTIVE:false,ISWARNING:0,PLCNAME:\"面漆1线\",PLC:\"LF2911\",ESTOPAREA:\"B.5\",INTERVALEND_ID:\"Night Shift\",TEXT:\"位置无效自由\",DEVICENOTRELEVANT:false,FUNCTIONGROUPDESCRIPTION:\"防爆区滚床\",RECORDID:157140798,PANELAREA:\"S02\",FUNCTIONGROUP:\"RB320\",MESSAGETYPE:\"T\",ADDRESS:\"DB2308.DBX8.3\",VARIABLE_NAME:\"LF2911:Faults.S02.RB320.InvalidFree.Value\",TSBEGIN:new Date(1598457456046),TSEND:new Date(1598457600090),DURATION:\"000 00:02:24\",MESSAGEGROUP:\"FM\",INTERVALBEGIN_ID:\"Night Shift\"},{CONSOLEAREA:\"PU011\",ACTIVE:false,ISWARNING:0,PLCNAME:\"面漆1线\",PLC:\"LF2911\",ESTOPAREA:\"B.5\",INTERVALEND_ID:\"Night Shift\",TEXT:\"位置无效自由\",DEVICENOTRELEVANT:false,FUNCTIONGROUPDESCRIPTION:\"防爆区滚床\",RECORDID:157082517,PANELAREA:\"S02\",FUNCTIONGROUP:\"RB320\",MESSAGETYPE:\"T\",ADDRESS:\"DB2308.DBX8.3\",VARIABLE_NAME:\"LF2911:Faults.S02.RB320.InvalidFree.Value\",TSBEGIN:new Date(1598438706011),TSEND:new Date(1598438770312),DURATION:\"000 00:01:04\",MESSAGEGROUP:\"FM\",INTERVALBEGIN_ID:\"Night Shift\"},{CONSOLEAREA:\"PU011\",ACTIVE:false,ISWARNING:0,PLCNAME:\"面漆1线\",PLC:\"LF2911\",ESTOPAREA:\"B.5\",INTERVALEND_ID:\"Morning Shift\",TEXT:\"位置无效自由\",DEVICENOTRELEVANT:false,FUNCTIONGROUPDESCRIPTION:\"防爆区滚床\",RECORDID:157022983,PANELAREA:\"S02\",FUNCTIONGROUP:\"RB320\",MESSAGETYPE:\"T\",ADDRESS:\"DB2308.DBX8.3\",VARIABLE_NAME:\"LF2911:Faults.S02.RB320.InvalidFree.Value\",TSBEGIN:new Date(1598418938835),TSEND:new Date(1598419241188),DURATION:\"000 00:05:02\",MESSAGEGROUP:\"FM\",INTERVALBEGIN_ID:\"Morning Shift\"},{CONSOLEAREA:\"PU011\",ACTIVE:false,ISWARNING:0,PLCNAME:\"面漆1线\",PLC:\"LF2911\",ESTOPAREA:\"B.5\",INTERVALEND_ID:\"Morning Shift\",TEXT:\"位置无效自由\",DEVICENOTRELEVANT:false,FUNCTIONGROUPDESCRIPTION:\"防爆区滚床\",RECORDID:157016784,PANELAREA:\"S02\",FUNCTIONGROUP:\"RB320\",MESSAGETYPE:\"T\",ADDRESS:\"DB2308.DBX8.3\",VARIABLE_NAME:\"LF2911:Faults.S02.RB320.InvalidFree.Value\",TSBEGIN:new Date(1598417178457),TSEND:new Date(1598417524244),DURATION:\"000 00:05:45\",MESSAGEGROUP:\"FM\",INTERVALBEGIN_ID:\"Morning Shift\"},{CONSOLEAREA:\"PU011\",ACTIVE:false,ISWARNING:1,PLCNAME:\"面漆1线\",PLC:\"LF2911\",ESTOPAREA:\"B.5\",INTERVALEND_ID:\"Morning Shift\",TEXT:\"出口闭锁\",DEVICENOTRELEVANT:false,FUNCTIONGROUPDESCRIPTION:\"防爆区滚床\",RECORDID:156770882,PANELAREA:\"S02\",FUNCTIONGROUP:\"RB320\",MESSAGETYPE:\"O\",ADDRESS:\"DB2308.DBX12.1\",VARIABLE_NAME:\"LF2911:Faults.S02.RB320.OutletBlocked.Value\",TSBEGIN:new Date(1598318321801),TSEND:new Date(1598318330198),DURATION:\"000 00:00:08\",MESSAGEGROUP:\"FM\",INTERVALBEGIN_ID:\"Morning Shift\"},{CONSOLEAREA:\"PU011\",ACTIVE:false,ISWARNING:0,PLCNAME:\"面漆1线\",PLC:\"LF2911\",ESTOPAREA:\"B.5\",INTERVALEND_ID:\"Morning Shift\",TEXT:\"位置无效自由\",DEVICENOTRELEVANT:false,FUNCTIONGROUPDESCRIPTION:\"防爆区滚床\",RECORDID:156770860,PANELAREA:\"S02\",FUNCTIONGROUP:\"RB320\",MESSAGETYPE:\"T\",ADDRESS:\"DB2308.DBX8.3\",VARIABLE_NAME:\"LF2911:Faults.S02.RB320.InvalidFree.Value\",TSBEGIN:new Date(1598318305539),TSEND:new Date(1598318311616),DURATION:\"000 00:00:06\",MESSAGEGROUP:\"FM\",INTERVALBEGIN_ID:\"Morning Shift\"},{CONSOLEAREA:\"PU011\",ACTIVE:false,ISWARNING:0,PLCNAME:\"面漆1线\",PLC:\"LF2911\",ESTOPAREA:\"B.5\",INTERVALEND_ID:\"Morning Shift\",TEXT:\"位置无效自由\",DEVICENOTRELEVANT:false,FUNCTIONGROUPDESCRIPTION:\"防爆区滚床\",RECORDID:156770850,PANELAREA:\"S02\",FUNCTIONGROUP:\"RB320\",MESSAGETYPE:\"T\",ADDRESS:\"DB2308.DBX8.3\",VARIABLE_NAME:\"LF2911:Faults.S02.RB320.InvalidFree.Value\",TSBEGIN:new Date(1598318299485),TSEND:new Date(1598318301485),DURATION:\"000 00:00:02\",MESSAGEGROUP:\"FM\",INTERVALBEGIN_ID:\"Morning Shift\"},{CONSOLEAREA:\"PU011\",ACTIVE:false,ISWARNING:0,PLCNAME:\"面漆1线\",PLC:\"LF2911\",ESTOPAREA:\"B.5\",INTERVALEND_ID:\"Morning Shift\",TEXT:\"位置无效自由\",DEVICENOTRELEVANT:false,FUNCTIONGROUPDESCRIPTION:\"防爆区滚床\",RECORDID:156770208,PANELAREA:\"S02\",FUNCTIONGROUP:\"RB320\",MESSAGETYPE:\"T\",ADDRESS:\"DB2308.DBX8.3\",VARIABLE_NAME:\"LF2911:Faults.S02.RB320.InvalidFree.Value\",TSBEGIN:new Date(1598318125586),TSEND:new Date(1598318293513),DURATION:\"000 00:02:47\",MESSAGEGROUP:\"FM\",INTERVALBEGIN_ID:\"Morning Shift\"},{CONSOLEAREA:\"PU011\",ACTIVE:false,ISWARNING:0,PLCNAME:\"面漆1线\",PLC:\"LF2911\",ESTOPAREA:\"B.5\",INTERVALEND_ID:\"Morning Shift\",TEXT:\"位置无效自由\",DEVICENOTRELEVANT:false,FUNCTIONGROUPDESCRIPTION:\"防爆区滚床\",RECORDID:156755443,PANELAREA:\"S02\",FUNCTIONGROUP:\"RB320\",MESSAGETYPE:\"T\",ADDRESS:\"DB2308.DBX8.3\",VARIABLE_NAME:\"LF2911:Faults.S02.RB320.InvalidFree.Value\",TSBEGIN:new Date(1598313672630),TSEND:new Date(1598313820398),DURATION:\"000 00:02:27\",MESSAGEGROUP:\"FM\",INTERVALBEGIN_ID:\"Morning Shift\"},{CONSOLEAREA:\"PU011\",ACTIVE:false,ISWARNING:0,PLCNAME:\"面漆1线\",PLC:\"LF2911\",ESTOPAREA:\"B.5\",INTERVALEND_ID:\"Morning Shift\",TEXT:\"位置无效自由\",DEVICENOTRELEVANT:false,FUNCTIONGROUPDESCRIPTION:\"防爆区滚床\",RECORDID:156586412,PANELAREA:\"S02\",FUNCTIONGROUP:\"RB320\",MESSAGETYPE:\"T\",ADDRESS:\"DB2308.DBX8.3\",VARIABLE_NAME:\"LF2911:Faults.S02.RB320.InvalidFree.Value\",TSBEGIN:new Date(1598245145796),TSEND:new Date(1598245267127),DURATION:\"000 00:02:01\",MESSAGEGROUP:\"FM\",INTERVALBEGIN_ID:\"Morning Shift\"},{CONSOLEAREA:\"PU011\",ACTIVE:false,ISWARNING:1,PLCNAME:\"面漆1线\",PLC:\"LF2911\",ESTOPAREA:\"B.5\",INTERVALEND_ID:\"Morning Shift\",TEXT:\"出口闭锁\",DEVICENOTRELEVANT:false,FUNCTIONGROUPDESCRIPTION:\"防爆区滚床\",RECORDID:156567889,PANELAREA:\"S02\",FUNCTIONGROUP:\"RB320\",MESSAGETYPE:\"O\",ADDRESS:\"DB2308.DBX12.1\",VARIABLE_NAME:\"LF2911:Faults.S02.RB320.OutletBlocked.Value\",TSBEGIN:new Date(1598239753597),TSEND:new Date(1598239769806),DURATION:\"000 00:00:16\",MESSAGEGROUP:\"FM\",INTERVALBEGIN_ID:\"Morning Shift\"},{CONSOLEAREA:\"PU011\",ACTIVE:false,ISWARNING:0,PLCNAME:\"面漆1线\",PLC:\"LF2911\",ESTOPAREA:\"B.5\",INTERVALEND_ID:\"Morning Shift\",TEXT:\"位置无效自由\",DEVICENOTRELEVANT:false,FUNCTIONGROUPDESCRIPTION:\"防爆区滚床\",RECORDID:156566901,PANELAREA:\"S02\",FUNCTIONGROUP:\"RB320\",MESSAGETYPE:\"T\",ADDRESS:\"DB2308.DBX8.3\",VARIABLE_NAME:\"LF2911:Faults.S02.RB320.InvalidFree.Value\",TSBEGIN:new Date(1598239495914),TSEND:new Date(1598239755589),DURATION:\"000 00:04:19\",MESSAGEGROUP:\"FM\",INTERVALBEGIN_ID:\"Morning Shift\"},{CONSOLEAREA:\"PU011\",ACTIVE:false,ISWARNING:0,PLCNAME:\"面漆1线\",PLC:\"LF2911\",ESTOPAREA:\"B.5\",INTERVALEND_ID:\"Morning Shift\",TEXT:\"位置无效自由\",DEVICENOTRELEVANT:false,FUNCTIONGROUPDESCRIPTION:\"防爆区滚床\",RECORDID:156552663,PANELAREA:\"S02\",FUNCTIONGROUP:\"RB320\",MESSAGETYPE:\"T\",ADDRESS:\"DB2308.DBX8.3\",VARIABLE_NAME:\"LF2911:Faults.S02.RB320.InvalidFree.Value\",TSBEGIN:new Date(1598233968242),TSEND:new Date(1598234023411),DURATION:\"000 00:00:55\",MESSAGEGROUP:\"FM\",INTERVALBEGIN_ID:\"Morning Shift\"},{CONSOLEAREA:\"PU011\",ACTIVE:false,ISWARNING:0,PLCNAME:\"面漆1线\",PLC:\"LF2911\",ESTOPAREA:\"B.5\",INTERVALEND_ID:\"Night Shift\",TEXT:\"位置无效占位\",DEVICENOTRELEVANT:false,FUNCTIONGROUPDESCRIPTION:\"防爆区滚床\",RECORDID:156445504,PANELAREA:\"S02\",FUNCTIONGROUP:\"RB320\",MESSAGETYPE:\"T\",ADDRESS:\"DB2308.DBX8.2\",VARIABLE_NAME:\"LF2911:Faults.S02.RB320.InvalidOccupied.Value\",TSBEGIN:new Date(1598143424678),TSEND:new Date(1598173427224),DURATION:\"000 08:20:02\",MESSAGEGROUP:\"FM\",INTERVALBEGIN_ID:\"Morning Shift\"},{CONSOLEAREA:\"PU011\",ACTIVE:false,ISWARNING:0,PLCNAME:\"面漆1线\",PLC:\"LF2911\",ESTOPAREA:\"B.5\",INTERVALEND_ID:\"Night Shift\",TEXT:\"位置无效自由\",DEVICENOTRELEVANT:false,FUNCTIONGROUPDESCRIPTION:\"防爆区滚床\",RECORDID:156350573,PANELAREA:\"S02\",FUNCTIONGROUP:\"RB320\",MESSAGETYPE:\"T\",ADDRESS:\"DB2308.DBX8.3\",VARIABLE_NAME:\"LF2911:Faults.S02.RB320.InvalidFree.Value\",TSBEGIN:new Date(1598090562849),TSEND:new Date(1598090745901),DURATION:\"000 00:03:03\",MESSAGEGROUP:\"FM\",INTERVALBEGIN_ID:\"Night Shift\"},{CONSOLEAREA:\"PU011\",ACTIVE:false,ISWARNING:0,PLCNAME:\"面漆1线\",PLC:\"LF2911\",ESTOPAREA:\"B.5\",INTERVALEND_ID:\"Morning Shift\",TEXT:\"位置无效自由\",DEVICENOTRELEVANT:false,FUNCTIONGROUPDESCRIPTION:\"防爆区滚床\",RECORDID:156276107,PANELAREA:\"S02\",FUNCTIONGROUP:\"RB320\",MESSAGETYPE:\"T\",ADDRESS:\"DB2308.DBX8.3\",VARIABLE_NAME:\"LF2911:Faults.S02.RB320.InvalidFree.Value\",TSBEGIN:new Date(1598067289107),TSEND:new Date(1598067362857),DURATION:\"000 00:01:13\",MESSAGEGROUP:\"FM\",INTERVALBEGIN_ID:\"Morning Shift\"}],endRow:18,invalidateCache:false,isDSResponse:true,operationType:\"fetch\",queueStatus:0,startRow:0,status:0,totalRows:18}]'\n",
    "'''\n",
    "import ast"
   ]
  },
  {
   "cell_type": "code",
   "execution_count": 175,
   "metadata": {},
   "outputs": [],
   "source": [
    "data = s.split('data:')[1].split(']}')[0]"
   ]
  },
  {
   "cell_type": "code",
   "execution_count": 176,
   "metadata": {},
   "outputs": [],
   "source": [
    "lis = []\n",
    "for ele in data.split('},'):\n",
    "    dic = {}\n",
    "    for key in ele.split(','):\n",
    "#         print(key)\n",
    "        dic[str(key.strip('[{').split(':')[0])] = str(key.strip('}]').split(':')[1].strip('{[').strip())\n",
    "#     str(key.strip('}]').split(':')[1]).strip()\n",
    "    lis.append(dic)"
   ]
  },
  {
   "cell_type": "code",
   "execution_count": 178,
   "metadata": {},
   "outputs": [
    {
     "data": {
      "text/plain": [
       "[{'CONSOLEAREA': '\"PU011\"',\n",
       "  'ACTIVE': 'false',\n",
       "  'ISWARNING': '0',\n",
       "  'PLCNAME': '\"面漆1线\"',\n",
       "  'PLC': '\"LF2911\"',\n",
       "  'ESTOPAREA': '\"B.5\"',\n",
       "  'INTERVALEND_ID': '\"Morning Shift\"',\n",
       "  'TEXT': '\"位置无效自由\"',\n",
       "  'DEVICENOTRELEVANT': 'false',\n",
       "  'FUNCTIONGROUPDESCRIPTION': '\"防爆区滚床\"',\n",
       "  'RECORDID': '157193737',\n",
       "  'PANELAREA': '\"S02\"',\n",
       "  'FUNCTIONGROUP': '\"RB320\"',\n",
       "  'MESSAGETYPE': '\"T\"',\n",
       "  'ADDRESS': '\"DB2308.DBX8.3\"',\n",
       "  'VARIABLE_NAME': '\"LF2911',\n",
       "  'TSBEGIN': 'new Date(1598488770565)',\n",
       "  'TSEND': 'new Date(1598488883573)',\n",
       "  'DURATION': '\"000 00',\n",
       "  'MESSAGEGROUP': '\"FM\"',\n",
       "  'INTERVALBEGIN_ID': '\"Morning Shift\"'},\n",
       " {'CONSOLEAREA': '\"PU011\"',\n",
       "  'ACTIVE': 'false',\n",
       "  'ISWARNING': '0',\n",
       "  'PLCNAME': '\"面漆1线\"',\n",
       "  'PLC': '\"LF2911\"',\n",
       "  'ESTOPAREA': '\"B.5\"',\n",
       "  'INTERVALEND_ID': '\"Morning Shift\"',\n",
       "  'TEXT': '\"位置无效自由\"',\n",
       "  'DEVICENOTRELEVANT': 'false',\n",
       "  'FUNCTIONGROUPDESCRIPTION': '\"防爆区滚床\"',\n",
       "  'RECORDID': '157187739',\n",
       "  'PANELAREA': '\"S02\"',\n",
       "  'FUNCTIONGROUP': '\"RB320\"',\n",
       "  'MESSAGETYPE': '\"T\"',\n",
       "  'ADDRESS': '\"DB2308.DBX8.3\"',\n",
       "  'VARIABLE_NAME': '\"LF2911',\n",
       "  'TSBEGIN': 'new Date(1598486907836)',\n",
       "  'TSEND': 'new Date(1598486952947)',\n",
       "  'DURATION': '\"000 00',\n",
       "  'MESSAGEGROUP': '\"FM\"',\n",
       "  'INTERVALBEGIN_ID': '\"Morning Shift\"'},\n",
       " {'CONSOLEAREA': '\"PU011\"',\n",
       "  'ACTIVE': 'false',\n",
       "  'ISWARNING': '0',\n",
       "  'PLCNAME': '\"面漆1线\"',\n",
       "  'PLC': '\"LF2911\"',\n",
       "  'ESTOPAREA': '\"B.5\"',\n",
       "  'INTERVALEND_ID': '\"Night Shift\"',\n",
       "  'TEXT': '\"位置无效自由\"',\n",
       "  'DEVICENOTRELEVANT': 'false',\n",
       "  'FUNCTIONGROUPDESCRIPTION': '\"防爆区滚床\"',\n",
       "  'RECORDID': '157140798',\n",
       "  'PANELAREA': '\"S02\"',\n",
       "  'FUNCTIONGROUP': '\"RB320\"',\n",
       "  'MESSAGETYPE': '\"T\"',\n",
       "  'ADDRESS': '\"DB2308.DBX8.3\"',\n",
       "  'VARIABLE_NAME': '\"LF2911',\n",
       "  'TSBEGIN': 'new Date(1598457456046)',\n",
       "  'TSEND': 'new Date(1598457600090)',\n",
       "  'DURATION': '\"000 00',\n",
       "  'MESSAGEGROUP': '\"FM\"',\n",
       "  'INTERVALBEGIN_ID': '\"Night Shift\"'},\n",
       " {'CONSOLEAREA': '\"PU011\"',\n",
       "  'ACTIVE': 'false',\n",
       "  'ISWARNING': '0',\n",
       "  'PLCNAME': '\"面漆1线\"',\n",
       "  'PLC': '\"LF2911\"',\n",
       "  'ESTOPAREA': '\"B.5\"',\n",
       "  'INTERVALEND_ID': '\"Night Shift\"',\n",
       "  'TEXT': '\"位置无效自由\"',\n",
       "  'DEVICENOTRELEVANT': 'false',\n",
       "  'FUNCTIONGROUPDESCRIPTION': '\"防爆区滚床\"',\n",
       "  'RECORDID': '157082517',\n",
       "  'PANELAREA': '\"S02\"',\n",
       "  'FUNCTIONGROUP': '\"RB320\"',\n",
       "  'MESSAGETYPE': '\"T\"',\n",
       "  'ADDRESS': '\"DB2308.DBX8.3\"',\n",
       "  'VARIABLE_NAME': '\"LF2911',\n",
       "  'TSBEGIN': 'new Date(1598438706011)',\n",
       "  'TSEND': 'new Date(1598438770312)',\n",
       "  'DURATION': '\"000 00',\n",
       "  'MESSAGEGROUP': '\"FM\"',\n",
       "  'INTERVALBEGIN_ID': '\"Night Shift\"'},\n",
       " {'CONSOLEAREA': '\"PU011\"',\n",
       "  'ACTIVE': 'false',\n",
       "  'ISWARNING': '0',\n",
       "  'PLCNAME': '\"面漆1线\"',\n",
       "  'PLC': '\"LF2911\"',\n",
       "  'ESTOPAREA': '\"B.5\"',\n",
       "  'INTERVALEND_ID': '\"Morning Shift\"',\n",
       "  'TEXT': '\"位置无效自由\"',\n",
       "  'DEVICENOTRELEVANT': 'false',\n",
       "  'FUNCTIONGROUPDESCRIPTION': '\"防爆区滚床\"',\n",
       "  'RECORDID': '157022983',\n",
       "  'PANELAREA': '\"S02\"',\n",
       "  'FUNCTIONGROUP': '\"RB320\"',\n",
       "  'MESSAGETYPE': '\"T\"',\n",
       "  'ADDRESS': '\"DB2308.DBX8.3\"',\n",
       "  'VARIABLE_NAME': '\"LF2911',\n",
       "  'TSBEGIN': 'new Date(1598418938835)',\n",
       "  'TSEND': 'new Date(1598419241188)',\n",
       "  'DURATION': '\"000 00',\n",
       "  'MESSAGEGROUP': '\"FM\"',\n",
       "  'INTERVALBEGIN_ID': '\"Morning Shift\"'},\n",
       " {'CONSOLEAREA': '\"PU011\"',\n",
       "  'ACTIVE': 'false',\n",
       "  'ISWARNING': '0',\n",
       "  'PLCNAME': '\"面漆1线\"',\n",
       "  'PLC': '\"LF2911\"',\n",
       "  'ESTOPAREA': '\"B.5\"',\n",
       "  'INTERVALEND_ID': '\"Morning Shift\"',\n",
       "  'TEXT': '\"位置无效自由\"',\n",
       "  'DEVICENOTRELEVANT': 'false',\n",
       "  'FUNCTIONGROUPDESCRIPTION': '\"防爆区滚床\"',\n",
       "  'RECORDID': '157016784',\n",
       "  'PANELAREA': '\"S02\"',\n",
       "  'FUNCTIONGROUP': '\"RB320\"',\n",
       "  'MESSAGETYPE': '\"T\"',\n",
       "  'ADDRESS': '\"DB2308.DBX8.3\"',\n",
       "  'VARIABLE_NAME': '\"LF2911',\n",
       "  'TSBEGIN': 'new Date(1598417178457)',\n",
       "  'TSEND': 'new Date(1598417524244)',\n",
       "  'DURATION': '\"000 00',\n",
       "  'MESSAGEGROUP': '\"FM\"',\n",
       "  'INTERVALBEGIN_ID': '\"Morning Shift\"'},\n",
       " {'CONSOLEAREA': '\"PU011\"',\n",
       "  'ACTIVE': 'false',\n",
       "  'ISWARNING': '1',\n",
       "  'PLCNAME': '\"面漆1线\"',\n",
       "  'PLC': '\"LF2911\"',\n",
       "  'ESTOPAREA': '\"B.5\"',\n",
       "  'INTERVALEND_ID': '\"Morning Shift\"',\n",
       "  'TEXT': '\"出口闭锁\"',\n",
       "  'DEVICENOTRELEVANT': 'false',\n",
       "  'FUNCTIONGROUPDESCRIPTION': '\"防爆区滚床\"',\n",
       "  'RECORDID': '156770882',\n",
       "  'PANELAREA': '\"S02\"',\n",
       "  'FUNCTIONGROUP': '\"RB320\"',\n",
       "  'MESSAGETYPE': '\"O\"',\n",
       "  'ADDRESS': '\"DB2308.DBX12.1\"',\n",
       "  'VARIABLE_NAME': '\"LF2911',\n",
       "  'TSBEGIN': 'new Date(1598318321801)',\n",
       "  'TSEND': 'new Date(1598318330198)',\n",
       "  'DURATION': '\"000 00',\n",
       "  'MESSAGEGROUP': '\"FM\"',\n",
       "  'INTERVALBEGIN_ID': '\"Morning Shift\"'},\n",
       " {'CONSOLEAREA': '\"PU011\"',\n",
       "  'ACTIVE': 'false',\n",
       "  'ISWARNING': '0',\n",
       "  'PLCNAME': '\"面漆1线\"',\n",
       "  'PLC': '\"LF2911\"',\n",
       "  'ESTOPAREA': '\"B.5\"',\n",
       "  'INTERVALEND_ID': '\"Morning Shift\"',\n",
       "  'TEXT': '\"位置无效自由\"',\n",
       "  'DEVICENOTRELEVANT': 'false',\n",
       "  'FUNCTIONGROUPDESCRIPTION': '\"防爆区滚床\"',\n",
       "  'RECORDID': '156770860',\n",
       "  'PANELAREA': '\"S02\"',\n",
       "  'FUNCTIONGROUP': '\"RB320\"',\n",
       "  'MESSAGETYPE': '\"T\"',\n",
       "  'ADDRESS': '\"DB2308.DBX8.3\"',\n",
       "  'VARIABLE_NAME': '\"LF2911',\n",
       "  'TSBEGIN': 'new Date(1598318305539)',\n",
       "  'TSEND': 'new Date(1598318311616)',\n",
       "  'DURATION': '\"000 00',\n",
       "  'MESSAGEGROUP': '\"FM\"',\n",
       "  'INTERVALBEGIN_ID': '\"Morning Shift\"'},\n",
       " {'CONSOLEAREA': '\"PU011\"',\n",
       "  'ACTIVE': 'false',\n",
       "  'ISWARNING': '0',\n",
       "  'PLCNAME': '\"面漆1线\"',\n",
       "  'PLC': '\"LF2911\"',\n",
       "  'ESTOPAREA': '\"B.5\"',\n",
       "  'INTERVALEND_ID': '\"Morning Shift\"',\n",
       "  'TEXT': '\"位置无效自由\"',\n",
       "  'DEVICENOTRELEVANT': 'false',\n",
       "  'FUNCTIONGROUPDESCRIPTION': '\"防爆区滚床\"',\n",
       "  'RECORDID': '156770850',\n",
       "  'PANELAREA': '\"S02\"',\n",
       "  'FUNCTIONGROUP': '\"RB320\"',\n",
       "  'MESSAGETYPE': '\"T\"',\n",
       "  'ADDRESS': '\"DB2308.DBX8.3\"',\n",
       "  'VARIABLE_NAME': '\"LF2911',\n",
       "  'TSBEGIN': 'new Date(1598318299485)',\n",
       "  'TSEND': 'new Date(1598318301485)',\n",
       "  'DURATION': '\"000 00',\n",
       "  'MESSAGEGROUP': '\"FM\"',\n",
       "  'INTERVALBEGIN_ID': '\"Morning Shift\"'},\n",
       " {'CONSOLEAREA': '\"PU011\"',\n",
       "  'ACTIVE': 'false',\n",
       "  'ISWARNING': '0',\n",
       "  'PLCNAME': '\"面漆1线\"',\n",
       "  'PLC': '\"LF2911\"',\n",
       "  'ESTOPAREA': '\"B.5\"',\n",
       "  'INTERVALEND_ID': '\"Morning Shift\"',\n",
       "  'TEXT': '\"位置无效自由\"',\n",
       "  'DEVICENOTRELEVANT': 'false',\n",
       "  'FUNCTIONGROUPDESCRIPTION': '\"防爆区滚床\"',\n",
       "  'RECORDID': '156770208',\n",
       "  'PANELAREA': '\"S02\"',\n",
       "  'FUNCTIONGROUP': '\"RB320\"',\n",
       "  'MESSAGETYPE': '\"T\"',\n",
       "  'ADDRESS': '\"DB2308.DBX8.3\"',\n",
       "  'VARIABLE_NAME': '\"LF2911',\n",
       "  'TSBEGIN': 'new Date(1598318125586)',\n",
       "  'TSEND': 'new Date(1598318293513)',\n",
       "  'DURATION': '\"000 00',\n",
       "  'MESSAGEGROUP': '\"FM\"',\n",
       "  'INTERVALBEGIN_ID': '\"Morning Shift\"'},\n",
       " {'CONSOLEAREA': '\"PU011\"',\n",
       "  'ACTIVE': 'false',\n",
       "  'ISWARNING': '0',\n",
       "  'PLCNAME': '\"面漆1线\"',\n",
       "  'PLC': '\"LF2911\"',\n",
       "  'ESTOPAREA': '\"B.5\"',\n",
       "  'INTERVALEND_ID': '\"Morning Shift\"',\n",
       "  'TEXT': '\"位置无效自由\"',\n",
       "  'DEVICENOTRELEVANT': 'false',\n",
       "  'FUNCTIONGROUPDESCRIPTION': '\"防爆区滚床\"',\n",
       "  'RECORDID': '156755443',\n",
       "  'PANELAREA': '\"S02\"',\n",
       "  'FUNCTIONGROUP': '\"RB320\"',\n",
       "  'MESSAGETYPE': '\"T\"',\n",
       "  'ADDRESS': '\"DB2308.DBX8.3\"',\n",
       "  'VARIABLE_NAME': '\"LF2911',\n",
       "  'TSBEGIN': 'new Date(1598313672630)',\n",
       "  'TSEND': 'new Date(1598313820398)',\n",
       "  'DURATION': '\"000 00',\n",
       "  'MESSAGEGROUP': '\"FM\"',\n",
       "  'INTERVALBEGIN_ID': '\"Morning Shift\"'},\n",
       " {'CONSOLEAREA': '\"PU011\"',\n",
       "  'ACTIVE': 'false',\n",
       "  'ISWARNING': '0',\n",
       "  'PLCNAME': '\"面漆1线\"',\n",
       "  'PLC': '\"LF2911\"',\n",
       "  'ESTOPAREA': '\"B.5\"',\n",
       "  'INTERVALEND_ID': '\"Morning Shift\"',\n",
       "  'TEXT': '\"位置无效自由\"',\n",
       "  'DEVICENOTRELEVANT': 'false',\n",
       "  'FUNCTIONGROUPDESCRIPTION': '\"防爆区滚床\"',\n",
       "  'RECORDID': '156586412',\n",
       "  'PANELAREA': '\"S02\"',\n",
       "  'FUNCTIONGROUP': '\"RB320\"',\n",
       "  'MESSAGETYPE': '\"T\"',\n",
       "  'ADDRESS': '\"DB2308.DBX8.3\"',\n",
       "  'VARIABLE_NAME': '\"LF2911',\n",
       "  'TSBEGIN': 'new Date(1598245145796)',\n",
       "  'TSEND': 'new Date(1598245267127)',\n",
       "  'DURATION': '\"000 00',\n",
       "  'MESSAGEGROUP': '\"FM\"',\n",
       "  'INTERVALBEGIN_ID': '\"Morning Shift\"'},\n",
       " {'CONSOLEAREA': '\"PU011\"',\n",
       "  'ACTIVE': 'false',\n",
       "  'ISWARNING': '1',\n",
       "  'PLCNAME': '\"面漆1线\"',\n",
       "  'PLC': '\"LF2911\"',\n",
       "  'ESTOPAREA': '\"B.5\"',\n",
       "  'INTERVALEND_ID': '\"Morning Shift\"',\n",
       "  'TEXT': '\"出口闭锁\"',\n",
       "  'DEVICENOTRELEVANT': 'false',\n",
       "  'FUNCTIONGROUPDESCRIPTION': '\"防爆区滚床\"',\n",
       "  'RECORDID': '156567889',\n",
       "  'PANELAREA': '\"S02\"',\n",
       "  'FUNCTIONGROUP': '\"RB320\"',\n",
       "  'MESSAGETYPE': '\"O\"',\n",
       "  'ADDRESS': '\"DB2308.DBX12.1\"',\n",
       "  'VARIABLE_NAME': '\"LF2911',\n",
       "  'TSBEGIN': 'new Date(1598239753597)',\n",
       "  'TSEND': 'new Date(1598239769806)',\n",
       "  'DURATION': '\"000 00',\n",
       "  'MESSAGEGROUP': '\"FM\"',\n",
       "  'INTERVALBEGIN_ID': '\"Morning Shift\"'},\n",
       " {'CONSOLEAREA': '\"PU011\"',\n",
       "  'ACTIVE': 'false',\n",
       "  'ISWARNING': '0',\n",
       "  'PLCNAME': '\"面漆1线\"',\n",
       "  'PLC': '\"LF2911\"',\n",
       "  'ESTOPAREA': '\"B.5\"',\n",
       "  'INTERVALEND_ID': '\"Morning Shift\"',\n",
       "  'TEXT': '\"位置无效自由\"',\n",
       "  'DEVICENOTRELEVANT': 'false',\n",
       "  'FUNCTIONGROUPDESCRIPTION': '\"防爆区滚床\"',\n",
       "  'RECORDID': '156566901',\n",
       "  'PANELAREA': '\"S02\"',\n",
       "  'FUNCTIONGROUP': '\"RB320\"',\n",
       "  'MESSAGETYPE': '\"T\"',\n",
       "  'ADDRESS': '\"DB2308.DBX8.3\"',\n",
       "  'VARIABLE_NAME': '\"LF2911',\n",
       "  'TSBEGIN': 'new Date(1598239495914)',\n",
       "  'TSEND': 'new Date(1598239755589)',\n",
       "  'DURATION': '\"000 00',\n",
       "  'MESSAGEGROUP': '\"FM\"',\n",
       "  'INTERVALBEGIN_ID': '\"Morning Shift\"'},\n",
       " {'CONSOLEAREA': '\"PU011\"',\n",
       "  'ACTIVE': 'false',\n",
       "  'ISWARNING': '0',\n",
       "  'PLCNAME': '\"面漆1线\"',\n",
       "  'PLC': '\"LF2911\"',\n",
       "  'ESTOPAREA': '\"B.5\"',\n",
       "  'INTERVALEND_ID': '\"Morning Shift\"',\n",
       "  'TEXT': '\"位置无效自由\"',\n",
       "  'DEVICENOTRELEVANT': 'false',\n",
       "  'FUNCTIONGROUPDESCRIPTION': '\"防爆区滚床\"',\n",
       "  'RECORDID': '156552663',\n",
       "  'PANELAREA': '\"S02\"',\n",
       "  'FUNCTIONGROUP': '\"RB320\"',\n",
       "  'MESSAGETYPE': '\"T\"',\n",
       "  'ADDRESS': '\"DB2308.DBX8.3\"',\n",
       "  'VARIABLE_NAME': '\"LF2911',\n",
       "  'TSBEGIN': 'new Date(1598233968242)',\n",
       "  'TSEND': 'new Date(1598234023411)',\n",
       "  'DURATION': '\"000 00',\n",
       "  'MESSAGEGROUP': '\"FM\"',\n",
       "  'INTERVALBEGIN_ID': '\"Morning Shift\"'},\n",
       " {'CONSOLEAREA': '\"PU011\"',\n",
       "  'ACTIVE': 'false',\n",
       "  'ISWARNING': '0',\n",
       "  'PLCNAME': '\"面漆1线\"',\n",
       "  'PLC': '\"LF2911\"',\n",
       "  'ESTOPAREA': '\"B.5\"',\n",
       "  'INTERVALEND_ID': '\"Night Shift\"',\n",
       "  'TEXT': '\"位置无效占位\"',\n",
       "  'DEVICENOTRELEVANT': 'false',\n",
       "  'FUNCTIONGROUPDESCRIPTION': '\"防爆区滚床\"',\n",
       "  'RECORDID': '156445504',\n",
       "  'PANELAREA': '\"S02\"',\n",
       "  'FUNCTIONGROUP': '\"RB320\"',\n",
       "  'MESSAGETYPE': '\"T\"',\n",
       "  'ADDRESS': '\"DB2308.DBX8.2\"',\n",
       "  'VARIABLE_NAME': '\"LF2911',\n",
       "  'TSBEGIN': 'new Date(1598143424678)',\n",
       "  'TSEND': 'new Date(1598173427224)',\n",
       "  'DURATION': '\"000 08',\n",
       "  'MESSAGEGROUP': '\"FM\"',\n",
       "  'INTERVALBEGIN_ID': '\"Morning Shift\"'},\n",
       " {'CONSOLEAREA': '\"PU011\"',\n",
       "  'ACTIVE': 'false',\n",
       "  'ISWARNING': '0',\n",
       "  'PLCNAME': '\"面漆1线\"',\n",
       "  'PLC': '\"LF2911\"',\n",
       "  'ESTOPAREA': '\"B.5\"',\n",
       "  'INTERVALEND_ID': '\"Night Shift\"',\n",
       "  'TEXT': '\"位置无效自由\"',\n",
       "  'DEVICENOTRELEVANT': 'false',\n",
       "  'FUNCTIONGROUPDESCRIPTION': '\"防爆区滚床\"',\n",
       "  'RECORDID': '156350573',\n",
       "  'PANELAREA': '\"S02\"',\n",
       "  'FUNCTIONGROUP': '\"RB320\"',\n",
       "  'MESSAGETYPE': '\"T\"',\n",
       "  'ADDRESS': '\"DB2308.DBX8.3\"',\n",
       "  'VARIABLE_NAME': '\"LF2911',\n",
       "  'TSBEGIN': 'new Date(1598090562849)',\n",
       "  'TSEND': 'new Date(1598090745901)',\n",
       "  'DURATION': '\"000 00',\n",
       "  'MESSAGEGROUP': '\"FM\"',\n",
       "  'INTERVALBEGIN_ID': '\"Night Shift\"'},\n",
       " {'CONSOLEAREA': '\"PU011\"',\n",
       "  'ACTIVE': 'false',\n",
       "  'ISWARNING': '0',\n",
       "  'PLCNAME': '\"面漆1线\"',\n",
       "  'PLC': '\"LF2911\"',\n",
       "  'ESTOPAREA': '\"B.5\"',\n",
       "  'INTERVALEND_ID': '\"Morning Shift\"',\n",
       "  'TEXT': '\"位置无效自由\"',\n",
       "  'DEVICENOTRELEVANT': 'false',\n",
       "  'FUNCTIONGROUPDESCRIPTION': '\"防爆区滚床\"',\n",
       "  'RECORDID': '156276107',\n",
       "  'PANELAREA': '\"S02\"',\n",
       "  'FUNCTIONGROUP': '\"RB320\"',\n",
       "  'MESSAGETYPE': '\"T\"',\n",
       "  'ADDRESS': '\"DB2308.DBX8.3\"',\n",
       "  'VARIABLE_NAME': '\"LF2911',\n",
       "  'TSBEGIN': 'new Date(1598067289107)',\n",
       "  'TSEND': 'new Date(1598067362857)',\n",
       "  'DURATION': '\"000 00',\n",
       "  'MESSAGEGROUP': '\"FM\"',\n",
       "  'INTERVALBEGIN_ID': '\"Morning Shift\"',\n",
       "  'endRow': '18',\n",
       "  'invalidateCache': 'false',\n",
       "  'isDSResponse': 'true',\n",
       "  'operationType': '\"fetch\"',\n",
       "  'queueStatus': '0',\n",
       "  'startRow': '0',\n",
       "  'status': '0',\n",
       "  'totalRows': \"18}]'\"}]"
      ]
     },
     "execution_count": 178,
     "metadata": {},
     "output_type": "execute_result"
    }
   ],
   "source": [
    "lis"
   ]
  },
  {
   "cell_type": "code",
   "execution_count": null,
   "metadata": {},
   "outputs": [],
   "source": [
    "import seaborn as sns\n",
    "import matplotlib.pyplot as plt\n",
    "import matplotlib.ticker as plticker\n",
    "import seaborn as sns\n",
    "import numpy as np\n",
    "\n",
    "flatui = [\"#636EFA\", \"#EF553B\", \"#00CC96\", \"#AB63FA\"]\n",
    "\n",
    "fig, ax = plt.subplots(figsize=(17, 7))    \n",
    "plot=sns.lineplot(ax=ax,x=\"number of weeks\", y=\"avg streams\", hue=\"year\", data=df, palette=flatui)\n",
    "\n",
    "ax.yaxis.set_major_formatter(ticker.FuncFormatter(lambda x, pos: '{:,.2f}'.format(x/1000) + 'K'))\n",
    "\n",
    "plot.set(title='Streams trend')\n",
    "plot.xaxis.set_major_locator(ticker.MultipleLocator(2))\n",
    "\n",
    "    \n",
    "\n",
    "    \n",
    "fig, ax =plt.subplots(1,2, figsize=(17,7))\n",
    "plot = sns.barplot(x=\"Artist\", y=\"Releases\", data = result.head(10), ax=ax[0])\n",
    "plot.set_xticklabels(\n",
    "    plot.get_xticklabels(), \n",
    "    rotation=90, \n",
    "    horizontalalignment='center',\n",
    "    fontweight='light',\n",
    "    fontsize='x-large'\n",
    "\n",
    ")\n",
    "plot=sns.barplot(x=\"Artist\", y=\"Streams\", data = result.head(10), ax=ax[1])\n",
    "plot.set_xticklabels(\n",
    "    plot.get_xticklabels(), \n",
    "    rotation=90, \n",
    "    horizontalalignment='center',\n",
    "    fontweight='light',\n",
    "    fontsize='x-large'\n",
    "\n",
    ")"
   ]
  },
  {
   "cell_type": "code",
   "execution_count": 90,
   "metadata": {},
   "outputs": [],
   "source": [
    "import pandas as pd \n",
    "df = pd.DataFrame([[118910.000000,3],\n",
    "[71209.000000,2],\n",
    "[25674.666667,0],\n",
    "[109267.666667,3],\n",
    "[8.000000,1]],columns = ['val','cluster'])"
   ]
  },
  {
   "cell_type": "code",
   "execution_count": 96,
   "metadata": {},
   "outputs": [
    {
     "data": {
      "application/vnd.plotly.v1+json": {
       "config": {
        "plotlyServerURL": "https://plot.ly"
       },
       "data": [
        {
         "alignmentgroup": "True",
         "bingroup": "x",
         "hovertemplate": "cluster=2<br>val=%{x}<br>count of cluster=%{y}<extra></extra>",
         "legendgroup": "2",
         "marker": {
          "color": "purple"
         },
         "name": "2",
         "offsetgroup": "2",
         "orientation": "v",
         "showlegend": true,
         "type": "histogram",
         "x": [
          28.33814194955305,
          99.66631289950611,
          76.23124787140489,
          92.6570984507318,
          52.23603689373846,
          34.879913204509585,
          93.59937405720459,
          5.322945907809107,
          79.96968981467185,
          13.31490237165054,
          24.650621858821154,
          82.01931223242156,
          46.48500012151964,
          31.044391013447548,
          19.114400518561027,
          62.0468621288327,
          46.34138395315568,
          39.67397298040862,
          97.61428333183007,
          8.22021181937952,
          53.16990072888469,
          76.08287139802714,
          33.50763501008714,
          67.95350387428486,
          8.642061604552985,
          30.13866611720042
         ],
         "xaxis": "x",
         "y": [
          2,
          2,
          2,
          2,
          2,
          2,
          2,
          2,
          2,
          2,
          2,
          2,
          2,
          2,
          2,
          2,
          2,
          2,
          2,
          2,
          2,
          2,
          2,
          2,
          2,
          2
         ],
         "yaxis": "y"
        },
        {
         "alignmentgroup": "True",
         "bingroup": "x",
         "hovertemplate": "cluster=0<br>val=%{x}<br>count of cluster=%{y}<extra></extra>",
         "legendgroup": "0",
         "marker": {
          "color": "red"
         },
         "name": "0",
         "offsetgroup": "0",
         "orientation": "v",
         "showlegend": true,
         "type": "histogram",
         "x": [
          64.9878045009904,
          27.41790985082816,
          2.712304444424296,
          73.34943326262486,
          92.36823013569565,
          47.19352766365322,
          1.6820690285825113,
          76.80610954839679,
          47.79365379449667,
          30.687982253589063,
          23.679335222460562,
          73.4447980992878,
          30.970627843862175,
          57.14664329093748,
          53.866940190632405,
          93.19454418235993,
          41.30702182111868,
          67.54245980092196,
          40.811286737977525,
          0.18319243399974594,
          59.3074377271663,
          69.50102886218575,
          9.267973527479768,
          40.70828308829937,
          54.02602023936511,
          27.061136137938245,
          65.92732483986666,
          89.38460255392864,
          71.43625509863136,
          19.703427910161576,
          80.60081719984863,
          80.64012814825445,
          7.4381120994498335
         ],
         "xaxis": "x",
         "y": [
          0,
          0,
          0,
          0,
          0,
          0,
          0,
          0,
          0,
          0,
          0,
          0,
          0,
          0,
          0,
          0,
          0,
          0,
          0,
          0,
          0,
          0,
          0,
          0,
          0,
          0,
          0,
          0,
          0,
          0,
          0,
          0,
          0
         ],
         "yaxis": "y"
        },
        {
         "alignmentgroup": "True",
         "bingroup": "x",
         "hovertemplate": "cluster=1<br>val=%{x}<br>count of cluster=%{y}<extra></extra>",
         "legendgroup": "1",
         "marker": {
          "color": "blue"
         },
         "name": "1",
         "offsetgroup": "1",
         "orientation": "v",
         "showlegend": true,
         "type": "histogram",
         "x": [
          31.37378992680624,
          58.37229427478269,
          55.990536209077455,
          38.91322575404141,
          16.785659313773305,
          92.02982015539602,
          38.58566560148417,
          80.54814183736372,
          79.25162965471523,
          81.70353759859502,
          67.99834068888886,
          69.9215738200189,
          12.11258475947724,
          23.240213519704,
          72.33809042340825,
          79.90066064045706,
          2.9218244334562327,
          29.086279765350298,
          96.54492551412197,
          60.75612760610043,
          58.12998494502985,
          24.567954042465523,
          50.158586726745455,
          58.41500801193982
         ],
         "xaxis": "x",
         "y": [
          1,
          1,
          1,
          1,
          1,
          1,
          1,
          1,
          1,
          1,
          1,
          1,
          1,
          1,
          1,
          1,
          1,
          1,
          1,
          1,
          1,
          1,
          1,
          1
         ],
         "yaxis": "y"
        },
        {
         "alignmentgroup": "True",
         "bingroup": "x",
         "hovertemplate": "cluster=3<br>val=%{x}<br>count of cluster=%{y}<extra></extra>",
         "legendgroup": "3",
         "marker": {
          "color": "green"
         },
         "name": "3",
         "offsetgroup": "3",
         "orientation": "v",
         "showlegend": true,
         "type": "histogram",
         "x": [
          88.81105806717639,
          0.5542348872343505,
          66.36754089678578,
          46.40459293127108,
          92.10287025019294,
          33.08198753240292,
          90.5603706518138,
          63.82189237810103,
          64.14830806380277,
          58.57055342670384,
          56.31795130866486,
          42.63527660885506,
          13.361884458036311,
          63.70724709031514,
          54.01722098007377,
          65.21321795326821,
          50.62754983229294
         ],
         "xaxis": "x",
         "y": [
          3,
          3,
          3,
          3,
          3,
          3,
          3,
          3,
          3,
          3,
          3,
          3,
          3,
          3,
          3,
          3,
          3
         ],
         "yaxis": "y"
        }
       ],
       "layout": {
        "barmode": "relative",
        "legend": {
         "title": {
          "text": "cluster"
         },
         "tracegroupgap": 0
        },
        "margin": {
         "t": 60
        },
        "template": {
         "data": {
          "bar": [
           {
            "error_x": {
             "color": "#2a3f5f"
            },
            "error_y": {
             "color": "#2a3f5f"
            },
            "marker": {
             "line": {
              "color": "#E5ECF6",
              "width": 0.5
             }
            },
            "type": "bar"
           }
          ],
          "barpolar": [
           {
            "marker": {
             "line": {
              "color": "#E5ECF6",
              "width": 0.5
             }
            },
            "type": "barpolar"
           }
          ],
          "carpet": [
           {
            "aaxis": {
             "endlinecolor": "#2a3f5f",
             "gridcolor": "white",
             "linecolor": "white",
             "minorgridcolor": "white",
             "startlinecolor": "#2a3f5f"
            },
            "baxis": {
             "endlinecolor": "#2a3f5f",
             "gridcolor": "white",
             "linecolor": "white",
             "minorgridcolor": "white",
             "startlinecolor": "#2a3f5f"
            },
            "type": "carpet"
           }
          ],
          "choropleth": [
           {
            "colorbar": {
             "outlinewidth": 0,
             "ticks": ""
            },
            "type": "choropleth"
           }
          ],
          "contour": [
           {
            "colorbar": {
             "outlinewidth": 0,
             "ticks": ""
            },
            "colorscale": [
             [
              0,
              "#0d0887"
             ],
             [
              0.1111111111111111,
              "#46039f"
             ],
             [
              0.2222222222222222,
              "#7201a8"
             ],
             [
              0.3333333333333333,
              "#9c179e"
             ],
             [
              0.4444444444444444,
              "#bd3786"
             ],
             [
              0.5555555555555556,
              "#d8576b"
             ],
             [
              0.6666666666666666,
              "#ed7953"
             ],
             [
              0.7777777777777778,
              "#fb9f3a"
             ],
             [
              0.8888888888888888,
              "#fdca26"
             ],
             [
              1,
              "#f0f921"
             ]
            ],
            "type": "contour"
           }
          ],
          "contourcarpet": [
           {
            "colorbar": {
             "outlinewidth": 0,
             "ticks": ""
            },
            "type": "contourcarpet"
           }
          ],
          "heatmap": [
           {
            "colorbar": {
             "outlinewidth": 0,
             "ticks": ""
            },
            "colorscale": [
             [
              0,
              "#0d0887"
             ],
             [
              0.1111111111111111,
              "#46039f"
             ],
             [
              0.2222222222222222,
              "#7201a8"
             ],
             [
              0.3333333333333333,
              "#9c179e"
             ],
             [
              0.4444444444444444,
              "#bd3786"
             ],
             [
              0.5555555555555556,
              "#d8576b"
             ],
             [
              0.6666666666666666,
              "#ed7953"
             ],
             [
              0.7777777777777778,
              "#fb9f3a"
             ],
             [
              0.8888888888888888,
              "#fdca26"
             ],
             [
              1,
              "#f0f921"
             ]
            ],
            "type": "heatmap"
           }
          ],
          "heatmapgl": [
           {
            "colorbar": {
             "outlinewidth": 0,
             "ticks": ""
            },
            "colorscale": [
             [
              0,
              "#0d0887"
             ],
             [
              0.1111111111111111,
              "#46039f"
             ],
             [
              0.2222222222222222,
              "#7201a8"
             ],
             [
              0.3333333333333333,
              "#9c179e"
             ],
             [
              0.4444444444444444,
              "#bd3786"
             ],
             [
              0.5555555555555556,
              "#d8576b"
             ],
             [
              0.6666666666666666,
              "#ed7953"
             ],
             [
              0.7777777777777778,
              "#fb9f3a"
             ],
             [
              0.8888888888888888,
              "#fdca26"
             ],
             [
              1,
              "#f0f921"
             ]
            ],
            "type": "heatmapgl"
           }
          ],
          "histogram": [
           {
            "marker": {
             "colorbar": {
              "outlinewidth": 0,
              "ticks": ""
             }
            },
            "type": "histogram"
           }
          ],
          "histogram2d": [
           {
            "colorbar": {
             "outlinewidth": 0,
             "ticks": ""
            },
            "colorscale": [
             [
              0,
              "#0d0887"
             ],
             [
              0.1111111111111111,
              "#46039f"
             ],
             [
              0.2222222222222222,
              "#7201a8"
             ],
             [
              0.3333333333333333,
              "#9c179e"
             ],
             [
              0.4444444444444444,
              "#bd3786"
             ],
             [
              0.5555555555555556,
              "#d8576b"
             ],
             [
              0.6666666666666666,
              "#ed7953"
             ],
             [
              0.7777777777777778,
              "#fb9f3a"
             ],
             [
              0.8888888888888888,
              "#fdca26"
             ],
             [
              1,
              "#f0f921"
             ]
            ],
            "type": "histogram2d"
           }
          ],
          "histogram2dcontour": [
           {
            "colorbar": {
             "outlinewidth": 0,
             "ticks": ""
            },
            "colorscale": [
             [
              0,
              "#0d0887"
             ],
             [
              0.1111111111111111,
              "#46039f"
             ],
             [
              0.2222222222222222,
              "#7201a8"
             ],
             [
              0.3333333333333333,
              "#9c179e"
             ],
             [
              0.4444444444444444,
              "#bd3786"
             ],
             [
              0.5555555555555556,
              "#d8576b"
             ],
             [
              0.6666666666666666,
              "#ed7953"
             ],
             [
              0.7777777777777778,
              "#fb9f3a"
             ],
             [
              0.8888888888888888,
              "#fdca26"
             ],
             [
              1,
              "#f0f921"
             ]
            ],
            "type": "histogram2dcontour"
           }
          ],
          "mesh3d": [
           {
            "colorbar": {
             "outlinewidth": 0,
             "ticks": ""
            },
            "type": "mesh3d"
           }
          ],
          "parcoords": [
           {
            "line": {
             "colorbar": {
              "outlinewidth": 0,
              "ticks": ""
             }
            },
            "type": "parcoords"
           }
          ],
          "pie": [
           {
            "automargin": true,
            "type": "pie"
           }
          ],
          "scatter": [
           {
            "marker": {
             "colorbar": {
              "outlinewidth": 0,
              "ticks": ""
             }
            },
            "type": "scatter"
           }
          ],
          "scatter3d": [
           {
            "line": {
             "colorbar": {
              "outlinewidth": 0,
              "ticks": ""
             }
            },
            "marker": {
             "colorbar": {
              "outlinewidth": 0,
              "ticks": ""
             }
            },
            "type": "scatter3d"
           }
          ],
          "scattercarpet": [
           {
            "marker": {
             "colorbar": {
              "outlinewidth": 0,
              "ticks": ""
             }
            },
            "type": "scattercarpet"
           }
          ],
          "scattergeo": [
           {
            "marker": {
             "colorbar": {
              "outlinewidth": 0,
              "ticks": ""
             }
            },
            "type": "scattergeo"
           }
          ],
          "scattergl": [
           {
            "marker": {
             "colorbar": {
              "outlinewidth": 0,
              "ticks": ""
             }
            },
            "type": "scattergl"
           }
          ],
          "scattermapbox": [
           {
            "marker": {
             "colorbar": {
              "outlinewidth": 0,
              "ticks": ""
             }
            },
            "type": "scattermapbox"
           }
          ],
          "scatterpolar": [
           {
            "marker": {
             "colorbar": {
              "outlinewidth": 0,
              "ticks": ""
             }
            },
            "type": "scatterpolar"
           }
          ],
          "scatterpolargl": [
           {
            "marker": {
             "colorbar": {
              "outlinewidth": 0,
              "ticks": ""
             }
            },
            "type": "scatterpolargl"
           }
          ],
          "scatterternary": [
           {
            "marker": {
             "colorbar": {
              "outlinewidth": 0,
              "ticks": ""
             }
            },
            "type": "scatterternary"
           }
          ],
          "surface": [
           {
            "colorbar": {
             "outlinewidth": 0,
             "ticks": ""
            },
            "colorscale": [
             [
              0,
              "#0d0887"
             ],
             [
              0.1111111111111111,
              "#46039f"
             ],
             [
              0.2222222222222222,
              "#7201a8"
             ],
             [
              0.3333333333333333,
              "#9c179e"
             ],
             [
              0.4444444444444444,
              "#bd3786"
             ],
             [
              0.5555555555555556,
              "#d8576b"
             ],
             [
              0.6666666666666666,
              "#ed7953"
             ],
             [
              0.7777777777777778,
              "#fb9f3a"
             ],
             [
              0.8888888888888888,
              "#fdca26"
             ],
             [
              1,
              "#f0f921"
             ]
            ],
            "type": "surface"
           }
          ],
          "table": [
           {
            "cells": {
             "fill": {
              "color": "#EBF0F8"
             },
             "line": {
              "color": "white"
             }
            },
            "header": {
             "fill": {
              "color": "#C8D4E3"
             },
             "line": {
              "color": "white"
             }
            },
            "type": "table"
           }
          ]
         },
         "layout": {
          "annotationdefaults": {
           "arrowcolor": "#2a3f5f",
           "arrowhead": 0,
           "arrowwidth": 1
          },
          "coloraxis": {
           "colorbar": {
            "outlinewidth": 0,
            "ticks": ""
           }
          },
          "colorscale": {
           "diverging": [
            [
             0,
             "#8e0152"
            ],
            [
             0.1,
             "#c51b7d"
            ],
            [
             0.2,
             "#de77ae"
            ],
            [
             0.3,
             "#f1b6da"
            ],
            [
             0.4,
             "#fde0ef"
            ],
            [
             0.5,
             "#f7f7f7"
            ],
            [
             0.6,
             "#e6f5d0"
            ],
            [
             0.7,
             "#b8e186"
            ],
            [
             0.8,
             "#7fbc41"
            ],
            [
             0.9,
             "#4d9221"
            ],
            [
             1,
             "#276419"
            ]
           ],
           "sequential": [
            [
             0,
             "#0d0887"
            ],
            [
             0.1111111111111111,
             "#46039f"
            ],
            [
             0.2222222222222222,
             "#7201a8"
            ],
            [
             0.3333333333333333,
             "#9c179e"
            ],
            [
             0.4444444444444444,
             "#bd3786"
            ],
            [
             0.5555555555555556,
             "#d8576b"
            ],
            [
             0.6666666666666666,
             "#ed7953"
            ],
            [
             0.7777777777777778,
             "#fb9f3a"
            ],
            [
             0.8888888888888888,
             "#fdca26"
            ],
            [
             1,
             "#f0f921"
            ]
           ],
           "sequentialminus": [
            [
             0,
             "#0d0887"
            ],
            [
             0.1111111111111111,
             "#46039f"
            ],
            [
             0.2222222222222222,
             "#7201a8"
            ],
            [
             0.3333333333333333,
             "#9c179e"
            ],
            [
             0.4444444444444444,
             "#bd3786"
            ],
            [
             0.5555555555555556,
             "#d8576b"
            ],
            [
             0.6666666666666666,
             "#ed7953"
            ],
            [
             0.7777777777777778,
             "#fb9f3a"
            ],
            [
             0.8888888888888888,
             "#fdca26"
            ],
            [
             1,
             "#f0f921"
            ]
           ]
          },
          "colorway": [
           "#636efa",
           "#EF553B",
           "#00cc96",
           "#ab63fa",
           "#FFA15A",
           "#19d3f3",
           "#FF6692",
           "#B6E880",
           "#FF97FF",
           "#FECB52"
          ],
          "font": {
           "color": "#2a3f5f"
          },
          "geo": {
           "bgcolor": "white",
           "lakecolor": "white",
           "landcolor": "#E5ECF6",
           "showlakes": true,
           "showland": true,
           "subunitcolor": "white"
          },
          "hoverlabel": {
           "align": "left"
          },
          "hovermode": "closest",
          "mapbox": {
           "style": "light"
          },
          "paper_bgcolor": "white",
          "plot_bgcolor": "#E5ECF6",
          "polar": {
           "angularaxis": {
            "gridcolor": "white",
            "linecolor": "white",
            "ticks": ""
           },
           "bgcolor": "#E5ECF6",
           "radialaxis": {
            "gridcolor": "white",
            "linecolor": "white",
            "ticks": ""
           }
          },
          "scene": {
           "xaxis": {
            "backgroundcolor": "#E5ECF6",
            "gridcolor": "white",
            "gridwidth": 2,
            "linecolor": "white",
            "showbackground": true,
            "ticks": "",
            "zerolinecolor": "white"
           },
           "yaxis": {
            "backgroundcolor": "#E5ECF6",
            "gridcolor": "white",
            "gridwidth": 2,
            "linecolor": "white",
            "showbackground": true,
            "ticks": "",
            "zerolinecolor": "white"
           },
           "zaxis": {
            "backgroundcolor": "#E5ECF6",
            "gridcolor": "white",
            "gridwidth": 2,
            "linecolor": "white",
            "showbackground": true,
            "ticks": "",
            "zerolinecolor": "white"
           }
          },
          "shapedefaults": {
           "line": {
            "color": "#2a3f5f"
           }
          },
          "ternary": {
           "aaxis": {
            "gridcolor": "white",
            "linecolor": "white",
            "ticks": ""
           },
           "baxis": {
            "gridcolor": "white",
            "linecolor": "white",
            "ticks": ""
           },
           "bgcolor": "#E5ECF6",
           "caxis": {
            "gridcolor": "white",
            "linecolor": "white",
            "ticks": ""
           }
          },
          "title": {
           "x": 0.05
          },
          "xaxis": {
           "automargin": true,
           "gridcolor": "white",
           "linecolor": "white",
           "ticks": "",
           "title": {
            "standoff": 15
           },
           "zerolinecolor": "white",
           "zerolinewidth": 2
          },
          "yaxis": {
           "automargin": true,
           "gridcolor": "white",
           "linecolor": "white",
           "ticks": "",
           "title": {
            "standoff": 15
           },
           "zerolinecolor": "white",
           "zerolinewidth": 2
          }
         }
        },
        "xaxis": {
         "anchor": "y",
         "domain": [
          0,
          1
         ],
         "title": {
          "text": "val"
         }
        },
        "yaxis": {
         "anchor": "x",
         "categoryarray": [
          3,
          1,
          0,
          2
         ],
         "categoryorder": "array",
         "domain": [
          0,
          1
         ],
         "title": {
          "text": "count of cluster"
         }
        }
       }
      },
      "text/html": [
       "<div>\n",
       "        \n",
       "        \n",
       "            <div id=\"9750c4d4-fbcc-47e6-80a3-e2c5293c9c5d\" class=\"plotly-graph-div\" style=\"height:525px; width:100%;\"></div>\n",
       "            <script type=\"text/javascript\">\n",
       "                require([\"plotly\"], function(Plotly) {\n",
       "                    window.PLOTLYENV=window.PLOTLYENV || {};\n",
       "                    \n",
       "                if (document.getElementById(\"9750c4d4-fbcc-47e6-80a3-e2c5293c9c5d\")) {\n",
       "                    Plotly.newPlot(\n",
       "                        '9750c4d4-fbcc-47e6-80a3-e2c5293c9c5d',\n",
       "                        [{\"alignmentgroup\": \"True\", \"bingroup\": \"x\", \"hovertemplate\": \"cluster=2<br>val=%{x}<br>count of cluster=%{y}<extra></extra>\", \"legendgroup\": \"2\", \"marker\": {\"color\": \"purple\"}, \"name\": \"2\", \"offsetgroup\": \"2\", \"orientation\": \"v\", \"showlegend\": true, \"type\": \"histogram\", \"x\": [28.33814194955305, 99.66631289950611, 76.23124787140489, 92.6570984507318, 52.23603689373846, 34.879913204509585, 93.59937405720459, 5.322945907809107, 79.96968981467185, 13.31490237165054, 24.650621858821154, 82.01931223242156, 46.48500012151964, 31.044391013447548, 19.114400518561027, 62.0468621288327, 46.34138395315568, 39.67397298040862, 97.61428333183007, 8.22021181937952, 53.16990072888469, 76.08287139802714, 33.50763501008714, 67.95350387428486, 8.642061604552985, 30.13866611720042], \"xaxis\": \"x\", \"y\": [2, 2, 2, 2, 2, 2, 2, 2, 2, 2, 2, 2, 2, 2, 2, 2, 2, 2, 2, 2, 2, 2, 2, 2, 2, 2], \"yaxis\": \"y\"}, {\"alignmentgroup\": \"True\", \"bingroup\": \"x\", \"hovertemplate\": \"cluster=0<br>val=%{x}<br>count of cluster=%{y}<extra></extra>\", \"legendgroup\": \"0\", \"marker\": {\"color\": \"red\"}, \"name\": \"0\", \"offsetgroup\": \"0\", \"orientation\": \"v\", \"showlegend\": true, \"type\": \"histogram\", \"x\": [64.9878045009904, 27.41790985082816, 2.712304444424296, 73.34943326262486, 92.36823013569565, 47.19352766365322, 1.6820690285825113, 76.80610954839679, 47.79365379449667, 30.687982253589063, 23.679335222460562, 73.4447980992878, 30.970627843862175, 57.14664329093748, 53.866940190632405, 93.19454418235993, 41.30702182111868, 67.54245980092196, 40.811286737977525, 0.18319243399974594, 59.3074377271663, 69.50102886218575, 9.267973527479768, 40.70828308829937, 54.02602023936511, 27.061136137938245, 65.92732483986666, 89.38460255392864, 71.43625509863136, 19.703427910161576, 80.60081719984863, 80.64012814825445, 7.4381120994498335], \"xaxis\": \"x\", \"y\": [0, 0, 0, 0, 0, 0, 0, 0, 0, 0, 0, 0, 0, 0, 0, 0, 0, 0, 0, 0, 0, 0, 0, 0, 0, 0, 0, 0, 0, 0, 0, 0, 0], \"yaxis\": \"y\"}, {\"alignmentgroup\": \"True\", \"bingroup\": \"x\", \"hovertemplate\": \"cluster=1<br>val=%{x}<br>count of cluster=%{y}<extra></extra>\", \"legendgroup\": \"1\", \"marker\": {\"color\": \"blue\"}, \"name\": \"1\", \"offsetgroup\": \"1\", \"orientation\": \"v\", \"showlegend\": true, \"type\": \"histogram\", \"x\": [31.37378992680624, 58.37229427478269, 55.990536209077455, 38.91322575404141, 16.785659313773305, 92.02982015539602, 38.58566560148417, 80.54814183736372, 79.25162965471523, 81.70353759859502, 67.99834068888886, 69.9215738200189, 12.11258475947724, 23.240213519704, 72.33809042340825, 79.90066064045706, 2.9218244334562327, 29.086279765350298, 96.54492551412197, 60.75612760610043, 58.12998494502985, 24.567954042465523, 50.158586726745455, 58.41500801193982], \"xaxis\": \"x\", \"y\": [1, 1, 1, 1, 1, 1, 1, 1, 1, 1, 1, 1, 1, 1, 1, 1, 1, 1, 1, 1, 1, 1, 1, 1], \"yaxis\": \"y\"}, {\"alignmentgroup\": \"True\", \"bingroup\": \"x\", \"hovertemplate\": \"cluster=3<br>val=%{x}<br>count of cluster=%{y}<extra></extra>\", \"legendgroup\": \"3\", \"marker\": {\"color\": \"green\"}, \"name\": \"3\", \"offsetgroup\": \"3\", \"orientation\": \"v\", \"showlegend\": true, \"type\": \"histogram\", \"x\": [88.81105806717639, 0.5542348872343505, 66.36754089678578, 46.40459293127108, 92.10287025019294, 33.08198753240292, 90.5603706518138, 63.82189237810103, 64.14830806380277, 58.57055342670384, 56.31795130866486, 42.63527660885506, 13.361884458036311, 63.70724709031514, 54.01722098007377, 65.21321795326821, 50.62754983229294], \"xaxis\": \"x\", \"y\": [3, 3, 3, 3, 3, 3, 3, 3, 3, 3, 3, 3, 3, 3, 3, 3, 3], \"yaxis\": \"y\"}],\n",
       "                        {\"barmode\": \"relative\", \"legend\": {\"title\": {\"text\": \"cluster\"}, \"tracegroupgap\": 0}, \"margin\": {\"t\": 60}, \"template\": {\"data\": {\"bar\": [{\"error_x\": {\"color\": \"#2a3f5f\"}, \"error_y\": {\"color\": \"#2a3f5f\"}, \"marker\": {\"line\": {\"color\": \"#E5ECF6\", \"width\": 0.5}}, \"type\": \"bar\"}], \"barpolar\": [{\"marker\": {\"line\": {\"color\": \"#E5ECF6\", \"width\": 0.5}}, \"type\": \"barpolar\"}], \"carpet\": [{\"aaxis\": {\"endlinecolor\": \"#2a3f5f\", \"gridcolor\": \"white\", \"linecolor\": \"white\", \"minorgridcolor\": \"white\", \"startlinecolor\": \"#2a3f5f\"}, \"baxis\": {\"endlinecolor\": \"#2a3f5f\", \"gridcolor\": \"white\", \"linecolor\": \"white\", \"minorgridcolor\": \"white\", \"startlinecolor\": \"#2a3f5f\"}, \"type\": \"carpet\"}], \"choropleth\": [{\"colorbar\": {\"outlinewidth\": 0, \"ticks\": \"\"}, \"type\": \"choropleth\"}], \"contour\": [{\"colorbar\": {\"outlinewidth\": 0, \"ticks\": \"\"}, \"colorscale\": [[0.0, \"#0d0887\"], [0.1111111111111111, \"#46039f\"], [0.2222222222222222, \"#7201a8\"], [0.3333333333333333, \"#9c179e\"], [0.4444444444444444, \"#bd3786\"], [0.5555555555555556, \"#d8576b\"], [0.6666666666666666, \"#ed7953\"], [0.7777777777777778, \"#fb9f3a\"], [0.8888888888888888, \"#fdca26\"], [1.0, \"#f0f921\"]], \"type\": \"contour\"}], \"contourcarpet\": [{\"colorbar\": {\"outlinewidth\": 0, \"ticks\": \"\"}, \"type\": \"contourcarpet\"}], \"heatmap\": [{\"colorbar\": {\"outlinewidth\": 0, \"ticks\": \"\"}, \"colorscale\": [[0.0, \"#0d0887\"], [0.1111111111111111, \"#46039f\"], [0.2222222222222222, \"#7201a8\"], [0.3333333333333333, \"#9c179e\"], [0.4444444444444444, \"#bd3786\"], [0.5555555555555556, \"#d8576b\"], [0.6666666666666666, \"#ed7953\"], [0.7777777777777778, \"#fb9f3a\"], [0.8888888888888888, \"#fdca26\"], [1.0, \"#f0f921\"]], \"type\": \"heatmap\"}], \"heatmapgl\": [{\"colorbar\": {\"outlinewidth\": 0, \"ticks\": \"\"}, \"colorscale\": [[0.0, \"#0d0887\"], [0.1111111111111111, \"#46039f\"], [0.2222222222222222, \"#7201a8\"], [0.3333333333333333, \"#9c179e\"], [0.4444444444444444, \"#bd3786\"], [0.5555555555555556, \"#d8576b\"], [0.6666666666666666, \"#ed7953\"], [0.7777777777777778, \"#fb9f3a\"], [0.8888888888888888, \"#fdca26\"], [1.0, \"#f0f921\"]], \"type\": \"heatmapgl\"}], \"histogram\": [{\"marker\": {\"colorbar\": {\"outlinewidth\": 0, \"ticks\": \"\"}}, \"type\": \"histogram\"}], \"histogram2d\": [{\"colorbar\": {\"outlinewidth\": 0, \"ticks\": \"\"}, \"colorscale\": [[0.0, \"#0d0887\"], [0.1111111111111111, \"#46039f\"], [0.2222222222222222, \"#7201a8\"], [0.3333333333333333, \"#9c179e\"], [0.4444444444444444, \"#bd3786\"], [0.5555555555555556, \"#d8576b\"], [0.6666666666666666, \"#ed7953\"], [0.7777777777777778, \"#fb9f3a\"], [0.8888888888888888, \"#fdca26\"], [1.0, \"#f0f921\"]], \"type\": \"histogram2d\"}], \"histogram2dcontour\": [{\"colorbar\": {\"outlinewidth\": 0, \"ticks\": \"\"}, \"colorscale\": [[0.0, \"#0d0887\"], [0.1111111111111111, \"#46039f\"], [0.2222222222222222, \"#7201a8\"], [0.3333333333333333, \"#9c179e\"], [0.4444444444444444, \"#bd3786\"], [0.5555555555555556, \"#d8576b\"], [0.6666666666666666, \"#ed7953\"], [0.7777777777777778, \"#fb9f3a\"], [0.8888888888888888, \"#fdca26\"], [1.0, \"#f0f921\"]], \"type\": \"histogram2dcontour\"}], \"mesh3d\": [{\"colorbar\": {\"outlinewidth\": 0, \"ticks\": \"\"}, \"type\": \"mesh3d\"}], \"parcoords\": [{\"line\": {\"colorbar\": {\"outlinewidth\": 0, \"ticks\": \"\"}}, \"type\": \"parcoords\"}], \"pie\": [{\"automargin\": true, \"type\": \"pie\"}], \"scatter\": [{\"marker\": {\"colorbar\": {\"outlinewidth\": 0, \"ticks\": \"\"}}, \"type\": \"scatter\"}], \"scatter3d\": [{\"line\": {\"colorbar\": {\"outlinewidth\": 0, \"ticks\": \"\"}}, \"marker\": {\"colorbar\": {\"outlinewidth\": 0, \"ticks\": \"\"}}, \"type\": \"scatter3d\"}], \"scattercarpet\": [{\"marker\": {\"colorbar\": {\"outlinewidth\": 0, \"ticks\": \"\"}}, \"type\": \"scattercarpet\"}], \"scattergeo\": [{\"marker\": {\"colorbar\": {\"outlinewidth\": 0, \"ticks\": \"\"}}, \"type\": \"scattergeo\"}], \"scattergl\": [{\"marker\": {\"colorbar\": {\"outlinewidth\": 0, \"ticks\": \"\"}}, \"type\": \"scattergl\"}], \"scattermapbox\": [{\"marker\": {\"colorbar\": {\"outlinewidth\": 0, \"ticks\": \"\"}}, \"type\": \"scattermapbox\"}], \"scatterpolar\": [{\"marker\": {\"colorbar\": {\"outlinewidth\": 0, \"ticks\": \"\"}}, \"type\": \"scatterpolar\"}], \"scatterpolargl\": [{\"marker\": {\"colorbar\": {\"outlinewidth\": 0, \"ticks\": \"\"}}, \"type\": \"scatterpolargl\"}], \"scatterternary\": [{\"marker\": {\"colorbar\": {\"outlinewidth\": 0, \"ticks\": \"\"}}, \"type\": \"scatterternary\"}], \"surface\": [{\"colorbar\": {\"outlinewidth\": 0, \"ticks\": \"\"}, \"colorscale\": [[0.0, \"#0d0887\"], [0.1111111111111111, \"#46039f\"], [0.2222222222222222, \"#7201a8\"], [0.3333333333333333, \"#9c179e\"], [0.4444444444444444, \"#bd3786\"], [0.5555555555555556, \"#d8576b\"], [0.6666666666666666, \"#ed7953\"], [0.7777777777777778, \"#fb9f3a\"], [0.8888888888888888, \"#fdca26\"], [1.0, \"#f0f921\"]], \"type\": \"surface\"}], \"table\": [{\"cells\": {\"fill\": {\"color\": \"#EBF0F8\"}, \"line\": {\"color\": \"white\"}}, \"header\": {\"fill\": {\"color\": \"#C8D4E3\"}, \"line\": {\"color\": \"white\"}}, \"type\": \"table\"}]}, \"layout\": {\"annotationdefaults\": {\"arrowcolor\": \"#2a3f5f\", \"arrowhead\": 0, \"arrowwidth\": 1}, \"coloraxis\": {\"colorbar\": {\"outlinewidth\": 0, \"ticks\": \"\"}}, \"colorscale\": {\"diverging\": [[0, \"#8e0152\"], [0.1, \"#c51b7d\"], [0.2, \"#de77ae\"], [0.3, \"#f1b6da\"], [0.4, \"#fde0ef\"], [0.5, \"#f7f7f7\"], [0.6, \"#e6f5d0\"], [0.7, \"#b8e186\"], [0.8, \"#7fbc41\"], [0.9, \"#4d9221\"], [1, \"#276419\"]], \"sequential\": [[0.0, \"#0d0887\"], [0.1111111111111111, \"#46039f\"], [0.2222222222222222, \"#7201a8\"], [0.3333333333333333, \"#9c179e\"], [0.4444444444444444, \"#bd3786\"], [0.5555555555555556, \"#d8576b\"], [0.6666666666666666, \"#ed7953\"], [0.7777777777777778, \"#fb9f3a\"], [0.8888888888888888, \"#fdca26\"], [1.0, \"#f0f921\"]], \"sequentialminus\": [[0.0, \"#0d0887\"], [0.1111111111111111, \"#46039f\"], [0.2222222222222222, \"#7201a8\"], [0.3333333333333333, \"#9c179e\"], [0.4444444444444444, \"#bd3786\"], [0.5555555555555556, \"#d8576b\"], [0.6666666666666666, \"#ed7953\"], [0.7777777777777778, \"#fb9f3a\"], [0.8888888888888888, \"#fdca26\"], [1.0, \"#f0f921\"]]}, \"colorway\": [\"#636efa\", \"#EF553B\", \"#00cc96\", \"#ab63fa\", \"#FFA15A\", \"#19d3f3\", \"#FF6692\", \"#B6E880\", \"#FF97FF\", \"#FECB52\"], \"font\": {\"color\": \"#2a3f5f\"}, \"geo\": {\"bgcolor\": \"white\", \"lakecolor\": \"white\", \"landcolor\": \"#E5ECF6\", \"showlakes\": true, \"showland\": true, \"subunitcolor\": \"white\"}, \"hoverlabel\": {\"align\": \"left\"}, \"hovermode\": \"closest\", \"mapbox\": {\"style\": \"light\"}, \"paper_bgcolor\": \"white\", \"plot_bgcolor\": \"#E5ECF6\", \"polar\": {\"angularaxis\": {\"gridcolor\": \"white\", \"linecolor\": \"white\", \"ticks\": \"\"}, \"bgcolor\": \"#E5ECF6\", \"radialaxis\": {\"gridcolor\": \"white\", \"linecolor\": \"white\", \"ticks\": \"\"}}, \"scene\": {\"xaxis\": {\"backgroundcolor\": \"#E5ECF6\", \"gridcolor\": \"white\", \"gridwidth\": 2, \"linecolor\": \"white\", \"showbackground\": true, \"ticks\": \"\", \"zerolinecolor\": \"white\"}, \"yaxis\": {\"backgroundcolor\": \"#E5ECF6\", \"gridcolor\": \"white\", \"gridwidth\": 2, \"linecolor\": \"white\", \"showbackground\": true, \"ticks\": \"\", \"zerolinecolor\": \"white\"}, \"zaxis\": {\"backgroundcolor\": \"#E5ECF6\", \"gridcolor\": \"white\", \"gridwidth\": 2, \"linecolor\": \"white\", \"showbackground\": true, \"ticks\": \"\", \"zerolinecolor\": \"white\"}}, \"shapedefaults\": {\"line\": {\"color\": \"#2a3f5f\"}}, \"ternary\": {\"aaxis\": {\"gridcolor\": \"white\", \"linecolor\": \"white\", \"ticks\": \"\"}, \"baxis\": {\"gridcolor\": \"white\", \"linecolor\": \"white\", \"ticks\": \"\"}, \"bgcolor\": \"#E5ECF6\", \"caxis\": {\"gridcolor\": \"white\", \"linecolor\": \"white\", \"ticks\": \"\"}}, \"title\": {\"x\": 0.05}, \"xaxis\": {\"automargin\": true, \"gridcolor\": \"white\", \"linecolor\": \"white\", \"ticks\": \"\", \"title\": {\"standoff\": 15}, \"zerolinecolor\": \"white\", \"zerolinewidth\": 2}, \"yaxis\": {\"automargin\": true, \"gridcolor\": \"white\", \"linecolor\": \"white\", \"ticks\": \"\", \"title\": {\"standoff\": 15}, \"zerolinecolor\": \"white\", \"zerolinewidth\": 2}}}, \"xaxis\": {\"anchor\": \"y\", \"domain\": [0.0, 1.0], \"title\": {\"text\": \"val\"}}, \"yaxis\": {\"anchor\": \"x\", \"categoryarray\": [3, 1, 0, 2], \"categoryorder\": \"array\", \"domain\": [0.0, 1.0], \"title\": {\"text\": \"count of cluster\"}}},\n",
       "                        {\"responsive\": true}\n",
       "                    ).then(function(){\n",
       "                            \n",
       "var gd = document.getElementById('9750c4d4-fbcc-47e6-80a3-e2c5293c9c5d');\n",
       "var x = new MutationObserver(function (mutations, observer) {{\n",
       "        var display = window.getComputedStyle(gd).display;\n",
       "        if (!display || display === 'none') {{\n",
       "            console.log([gd, 'removed!']);\n",
       "            Plotly.purge(gd);\n",
       "            observer.disconnect();\n",
       "        }}\n",
       "}});\n",
       "\n",
       "// Listen for the removal of the full notebook cells\n",
       "var notebookContainer = gd.closest('#notebook-container');\n",
       "if (notebookContainer) {{\n",
       "    x.observe(notebookContainer, {childList: true});\n",
       "}}\n",
       "\n",
       "// Listen for the clearing of the current output cell\n",
       "var outputEl = gd.closest('.output');\n",
       "if (outputEl) {{\n",
       "    x.observe(outputEl, {childList: true});\n",
       "}}\n",
       "\n",
       "                        })\n",
       "                };\n",
       "                });\n",
       "            </script>\n",
       "        </div>"
      ]
     },
     "metadata": {},
     "output_type": "display_data"
    }
   ],
   "source": [
    "import pandas as pd \n",
    "import random\n",
    "df = pd.DataFrame([[random.random()*100,random.randint(0,3)]for i in range (100)],columns = ['val','cluster'])\n",
    "fig = px.histogram(df, x=\"val\",y='cluster',\n",
    "                   color = 'cluster',\n",
    "                    color_discrete_map = {0:'red',1:'blue',2:'purple',3:'green'}\n",
    "                  )\n",
    "fig"
   ]
  },
  {
   "cell_type": "code",
   "execution_count": 152,
   "metadata": {},
   "outputs": [
    {
     "data": {
      "text/plain": [
       "array([1.83333333, 2.33333333, 1.        , 0.        ])"
      ]
     },
     "execution_count": 152,
     "metadata": {},
     "output_type": "execute_result"
    }
   ],
   "source": [
    "import numpy as np\n",
    "a = np.array([\n",
    " [3, 1, 2, 0],\n",
    " [1, 3, 0, 0],\n",
    " [1, 0, 0, 0],\n",
    " [0, 0, 0, 0]\n",
    "])\n",
    "weights = np.array([1,2,3,4])\n",
    "#create an mask where element is 0\n",
    "ma = np.ma.masked_equal(a,0)\n",
    "#take masked weighted average\n",
    "ans = np.ma.average(ma, weights=weights,axis = 1)\n",
    "#fill masked points as 0\n",
    "ans.filled(0)"
   ]
  },
  {
   "cell_type": "code",
   "execution_count": 139,
   "metadata": {},
   "outputs": [],
   "source": [
    "ar = [[3, 1, 2, 0],\n",
    " [1, 3, 0, 0],\n",
    " [1, 0, 0, 0],\n",
    " [0, 0, 0, 0]]\n",
    "weight = [1,2,3,4]"
   ]
  },
  {
   "cell_type": "code",
   "execution_count": 162,
   "metadata": {},
   "outputs": [
    {
     "data": {
      "text/plain": [
       "[1.8333333333333333, 2.3333333333333335, 1.0, 0]"
      ]
     },
     "execution_count": 162,
     "metadata": {},
     "output_type": "execute_result"
    }
   ],
   "source": [
    "ar = [[3, 1, 2, 0],\n",
    " [1, 3, 0, 0],\n",
    " [1, 0, 0, 0],\n",
    " [0, 0, 0, 0]]\n",
    "weight = [1,2,3,4]\n",
    "\n",
    "ans=[]\n",
    "for li in ar:\n",
    "    wa = 0 #weighted average\n",
    "    we = 0 #weights\n",
    "    for index,ele in enumerate(li): \n",
    "        if ele !=0:\n",
    "            wa+=weight[index]*ele\n",
    "            we+=weight[index]\n",
    "    if we!=0:\n",
    "        ans.append(wa/we)\n",
    "    else:\n",
    "        ans.append(0)\n",
    "ans"
   ]
  },
  {
   "cell_type": "code",
   "execution_count": 172,
   "metadata": {},
   "outputs": [
    {
     "data": {
      "text/plain": [
       "[(3, 1), (2, 2), (6, 3), (1, 1), (6, 2), (1, 1)]"
      ]
     },
     "execution_count": 172,
     "metadata": {},
     "output_type": "execute_result"
    }
   ],
   "source": [
    "ar = [[3, 1, 2, 0],\n",
    " [1, 3, 0, 0],\n",
    " [1, 0, 0, 0],\n",
    " [0, 0, 0, 0]]\n",
    "weight = [1,2,3,4]\n",
    "\n",
    "[(weight[index]*ele,weight[index] )  for li in ar for index,ele in enumerate(li) if ele!= 0]"
   ]
  },
  {
   "cell_type": "code",
   "execution_count": 149,
   "metadata": {},
   "outputs": [
    {
     "data": {
      "text/plain": [
       "[2.0, 4.5, nan, 0.0]"
      ]
     },
     "execution_count": 149,
     "metadata": {},
     "output_type": "execute_result"
    }
   ],
   "source": [
    "data = np.array([[1,2,3], [4,5,np.NaN], [np.NaN,np.NaN,np.NaN], [0,0,0]])\n",
    "masked_data = np.ma.masked_array(data, np.isnan(data))\n",
    "# calculate your weighted average here instead\n",
    "weights = [1, 1, 1]\n",
    "average = np.ma.average(masked_data, axis=1, weights=weights)\n",
    "# this gives you the result\n",
    "result = average.filled(np.nan)\n",
    "list(result)"
   ]
  },
  {
   "cell_type": "code",
   "execution_count": 189,
   "metadata": {},
   "outputs": [
    {
     "name": "stdout",
     "output_type": "stream",
     "text": [
      "What is your username?april\n",
      "What is the password?1234\n",
      "User Authenticated\n",
      "aaa bbb fff a\n",
      "Guess the song!as\n",
      "aaa bbb fff a\n",
      "Guess the song!d\n",
      "Your score is 0\n",
      "Nice Work!\n"
     ]
    }
   ],
   "source": [
    "username = input(\"What is your username?\")\n",
    "# this will ask for the persons name\n",
    "password = str(input(\"What is the password?\"))\n",
    "\n",
    "# this will ask for a password which has been set already\n",
    "if password == \"1234\":\n",
    "    print(\"User Authenticated\")\n",
    "\n",
    "# if the password is incorrect, tell the user so and exit\n",
    "elif password != \"1234\":\n",
    "    print(\"Password Denied\")\n",
    "    exit()\n",
    "\n",
    "# GAME\n",
    "# Creating a score variable\n",
    "score=0\n",
    "x = 0\n",
    "# Reading song names and artist from the file\n",
    "# read = open(\"songnames.txt\", \"r\")\n",
    "# songs = read.readlines()\n",
    "# songlist = []\n",
    "\n",
    "# # Removing the 'new line' code\n",
    "# for i in range(len(songs)):\n",
    "#     songlist.append(songs[i].strip('\\n'))\n",
    "\n",
    "songlist = ['aaa bbb ccc-abc','aaa bbb ccc-abc','aaa ddd ff-adf','aaaeee ee-ae','aaa fff ccc-afc','aaa bbb fff-abf']\n",
    "while x == 0:\n",
    "    # Randomly choosing a song and artist from the list\n",
    "    import random\n",
    "    choice = random.choice(songlist)\n",
    "    artist, song = choice.split('-')\n",
    "\n",
    "    # Splitting the song into the first letters of each word\n",
    "    songs = song.split()\n",
    "    letters = [word[0] for word in songs]\n",
    "\n",
    "    # Loop for guessing the answer\n",
    "    for x in range(0, 2):\n",
    "        print(artist, \"\".join(letters))\n",
    "        guess = str(input(\"Guess the song!\"))\n",
    "        if guess == song:\n",
    "            if x == 0:\n",
    "                score = score + 3\n",
    "                break\n",
    "            if x == 1:\n",
    "                score = score + 1\n",
    "                break\n",
    "            quit()\n",
    "\n",
    "    # Printing score, Then waiting to start loop again.\n",
    "    import time\n",
    "    print(\"Your score is\", score)\n",
    "    print(\"Nice Work!\")\n",
    "    time.sleep(3)\n",
    "\n",
    "leaderboard = open(\"leaderboard.txt\", \"a+\")\n",
    "leaderboard.write(username + '-' + '{}'.format(score)+\"\\n\")\n",
    "leaderboard.close()\n",
    "leaderboard = open(\"leaderboard.txt\", \"r+\")\n",
    "leaderboardlist = leaderboard.readlines()\n",
    "for ele in leaderboardlist:\n",
    "    print(ele)\n",
    "leaderboard.close()"
   ]
  },
  {
   "cell_type": "code",
   "execution_count": 190,
   "metadata": {},
   "outputs": [],
   "source": []
  },
  {
   "cell_type": "code",
   "execution_count": 205,
   "metadata": {},
   "outputs": [],
   "source": []
  },
  {
   "cell_type": "code",
   "execution_count": 226,
   "metadata": {},
   "outputs": [
    {
     "data": {
      "text/plain": [
       "[['spacy-2.1.0-cp27-cp27mu-manylinux1_x86_64.whl', '26.39MB'],\n",
       " ['spacy-2.1.0-cp35-cp35m-manylinux1_x86_64.whl', '26.34MB'],\n",
       " ['spacy-2.1.0-cp35-cp35m-win_amd64.whl', '25.59MB'],\n",
       " ['spacy-2.1.0-cp36-cp36m-macosx_10_6_intel.macosx_10_9_intel.macosx_10_9_x86_64.macosx_10_10_intel.macosx_10_10_x86_64.whl',\n",
       "  '29.86MB'],\n",
       " ['spacy-2.1.0-cp36-cp36m-manylinux1_x86_64.whl', '26.41MB'],\n",
       " ['spacy-2.1.0-cp36-cp36m-win_amd64.whl', '25.66MB'],\n",
       " ['spacy-2.1.0-cp37-cp37m-macosx_10_6_intel.macosx_10_9_intel.macosx_10_9_x86_64.macosx_10_10_intel.macosx_10_10_x86_64.whl',\n",
       "  '29.64MB'],\n",
       " ['spacy-2.1.0-cp37-cp37m-manylinux1_x86_64.whl', '26.40MB'],\n",
       " ['spacy-2.1.0-cp37-cp37m-win_amd64.whl', '25.66MB'],\n",
       " ['spacy-2.1.0.tar.gz', '26.40MB']]"
      ]
     },
     "execution_count": 226,
     "metadata": {},
     "output_type": "execute_result"
    }
   ],
   "source": [
    "import requests\n",
    "package = 'spacy'\n",
    "version = '2.1.0'\n",
    "res = requests.get('https://pypi.org/pypi/'+package+'/json')\n",
    "[[ele['url'].split('/')[-1],'{:.02f}MB'.format(ele['size']/(1024*1024))] for ele in res.json()['releases'][version]]"
   ]
  },
  {
   "cell_type": "code",
   "execution_count": 224,
   "metadata": {},
   "outputs": [],
   "source": [
    "txt = '''the date is like Fri,28 Aug 2020 and then i have to trasnlate the day and month in my language all using regex. i have manage to get the date but i have problem change the date and month after i found it. do i have to use re.sub?\n",
    "'''\n",
    "import re\n",
    "\n",
    "tag_pattern =r'<''lastBuildDate'r'\\b[^>]*>(.*?)</''lastBuildDate'r'>'\n",
    "found = re.findall(tag_pattern, txt, re.I)\n",
    "found = list(set(found))\n",
    "for f in found :print('\\t\\t', f)"
   ]
  },
  {
   "cell_type": "code",
   "execution_count": 227,
   "metadata": {},
   "outputs": [],
   "source": [
    "from selenium import webdriver"
   ]
  },
  {
   "cell_type": "code",
   "execution_count": 231,
   "metadata": {},
   "outputs": [
    {
     "ename": "TypeError",
     "evalue": "'module' object is not callable",
     "output_type": "error",
     "traceback": [
      "\u001b[1;31m---------------------------------------------------------------------------\u001b[0m",
      "\u001b[1;31mTypeError\u001b[0m                                 Traceback (most recent call last)",
      "\u001b[1;32m<ipython-input-231-d2a3abf43f69>\u001b[0m in \u001b[0;36m<module>\u001b[1;34m\u001b[0m\n\u001b[1;32m----> 1\u001b[1;33m \u001b[0mdriver\u001b[0m \u001b[1;33m=\u001b[0m \u001b[0mwebdriver\u001b[0m\u001b[1;33m.\u001b[0m\u001b[0mchrome\u001b[0m\u001b[1;33m(\u001b[0m\u001b[1;33m)\u001b[0m\u001b[1;33m\u001b[0m\u001b[1;33m\u001b[0m\u001b[0m\n\u001b[0m",
      "\u001b[1;31mTypeError\u001b[0m: 'module' object is not callable"
     ]
    }
   ],
   "source": [
    "driver = webdriver.chrome(\"\")"
   ]
  },
  {
   "cell_type": "code",
   "execution_count": 230,
   "metadata": {},
   "outputs": [
    {
     "data": {
      "text/plain": [
       "<module 'selenium.webdriver.chrome' from 'c:\\\\program files (x86)\\\\python38-32\\\\lib\\\\site-packages\\\\selenium\\\\webdriver\\\\chrome\\\\__init__.py'>"
      ]
     },
     "execution_count": 230,
     "metadata": {},
     "output_type": "execute_result"
    }
   ],
   "source": [
    "driver"
   ]
  },
  {
   "cell_type": "code",
   "execution_count": null,
   "metadata": {},
   "outputs": [],
   "source": []
  }
 ],
 "metadata": {
  "kernelspec": {
   "display_name": "Python 3",
   "language": "python",
   "name": "python3"
  },
  "language_info": {
   "codemirror_mode": {
    "name": "ipython",
    "version": 3
   },
   "file_extension": ".py",
   "mimetype": "text/x-python",
   "name": "python",
   "nbconvert_exporter": "python",
   "pygments_lexer": "ipython3",
   "version": "3.8.2"
  }
 },
 "nbformat": 4,
 "nbformat_minor": 4
}
