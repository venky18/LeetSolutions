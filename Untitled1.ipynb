{
 "cells": [
  {
   "cell_type": "code",
   "execution_count": 6,
   "metadata": {},
   "outputs": [
    {
     "data": {
      "text/html": [
       "<div>\n",
       "<style scoped>\n",
       "    .dataframe tbody tr th:only-of-type {\n",
       "        vertical-align: middle;\n",
       "    }\n",
       "\n",
       "    .dataframe tbody tr th {\n",
       "        vertical-align: top;\n",
       "    }\n",
       "\n",
       "    .dataframe thead th {\n",
       "        text-align: right;\n",
       "    }\n",
       "</style>\n",
       "<table border=\"1\" class=\"dataframe\">\n",
       "  <thead>\n",
       "    <tr style=\"text-align: right;\">\n",
       "      <th></th>\n",
       "      <th>date</th>\n",
       "      <th>value</th>\n",
       "      <th>ID</th>\n",
       "      <th>xx</th>\n",
       "    </tr>\n",
       "  </thead>\n",
       "  <tbody>\n",
       "    <tr>\n",
       "      <th>0</th>\n",
       "      <td>2019-01-01 00:00:00</td>\n",
       "      <td>10</td>\n",
       "      <td>Jackie</td>\n",
       "      <td>NaN</td>\n",
       "    </tr>\n",
       "    <tr>\n",
       "      <th>1</th>\n",
       "      <td>2019-01-01 01:00:00</td>\n",
       "      <td>10</td>\n",
       "      <td>Jackie</td>\n",
       "      <td>10.0</td>\n",
       "    </tr>\n",
       "    <tr>\n",
       "      <th>2</th>\n",
       "      <td>2019-01-01 02:00:00</td>\n",
       "      <td>10</td>\n",
       "      <td>Jackie</td>\n",
       "      <td>10.0</td>\n",
       "    </tr>\n",
       "    <tr>\n",
       "      <th>3</th>\n",
       "      <td>2019-01-01 03:00:00</td>\n",
       "      <td>10</td>\n",
       "      <td>Jackie</td>\n",
       "      <td>10.0</td>\n",
       "    </tr>\n",
       "    <tr>\n",
       "      <th>4</th>\n",
       "      <td>2019-09-01 02:00:00</td>\n",
       "      <td>12</td>\n",
       "      <td>Zoop</td>\n",
       "      <td>10.0</td>\n",
       "    </tr>\n",
       "    <tr>\n",
       "      <th>5</th>\n",
       "      <td>2019-09-01 03:00:00</td>\n",
       "      <td>12</td>\n",
       "      <td>Zoop</td>\n",
       "      <td>12.0</td>\n",
       "    </tr>\n",
       "    <tr>\n",
       "      <th>6</th>\n",
       "      <td>2019-09-01 04:00:00</td>\n",
       "      <td>12</td>\n",
       "      <td>Zoop</td>\n",
       "      <td>12.0</td>\n",
       "    </tr>\n",
       "    <tr>\n",
       "      <th>7</th>\n",
       "      <td>2019-09-01 05:00:00</td>\n",
       "      <td>12</td>\n",
       "      <td>Zoop</td>\n",
       "      <td>12.0</td>\n",
       "    </tr>\n",
       "  </tbody>\n",
       "</table>\n",
       "</div>"
      ],
      "text/plain": [
       "                  date  value      ID    xx\n",
       "0  2019-01-01 00:00:00     10  Jackie   NaN\n",
       "1  2019-01-01 01:00:00     10  Jackie  10.0\n",
       "2  2019-01-01 02:00:00     10  Jackie  10.0\n",
       "3  2019-01-01 03:00:00     10  Jackie  10.0\n",
       "4  2019-09-01 02:00:00     12    Zoop  10.0\n",
       "5  2019-09-01 03:00:00     12    Zoop  12.0\n",
       "6  2019-09-01 04:00:00     12    Zoop  12.0\n",
       "7  2019-09-01 05:00:00     12    Zoop  12.0"
      ]
     },
     "execution_count": 6,
     "metadata": {},
     "output_type": "execute_result"
    }
   ],
   "source": [
    "import pandas as pd \n",
    "df = pd.DataFrame([['2019-01-01 00:00:00', 10, \"Jackie\"],\n",
    "['2019-01-01 01:00:00', 10, \"Jackie\"],\n",
    "['2019-01-01 02:00:00', 10, \"Jackie\"],\n",
    "['2019-01-01 03:00:00', 10, \"Jackie\"],\n",
    "['2019-09-01 02:00:00', 12, \"Zoop\"],\n",
    "['2019-09-01 03:00:00', 12, \"Zoop\"],\n",
    "['2019-09-01 04:00:00', 12, \"Zoop\"],\n",
    "['2019-09-01 05:00:00', 12, \"Zoop\"]],columns = [\"date\", \"value\", \"ID\"])\n",
    "df['xx'] = df['value'].shift(1)\n",
    "df"
   ]
  },
  {
   "cell_type": "code",
   "execution_count": 7,
   "metadata": {},
   "outputs": [],
   "source": [
    "file1 = open('ZSSAMHSABupPhysicians_Data.txt', 'r') \n",
    "lines = file1.readlines()"
   ]
  },
  {
   "cell_type": "code",
   "execution_count": 44,
   "metadata": {},
   "outputs": [],
   "source": [
    "arr = []\n",
    "arr.append(\"|\".join([\"Name\",\"idk\",\"address\",\"City\",\"State_ZIP\",\"County\",\"Phone\",\"Y\",\"X\"]) )\n",
    "for line in lines:\n",
    "    splitted = line.split(\",\")\n",
    "    X = splitted.pop()\n",
    "    Y = splitted.pop()\n",
    "    Phone = splitted.pop()\n",
    "    City = splitted.pop()\n",
    "    State_ZIP = splitted.pop()\n",
    "    County = splitted.pop()\n",
    "    idk = splitted [1]\n",
    "    Name = splitted[0]\n",
    "    address = \" \".join(splitted [2:])\n",
    "#     print (splitted)\n",
    "    final = \"|\".join([Name,idk,address,City,State_ZIP,County,Phone,Y,X])\n",
    "    arr.append(final)"
   ]
  },
  {
   "cell_type": "code",
   "execution_count": 45,
   "metadata": {},
   "outputs": [],
   "source": [
    "arr\n",
    "pd.DataFrame(arr).to_csv(\"file1.csv\")"
   ]
  },
  {
   "cell_type": "code",
   "execution_count": null,
   "metadata": {},
   "outputs": [],
   "source": []
  }
 ],
 "metadata": {
  "kernelspec": {
   "display_name": "Python 3",
   "language": "python",
   "name": "python3"
  },
  "language_info": {
   "codemirror_mode": {
    "name": "ipython",
    "version": 3
   },
   "file_extension": ".py",
   "mimetype": "text/x-python",
   "name": "python",
   "nbconvert_exporter": "python",
   "pygments_lexer": "ipython3",
   "version": "3.7.4"
  }
 },
 "nbformat": 4,
 "nbformat_minor": 2
}
